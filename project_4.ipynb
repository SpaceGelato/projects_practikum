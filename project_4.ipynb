{
 "cells": [
  {
   "cell_type": "markdown",
   "id": "9043e90a",
   "metadata": {},
   "source": [
    " ## Сборный проект"
   ]
  },
  {
   "cell_type": "markdown",
   "id": "398aad3a",
   "metadata": {},
   "source": [
    "Мы работаем  в интернет-магазине, который продаёт по всему миру компьютерные игры. Из открытых источников доступны исторические данные о продажах игр, оценки пользователей и экспертов, жанры и платформы (например, Xbox или PlayStation). Нам нужно выявить определяющие успешность игры закономерности. Это позволит сделать ставку на потенциально популярный продукт и спланировать рекламные кампании."
   ]
  },
  {
   "cell_type": "markdown",
   "id": "020e6359",
   "metadata": {},
   "source": [
    "Изучим данные, переданные нам для работы и загрузим необходимые библиотеки. Поправим наименования колонок, изменим типы данных на корректные, заполним пропуски."
   ]
  },
  {
   "cell_type": "code",
   "execution_count": 1,
   "id": "0288ac43",
   "metadata": {},
   "outputs": [],
   "source": [
    "import pandas as pd\n",
    "import matplotlib.pyplot as plt\n",
    "import seaborn as sns\n",
    "from scipy import stats as st"
   ]
  },
  {
   "cell_type": "markdown",
   "id": "53c5e1e1",
   "metadata": {},
   "source": [
    "Считаем файл и сохраним его в соответствующем датасете"
   ]
  },
  {
   "cell_type": "code",
   "execution_count": 2,
   "id": "1364d6a2",
   "metadata": {},
   "outputs": [],
   "source": [
    "try:\n",
    "    games = pd.read_csv('/datasets/games.csv')\n",
    "except:\n",
    "    games = pd.read_csv('/Users/romanvasyliev/Downloads/games.csv')"
   ]
  },
  {
   "cell_type": "markdown",
   "id": "acf74ae0",
   "metadata": {},
   "source": [
    "### Проверка данных"
   ]
  },
  {
   "cell_type": "code",
   "execution_count": 3,
   "id": "1747f67f",
   "metadata": {},
   "outputs": [
    {
     "data": {
      "text/html": [
       "<div>\n",
       "<style scoped>\n",
       "    .dataframe tbody tr th:only-of-type {\n",
       "        vertical-align: middle;\n",
       "    }\n",
       "\n",
       "    .dataframe tbody tr th {\n",
       "        vertical-align: top;\n",
       "    }\n",
       "\n",
       "    .dataframe thead th {\n",
       "        text-align: right;\n",
       "    }\n",
       "</style>\n",
       "<table border=\"1\" class=\"dataframe\">\n",
       "  <thead>\n",
       "    <tr style=\"text-align: right;\">\n",
       "      <th></th>\n",
       "      <th>Name</th>\n",
       "      <th>Platform</th>\n",
       "      <th>Year_of_Release</th>\n",
       "      <th>Genre</th>\n",
       "      <th>NA_sales</th>\n",
       "      <th>EU_sales</th>\n",
       "      <th>JP_sales</th>\n",
       "      <th>Other_sales</th>\n",
       "      <th>Critic_Score</th>\n",
       "      <th>User_Score</th>\n",
       "      <th>Rating</th>\n",
       "    </tr>\n",
       "  </thead>\n",
       "  <tbody>\n",
       "    <tr>\n",
       "      <th>0</th>\n",
       "      <td>Wii Sports</td>\n",
       "      <td>Wii</td>\n",
       "      <td>2006.0</td>\n",
       "      <td>Sports</td>\n",
       "      <td>41.36</td>\n",
       "      <td>28.96</td>\n",
       "      <td>3.77</td>\n",
       "      <td>8.45</td>\n",
       "      <td>76.0</td>\n",
       "      <td>8</td>\n",
       "      <td>E</td>\n",
       "    </tr>\n",
       "    <tr>\n",
       "      <th>1</th>\n",
       "      <td>Super Mario Bros.</td>\n",
       "      <td>NES</td>\n",
       "      <td>1985.0</td>\n",
       "      <td>Platform</td>\n",
       "      <td>29.08</td>\n",
       "      <td>3.58</td>\n",
       "      <td>6.81</td>\n",
       "      <td>0.77</td>\n",
       "      <td>NaN</td>\n",
       "      <td>NaN</td>\n",
       "      <td>NaN</td>\n",
       "    </tr>\n",
       "    <tr>\n",
       "      <th>2</th>\n",
       "      <td>Mario Kart Wii</td>\n",
       "      <td>Wii</td>\n",
       "      <td>2008.0</td>\n",
       "      <td>Racing</td>\n",
       "      <td>15.68</td>\n",
       "      <td>12.76</td>\n",
       "      <td>3.79</td>\n",
       "      <td>3.29</td>\n",
       "      <td>82.0</td>\n",
       "      <td>8.3</td>\n",
       "      <td>E</td>\n",
       "    </tr>\n",
       "    <tr>\n",
       "      <th>3</th>\n",
       "      <td>Wii Sports Resort</td>\n",
       "      <td>Wii</td>\n",
       "      <td>2009.0</td>\n",
       "      <td>Sports</td>\n",
       "      <td>15.61</td>\n",
       "      <td>10.93</td>\n",
       "      <td>3.28</td>\n",
       "      <td>2.95</td>\n",
       "      <td>80.0</td>\n",
       "      <td>8</td>\n",
       "      <td>E</td>\n",
       "    </tr>\n",
       "    <tr>\n",
       "      <th>4</th>\n",
       "      <td>Pokemon Red/Pokemon Blue</td>\n",
       "      <td>GB</td>\n",
       "      <td>1996.0</td>\n",
       "      <td>Role-Playing</td>\n",
       "      <td>11.27</td>\n",
       "      <td>8.89</td>\n",
       "      <td>10.22</td>\n",
       "      <td>1.00</td>\n",
       "      <td>NaN</td>\n",
       "      <td>NaN</td>\n",
       "      <td>NaN</td>\n",
       "    </tr>\n",
       "  </tbody>\n",
       "</table>\n",
       "</div>"
      ],
      "text/plain": [
       "                       Name Platform  Year_of_Release         Genre  NA_sales  \\\n",
       "0                Wii Sports      Wii           2006.0        Sports     41.36   \n",
       "1         Super Mario Bros.      NES           1985.0      Platform     29.08   \n",
       "2            Mario Kart Wii      Wii           2008.0        Racing     15.68   \n",
       "3         Wii Sports Resort      Wii           2009.0        Sports     15.61   \n",
       "4  Pokemon Red/Pokemon Blue       GB           1996.0  Role-Playing     11.27   \n",
       "\n",
       "   EU_sales  JP_sales  Other_sales  Critic_Score User_Score Rating  \n",
       "0     28.96      3.77         8.45          76.0          8      E  \n",
       "1      3.58      6.81         0.77           NaN        NaN    NaN  \n",
       "2     12.76      3.79         3.29          82.0        8.3      E  \n",
       "3     10.93      3.28         2.95          80.0          8      E  \n",
       "4      8.89     10.22         1.00           NaN        NaN    NaN  "
      ]
     },
     "execution_count": 3,
     "metadata": {},
     "output_type": "execute_result"
    }
   ],
   "source": [
    "games.head()"
   ]
  },
  {
   "cell_type": "markdown",
   "id": "31f5d107",
   "metadata": {},
   "source": [
    "Выясним долю отсутствующих даных"
   ]
  },
  {
   "cell_type": "code",
   "execution_count": 4,
   "id": "3c402672",
   "metadata": {},
   "outputs": [
    {
     "data": {
      "text/plain": [
       "Name               0.000120\n",
       "Platform           0.000000\n",
       "Year_of_Release    0.016093\n",
       "Genre              0.000120\n",
       "NA_sales           0.000000\n",
       "EU_sales           0.000000\n",
       "JP_sales           0.000000\n",
       "Other_sales        0.000000\n",
       "Critic_Score       0.513192\n",
       "User_Score         0.400897\n",
       "Rating             0.404786\n",
       "dtype: float64"
      ]
     },
     "execution_count": 4,
     "metadata": {},
     "output_type": "execute_result"
    }
   ],
   "source": [
    "games.isna().mean()"
   ]
  },
  {
   "cell_type": "markdown",
   "id": "916e6978",
   "metadata": {},
   "source": [
    "Как видим данные оценок пользователей, критиков и рейтинги игр заполнены на 50%-60%, остальные данные в наличии в достаточном количестве. Посмотрим  какие значения содержатся в датасете, типы данных и наименования столбцов."
   ]
  },
  {
   "cell_type": "code",
   "execution_count": 5,
   "id": "8cb75139",
   "metadata": {},
   "outputs": [
    {
     "name": "stdout",
     "output_type": "stream",
     "text": [
      "<class 'pandas.core.frame.DataFrame'>\n",
      "RangeIndex: 16715 entries, 0 to 16714\n",
      "Data columns (total 11 columns):\n",
      " #   Column           Non-Null Count  Dtype  \n",
      "---  ------           --------------  -----  \n",
      " 0   Name             16713 non-null  object \n",
      " 1   Platform         16715 non-null  object \n",
      " 2   Year_of_Release  16446 non-null  float64\n",
      " 3   Genre            16713 non-null  object \n",
      " 4   NA_sales         16715 non-null  float64\n",
      " 5   EU_sales         16715 non-null  float64\n",
      " 6   JP_sales         16715 non-null  float64\n",
      " 7   Other_sales      16715 non-null  float64\n",
      " 8   Critic_Score     8137 non-null   float64\n",
      " 9   User_Score       10014 non-null  object \n",
      " 10  Rating           9949 non-null   object \n",
      "dtypes: float64(6), object(5)\n",
      "memory usage: 1.4+ MB\n"
     ]
    }
   ],
   "source": [
    "games.info()"
   ]
  },
  {
   "cell_type": "markdown",
   "id": "21427208",
   "metadata": {},
   "source": [
    "Заметим что наименования столбцов происходят с заглавной буквы, типы данных соответсвуют содержанию, кроме одного столбца User_Score, его значения мы приведем к типу данных float64"
   ]
  },
  {
   "cell_type": "markdown",
   "id": "1e3e184b",
   "metadata": {},
   "source": [
    "### Предобработка данных"
   ]
  },
  {
   "cell_type": "markdown",
   "id": "e18eee4d",
   "metadata": {},
   "source": [
    "Приведем все буквы в названиях столбцов к нижнему регистру"
   ]
  },
  {
   "cell_type": "code",
   "execution_count": 6,
   "id": "9760e0f5",
   "metadata": {},
   "outputs": [],
   "source": [
    "games.columns = games.columns.str.lower()"
   ]
  },
  {
   "cell_type": "markdown",
   "id": "f95c7bf1",
   "metadata": {},
   "source": [
    "Посмотрим на данные по играм с пропущенными значениями например по колонке critic_score"
   ]
  },
  {
   "cell_type": "code",
   "execution_count": 7,
   "id": "4331f2d9",
   "metadata": {},
   "outputs": [
    {
     "data": {
      "text/html": [
       "<div>\n",
       "<style scoped>\n",
       "    .dataframe tbody tr th:only-of-type {\n",
       "        vertical-align: middle;\n",
       "    }\n",
       "\n",
       "    .dataframe tbody tr th {\n",
       "        vertical-align: top;\n",
       "    }\n",
       "\n",
       "    .dataframe thead th {\n",
       "        text-align: right;\n",
       "    }\n",
       "</style>\n",
       "<table border=\"1\" class=\"dataframe\">\n",
       "  <thead>\n",
       "    <tr style=\"text-align: right;\">\n",
       "      <th></th>\n",
       "      <th>name</th>\n",
       "      <th>platform</th>\n",
       "      <th>year_of_release</th>\n",
       "      <th>genre</th>\n",
       "      <th>na_sales</th>\n",
       "      <th>eu_sales</th>\n",
       "      <th>jp_sales</th>\n",
       "      <th>other_sales</th>\n",
       "      <th>critic_score</th>\n",
       "      <th>user_score</th>\n",
       "      <th>rating</th>\n",
       "    </tr>\n",
       "  </thead>\n",
       "  <tbody>\n",
       "    <tr>\n",
       "      <th>1</th>\n",
       "      <td>Super Mario Bros.</td>\n",
       "      <td>NES</td>\n",
       "      <td>1985.0</td>\n",
       "      <td>Platform</td>\n",
       "      <td>29.08</td>\n",
       "      <td>3.58</td>\n",
       "      <td>6.81</td>\n",
       "      <td>0.77</td>\n",
       "      <td>NaN</td>\n",
       "      <td>NaN</td>\n",
       "      <td>NaN</td>\n",
       "    </tr>\n",
       "    <tr>\n",
       "      <th>4</th>\n",
       "      <td>Pokemon Red/Pokemon Blue</td>\n",
       "      <td>GB</td>\n",
       "      <td>1996.0</td>\n",
       "      <td>Role-Playing</td>\n",
       "      <td>11.27</td>\n",
       "      <td>8.89</td>\n",
       "      <td>10.22</td>\n",
       "      <td>1.00</td>\n",
       "      <td>NaN</td>\n",
       "      <td>NaN</td>\n",
       "      <td>NaN</td>\n",
       "    </tr>\n",
       "    <tr>\n",
       "      <th>5</th>\n",
       "      <td>Tetris</td>\n",
       "      <td>GB</td>\n",
       "      <td>1989.0</td>\n",
       "      <td>Puzzle</td>\n",
       "      <td>23.20</td>\n",
       "      <td>2.26</td>\n",
       "      <td>4.22</td>\n",
       "      <td>0.58</td>\n",
       "      <td>NaN</td>\n",
       "      <td>NaN</td>\n",
       "      <td>NaN</td>\n",
       "    </tr>\n",
       "    <tr>\n",
       "      <th>9</th>\n",
       "      <td>Duck Hunt</td>\n",
       "      <td>NES</td>\n",
       "      <td>1984.0</td>\n",
       "      <td>Shooter</td>\n",
       "      <td>26.93</td>\n",
       "      <td>0.63</td>\n",
       "      <td>0.28</td>\n",
       "      <td>0.47</td>\n",
       "      <td>NaN</td>\n",
       "      <td>NaN</td>\n",
       "      <td>NaN</td>\n",
       "    </tr>\n",
       "    <tr>\n",
       "      <th>10</th>\n",
       "      <td>Nintendogs</td>\n",
       "      <td>DS</td>\n",
       "      <td>2005.0</td>\n",
       "      <td>Simulation</td>\n",
       "      <td>9.05</td>\n",
       "      <td>10.95</td>\n",
       "      <td>1.93</td>\n",
       "      <td>2.74</td>\n",
       "      <td>NaN</td>\n",
       "      <td>NaN</td>\n",
       "      <td>NaN</td>\n",
       "    </tr>\n",
       "    <tr>\n",
       "      <th>...</th>\n",
       "      <td>...</td>\n",
       "      <td>...</td>\n",
       "      <td>...</td>\n",
       "      <td>...</td>\n",
       "      <td>...</td>\n",
       "      <td>...</td>\n",
       "      <td>...</td>\n",
       "      <td>...</td>\n",
       "      <td>...</td>\n",
       "      <td>...</td>\n",
       "      <td>...</td>\n",
       "    </tr>\n",
       "    <tr>\n",
       "      <th>16710</th>\n",
       "      <td>Samurai Warriors: Sanada Maru</td>\n",
       "      <td>PS3</td>\n",
       "      <td>2016.0</td>\n",
       "      <td>Action</td>\n",
       "      <td>0.00</td>\n",
       "      <td>0.00</td>\n",
       "      <td>0.01</td>\n",
       "      <td>0.00</td>\n",
       "      <td>NaN</td>\n",
       "      <td>NaN</td>\n",
       "      <td>NaN</td>\n",
       "    </tr>\n",
       "    <tr>\n",
       "      <th>16711</th>\n",
       "      <td>LMA Manager 2007</td>\n",
       "      <td>X360</td>\n",
       "      <td>2006.0</td>\n",
       "      <td>Sports</td>\n",
       "      <td>0.00</td>\n",
       "      <td>0.01</td>\n",
       "      <td>0.00</td>\n",
       "      <td>0.00</td>\n",
       "      <td>NaN</td>\n",
       "      <td>NaN</td>\n",
       "      <td>NaN</td>\n",
       "    </tr>\n",
       "    <tr>\n",
       "      <th>16712</th>\n",
       "      <td>Haitaka no Psychedelica</td>\n",
       "      <td>PSV</td>\n",
       "      <td>2016.0</td>\n",
       "      <td>Adventure</td>\n",
       "      <td>0.00</td>\n",
       "      <td>0.00</td>\n",
       "      <td>0.01</td>\n",
       "      <td>0.00</td>\n",
       "      <td>NaN</td>\n",
       "      <td>NaN</td>\n",
       "      <td>NaN</td>\n",
       "    </tr>\n",
       "    <tr>\n",
       "      <th>16713</th>\n",
       "      <td>Spirits &amp; Spells</td>\n",
       "      <td>GBA</td>\n",
       "      <td>2003.0</td>\n",
       "      <td>Platform</td>\n",
       "      <td>0.01</td>\n",
       "      <td>0.00</td>\n",
       "      <td>0.00</td>\n",
       "      <td>0.00</td>\n",
       "      <td>NaN</td>\n",
       "      <td>NaN</td>\n",
       "      <td>NaN</td>\n",
       "    </tr>\n",
       "    <tr>\n",
       "      <th>16714</th>\n",
       "      <td>Winning Post 8 2016</td>\n",
       "      <td>PSV</td>\n",
       "      <td>2016.0</td>\n",
       "      <td>Simulation</td>\n",
       "      <td>0.00</td>\n",
       "      <td>0.00</td>\n",
       "      <td>0.01</td>\n",
       "      <td>0.00</td>\n",
       "      <td>NaN</td>\n",
       "      <td>NaN</td>\n",
       "      <td>NaN</td>\n",
       "    </tr>\n",
       "  </tbody>\n",
       "</table>\n",
       "<p>8578 rows × 11 columns</p>\n",
       "</div>"
      ],
      "text/plain": [
       "                                name platform  year_of_release         genre  \\\n",
       "1                  Super Mario Bros.      NES           1985.0      Platform   \n",
       "4           Pokemon Red/Pokemon Blue       GB           1996.0  Role-Playing   \n",
       "5                             Tetris       GB           1989.0        Puzzle   \n",
       "9                          Duck Hunt      NES           1984.0       Shooter   \n",
       "10                        Nintendogs       DS           2005.0    Simulation   \n",
       "...                              ...      ...              ...           ...   \n",
       "16710  Samurai Warriors: Sanada Maru      PS3           2016.0        Action   \n",
       "16711               LMA Manager 2007     X360           2006.0        Sports   \n",
       "16712        Haitaka no Psychedelica      PSV           2016.0     Adventure   \n",
       "16713               Spirits & Spells      GBA           2003.0      Platform   \n",
       "16714            Winning Post 8 2016      PSV           2016.0    Simulation   \n",
       "\n",
       "       na_sales  eu_sales  jp_sales  other_sales  critic_score user_score  \\\n",
       "1         29.08      3.58      6.81         0.77           NaN        NaN   \n",
       "4         11.27      8.89     10.22         1.00           NaN        NaN   \n",
       "5         23.20      2.26      4.22         0.58           NaN        NaN   \n",
       "9         26.93      0.63      0.28         0.47           NaN        NaN   \n",
       "10         9.05     10.95      1.93         2.74           NaN        NaN   \n",
       "...         ...       ...       ...          ...           ...        ...   \n",
       "16710      0.00      0.00      0.01         0.00           NaN        NaN   \n",
       "16711      0.00      0.01      0.00         0.00           NaN        NaN   \n",
       "16712      0.00      0.00      0.01         0.00           NaN        NaN   \n",
       "16713      0.01      0.00      0.00         0.00           NaN        NaN   \n",
       "16714      0.00      0.00      0.01         0.00           NaN        NaN   \n",
       "\n",
       "      rating  \n",
       "1        NaN  \n",
       "4        NaN  \n",
       "5        NaN  \n",
       "9        NaN  \n",
       "10       NaN  \n",
       "...      ...  \n",
       "16710    NaN  \n",
       "16711    NaN  \n",
       "16712    NaN  \n",
       "16713    NaN  \n",
       "16714    NaN  \n",
       "\n",
       "[8578 rows x 11 columns]"
      ]
     },
     "execution_count": 7,
     "metadata": {},
     "output_type": "execute_result"
    }
   ],
   "source": [
    "games[games['critic_score'].isna()]"
   ]
  },
  {
   "cell_type": "markdown",
   "id": "85b8c5d9",
   "metadata": {},
   "source": [
    "Очень много отсутствующих значений в играх не только старых, по году выпуска, но и достаточно новых. Данные пропущены по столбцам оценок и пользователей и критиков и рейтингу, в тоже время по этим играм присутствуют остальные данные, продажи в различных регионах,годы выпуска, жанр и рейтинг. Мы не можем удалить такие данные, так же как и применить среднее значение или медиану, все игры уникальные и заменив значения мы можем исказить статистику, поэтому будем заменять данные с пропусками на индикаторное значение -1, которое в процессе исключать из анализа."
   ]
  },
  {
   "cell_type": "code",
   "execution_count": 8,
   "id": "d50d87cd",
   "metadata": {},
   "outputs": [],
   "source": [
    "games['critic_score'] = games['critic_score'].fillna(-1)\n",
    "games['user_score'] = games['user_score'].fillna(-1)\n",
    "games['rating'] = games['rating'].fillna(-1)"
   ]
  },
  {
   "cell_type": "markdown",
   "id": "df3802ae",
   "metadata": {},
   "source": [
    "Проверим какие уникальные значения содержатся в данных по рейтингам"
   ]
  },
  {
   "cell_type": "code",
   "execution_count": 9,
   "id": "270c0d00",
   "metadata": {},
   "outputs": [
    {
     "data": {
      "text/plain": [
       "array([76., -1., 82., 80., 89., 58., 87., 91., 61., 97., 95., 77., 88.,\n",
       "       83., 94., 93., 85., 86., 98., 96., 90., 84., 73., 74., 78., 92.,\n",
       "       71., 72., 68., 62., 49., 67., 81., 66., 56., 79., 70., 59., 64.,\n",
       "       75., 60., 63., 69., 50., 25., 42., 44., 55., 48., 57., 29., 47.,\n",
       "       65., 54., 20., 53., 37., 38., 33., 52., 30., 32., 43., 45., 51.,\n",
       "       40., 46., 39., 34., 35., 41., 36., 28., 31., 27., 26., 19., 23.,\n",
       "       24., 21., 17., 22., 13.])"
      ]
     },
     "execution_count": 9,
     "metadata": {},
     "output_type": "execute_result"
    }
   ],
   "source": [
    "games['critic_score'].unique()"
   ]
  },
  {
   "cell_type": "code",
   "execution_count": 10,
   "id": "0fcc1d3a",
   "metadata": {},
   "outputs": [
    {
     "data": {
      "text/plain": [
       "array(['8', -1, '8.3', '8.5', '6.6', '8.4', '8.6', '7.7', '6.3', '7.4',\n",
       "       '8.2', '9', '7.9', '8.1', '8.7', '7.1', '3.4', '5.3', '4.8', '3.2',\n",
       "       '8.9', '6.4', '7.8', '7.5', '2.6', '7.2', '9.2', '7', '7.3', '4.3',\n",
       "       '7.6', '5.7', '5', '9.1', '6.5', 'tbd', '8.8', '6.9', '9.4', '6.8',\n",
       "       '6.1', '6.7', '5.4', '4', '4.9', '4.5', '9.3', '6.2', '4.2', '6',\n",
       "       '3.7', '4.1', '5.8', '5.6', '5.5', '4.4', '4.6', '5.9', '3.9',\n",
       "       '3.1', '2.9', '5.2', '3.3', '4.7', '5.1', '3.5', '2.5', '1.9', '3',\n",
       "       '2.7', '2.2', '2', '9.5', '2.1', '3.6', '2.8', '1.8', '3.8', '0',\n",
       "       '1.6', '9.6', '2.4', '1.7', '1.1', '0.3', '1.5', '0.7', '1.2',\n",
       "       '2.3', '0.5', '1.3', '0.2', '0.6', '1.4', '0.9', '1', '9.7'],\n",
       "      dtype=object)"
      ]
     },
     "execution_count": 10,
     "metadata": {},
     "output_type": "execute_result"
    }
   ],
   "source": [
    "games['user_score'].unique()"
   ]
  },
  {
   "cell_type": "code",
   "execution_count": 11,
   "id": "8ad5e7d0",
   "metadata": {},
   "outputs": [
    {
     "data": {
      "text/plain": [
       "array(['E', -1, 'M', 'T', 'E10+', 'K-A', 'AO', 'EC', 'RP'], dtype=object)"
      ]
     },
     "execution_count": 11,
     "metadata": {},
     "output_type": "execute_result"
    }
   ],
   "source": [
    "games['rating'].unique()"
   ]
  },
  {
   "cell_type": "markdown",
   "id": "020706a5",
   "metadata": {},
   "source": [
    "В данных пользовательских оценок есть значение 'tbd', погуглив можно узнать, что такое значение ставится для игр, у которых меньше 4 оценок пользователей. Пользователи не всегда охотно оставляют отзывы и проставляют рейтинги играм, а для не сильно популярных игр или жанров статистика получения обратной связи еще хуже, а если игра выходит на платформе, на которой не было возможности ставить рейтинг или эта игра вышла когда платфора теряла свою популярность, вариантов отсутствуюших значений оценок много, и чтобы данные по оценкам были корректными скорее всего ввели такое ограничение - 4 оценки чтобы получить средний рейтинг для игры. "
   ]
  },
  {
   "cell_type": "markdown",
   "id": "e6aecb49",
   "metadata": {},
   "source": [
    "Причиной пропусков могут быть разные вещи, например год образования рейтингового агентства позже выхода игр, или в эти игры уже давно не играют, или же пользователи не посещают данный сайт с отзывами, у японских игроков наверняка есть свои рейтинговые агентства "
   ]
  },
  {
   "cell_type": "code",
   "execution_count": 12,
   "id": "6988798e",
   "metadata": {},
   "outputs": [
    {
     "data": {
      "text/html": [
       "<div>\n",
       "<style scoped>\n",
       "    .dataframe tbody tr th:only-of-type {\n",
       "        vertical-align: middle;\n",
       "    }\n",
       "\n",
       "    .dataframe tbody tr th {\n",
       "        vertical-align: top;\n",
       "    }\n",
       "\n",
       "    .dataframe thead th {\n",
       "        text-align: right;\n",
       "    }\n",
       "</style>\n",
       "<table border=\"1\" class=\"dataframe\">\n",
       "  <thead>\n",
       "    <tr style=\"text-align: right;\">\n",
       "      <th></th>\n",
       "      <th>name</th>\n",
       "      <th>platform</th>\n",
       "      <th>year_of_release</th>\n",
       "      <th>genre</th>\n",
       "      <th>na_sales</th>\n",
       "      <th>eu_sales</th>\n",
       "      <th>jp_sales</th>\n",
       "      <th>other_sales</th>\n",
       "      <th>critic_score</th>\n",
       "      <th>user_score</th>\n",
       "      <th>rating</th>\n",
       "    </tr>\n",
       "  </thead>\n",
       "  <tbody>\n",
       "    <tr>\n",
       "      <th>119</th>\n",
       "      <td>Zumba Fitness</td>\n",
       "      <td>Wii</td>\n",
       "      <td>2010.0</td>\n",
       "      <td>Sports</td>\n",
       "      <td>3.45</td>\n",
       "      <td>2.59</td>\n",
       "      <td>0.0</td>\n",
       "      <td>0.66</td>\n",
       "      <td>-1.0</td>\n",
       "      <td>tbd</td>\n",
       "      <td>E</td>\n",
       "    </tr>\n",
       "    <tr>\n",
       "      <th>301</th>\n",
       "      <td>Namco Museum: 50th Anniversary</td>\n",
       "      <td>PS2</td>\n",
       "      <td>2005.0</td>\n",
       "      <td>Misc</td>\n",
       "      <td>2.08</td>\n",
       "      <td>1.35</td>\n",
       "      <td>0.0</td>\n",
       "      <td>0.54</td>\n",
       "      <td>61.0</td>\n",
       "      <td>tbd</td>\n",
       "      <td>E10+</td>\n",
       "    </tr>\n",
       "    <tr>\n",
       "      <th>520</th>\n",
       "      <td>Zumba Fitness 2</td>\n",
       "      <td>Wii</td>\n",
       "      <td>2011.0</td>\n",
       "      <td>Sports</td>\n",
       "      <td>1.51</td>\n",
       "      <td>1.03</td>\n",
       "      <td>0.0</td>\n",
       "      <td>0.27</td>\n",
       "      <td>-1.0</td>\n",
       "      <td>tbd</td>\n",
       "      <td>T</td>\n",
       "    </tr>\n",
       "    <tr>\n",
       "      <th>645</th>\n",
       "      <td>uDraw Studio</td>\n",
       "      <td>Wii</td>\n",
       "      <td>2010.0</td>\n",
       "      <td>Misc</td>\n",
       "      <td>1.65</td>\n",
       "      <td>0.57</td>\n",
       "      <td>0.0</td>\n",
       "      <td>0.20</td>\n",
       "      <td>71.0</td>\n",
       "      <td>tbd</td>\n",
       "      <td>E</td>\n",
       "    </tr>\n",
       "    <tr>\n",
       "      <th>657</th>\n",
       "      <td>Frogger's Adventures: Temple of the Frog</td>\n",
       "      <td>GBA</td>\n",
       "      <td>NaN</td>\n",
       "      <td>Adventure</td>\n",
       "      <td>2.15</td>\n",
       "      <td>0.18</td>\n",
       "      <td>0.0</td>\n",
       "      <td>0.07</td>\n",
       "      <td>73.0</td>\n",
       "      <td>tbd</td>\n",
       "      <td>E</td>\n",
       "    </tr>\n",
       "    <tr>\n",
       "      <th>...</th>\n",
       "      <td>...</td>\n",
       "      <td>...</td>\n",
       "      <td>...</td>\n",
       "      <td>...</td>\n",
       "      <td>...</td>\n",
       "      <td>...</td>\n",
       "      <td>...</td>\n",
       "      <td>...</td>\n",
       "      <td>...</td>\n",
       "      <td>...</td>\n",
       "      <td>...</td>\n",
       "    </tr>\n",
       "    <tr>\n",
       "      <th>16695</th>\n",
       "      <td>Planet Monsters</td>\n",
       "      <td>GBA</td>\n",
       "      <td>2001.0</td>\n",
       "      <td>Action</td>\n",
       "      <td>0.01</td>\n",
       "      <td>0.00</td>\n",
       "      <td>0.0</td>\n",
       "      <td>0.00</td>\n",
       "      <td>67.0</td>\n",
       "      <td>tbd</td>\n",
       "      <td>E</td>\n",
       "    </tr>\n",
       "    <tr>\n",
       "      <th>16697</th>\n",
       "      <td>Bust-A-Move 3000</td>\n",
       "      <td>GC</td>\n",
       "      <td>2003.0</td>\n",
       "      <td>Puzzle</td>\n",
       "      <td>0.01</td>\n",
       "      <td>0.00</td>\n",
       "      <td>0.0</td>\n",
       "      <td>0.00</td>\n",
       "      <td>53.0</td>\n",
       "      <td>tbd</td>\n",
       "      <td>E</td>\n",
       "    </tr>\n",
       "    <tr>\n",
       "      <th>16698</th>\n",
       "      <td>Mega Brain Boost</td>\n",
       "      <td>DS</td>\n",
       "      <td>2008.0</td>\n",
       "      <td>Puzzle</td>\n",
       "      <td>0.01</td>\n",
       "      <td>0.00</td>\n",
       "      <td>0.0</td>\n",
       "      <td>0.00</td>\n",
       "      <td>48.0</td>\n",
       "      <td>tbd</td>\n",
       "      <td>E</td>\n",
       "    </tr>\n",
       "    <tr>\n",
       "      <th>16704</th>\n",
       "      <td>Plushees</td>\n",
       "      <td>DS</td>\n",
       "      <td>2008.0</td>\n",
       "      <td>Simulation</td>\n",
       "      <td>0.01</td>\n",
       "      <td>0.00</td>\n",
       "      <td>0.0</td>\n",
       "      <td>0.00</td>\n",
       "      <td>-1.0</td>\n",
       "      <td>tbd</td>\n",
       "      <td>E</td>\n",
       "    </tr>\n",
       "    <tr>\n",
       "      <th>16706</th>\n",
       "      <td>Men in Black II: Alien Escape</td>\n",
       "      <td>GC</td>\n",
       "      <td>2003.0</td>\n",
       "      <td>Shooter</td>\n",
       "      <td>0.01</td>\n",
       "      <td>0.00</td>\n",
       "      <td>0.0</td>\n",
       "      <td>0.00</td>\n",
       "      <td>-1.0</td>\n",
       "      <td>tbd</td>\n",
       "      <td>T</td>\n",
       "    </tr>\n",
       "  </tbody>\n",
       "</table>\n",
       "<p>2424 rows × 11 columns</p>\n",
       "</div>"
      ],
      "text/plain": [
       "                                           name platform  year_of_release  \\\n",
       "119                               Zumba Fitness      Wii           2010.0   \n",
       "301              Namco Museum: 50th Anniversary      PS2           2005.0   \n",
       "520                             Zumba Fitness 2      Wii           2011.0   \n",
       "645                                uDraw Studio      Wii           2010.0   \n",
       "657    Frogger's Adventures: Temple of the Frog      GBA              NaN   \n",
       "...                                         ...      ...              ...   \n",
       "16695                           Planet Monsters      GBA           2001.0   \n",
       "16697                          Bust-A-Move 3000       GC           2003.0   \n",
       "16698                          Mega Brain Boost       DS           2008.0   \n",
       "16704                                  Plushees       DS           2008.0   \n",
       "16706             Men in Black II: Alien Escape       GC           2003.0   \n",
       "\n",
       "            genre  na_sales  eu_sales  jp_sales  other_sales  critic_score  \\\n",
       "119        Sports      3.45      2.59       0.0         0.66          -1.0   \n",
       "301          Misc      2.08      1.35       0.0         0.54          61.0   \n",
       "520        Sports      1.51      1.03       0.0         0.27          -1.0   \n",
       "645          Misc      1.65      0.57       0.0         0.20          71.0   \n",
       "657     Adventure      2.15      0.18       0.0         0.07          73.0   \n",
       "...           ...       ...       ...       ...          ...           ...   \n",
       "16695      Action      0.01      0.00       0.0         0.00          67.0   \n",
       "16697      Puzzle      0.01      0.00       0.0         0.00          53.0   \n",
       "16698      Puzzle      0.01      0.00       0.0         0.00          48.0   \n",
       "16704  Simulation      0.01      0.00       0.0         0.00          -1.0   \n",
       "16706     Shooter      0.01      0.00       0.0         0.00          -1.0   \n",
       "\n",
       "      user_score rating  \n",
       "119          tbd      E  \n",
       "301          tbd   E10+  \n",
       "520          tbd      T  \n",
       "645          tbd      E  \n",
       "657          tbd      E  \n",
       "...          ...    ...  \n",
       "16695        tbd      E  \n",
       "16697        tbd      E  \n",
       "16698        tbd      E  \n",
       "16704        tbd      E  \n",
       "16706        tbd      T  \n",
       "\n",
       "[2424 rows x 11 columns]"
      ]
     },
     "execution_count": 12,
     "metadata": {},
     "output_type": "execute_result"
    }
   ],
   "source": [
    "games[games['user_score']=='tbd']"
   ]
  },
  {
   "cell_type": "markdown",
   "id": "96df9cf8",
   "metadata": {},
   "source": [
    "Сохраним в датасет tbd данные с  ['user_score']=='tbd', вполне возможно они нам пригодятся в будущем"
   ]
  },
  {
   "cell_type": "code",
   "execution_count": 13,
   "id": "41ef3830",
   "metadata": {},
   "outputs": [],
   "source": [
    "tbd = games[games['user_score']=='tbd']"
   ]
  },
  {
   "cell_type": "markdown",
   "id": "5ac6212b",
   "metadata": {},
   "source": [
    "Удалить или заменить такие значения мы так же не можем - заменим tbd каким-нибудь индикаторных значением -1. И приведем тип данных к корректному"
   ]
  },
  {
   "cell_type": "code",
   "execution_count": 14,
   "id": "15c282de",
   "metadata": {},
   "outputs": [],
   "source": [
    "games['user_score'] = games['user_score'].replace('tbd' , -1)\n",
    "games['user_score'] = games['user_score'].astype('float64')"
   ]
  },
  {
   "cell_type": "markdown",
   "id": "11fe9b82",
   "metadata": {},
   "source": [
    "Посмотрим на уникальные значения по столбцам genre, platform и пропуски в name"
   ]
  },
  {
   "cell_type": "code",
   "execution_count": 15,
   "id": "4037f84e",
   "metadata": {},
   "outputs": [
    {
     "data": {
      "text/plain": [
       "array(['Sports', 'Platform', 'Racing', 'Role-Playing', 'Puzzle', 'Misc',\n",
       "       'Shooter', 'Simulation', 'Action', 'Fighting', 'Adventure',\n",
       "       'Strategy', nan], dtype=object)"
      ]
     },
     "execution_count": 15,
     "metadata": {},
     "output_type": "execute_result"
    }
   ],
   "source": [
    "games['genre'].unique()"
   ]
  },
  {
   "cell_type": "markdown",
   "id": "ebdc1f27",
   "metadata": {},
   "source": [
    "Есть пропуски, посмотрим сколько их"
   ]
  },
  {
   "cell_type": "code",
   "execution_count": 16,
   "id": "112b0809",
   "metadata": {},
   "outputs": [
    {
     "data": {
      "text/html": [
       "<div>\n",
       "<style scoped>\n",
       "    .dataframe tbody tr th:only-of-type {\n",
       "        vertical-align: middle;\n",
       "    }\n",
       "\n",
       "    .dataframe tbody tr th {\n",
       "        vertical-align: top;\n",
       "    }\n",
       "\n",
       "    .dataframe thead th {\n",
       "        text-align: right;\n",
       "    }\n",
       "</style>\n",
       "<table border=\"1\" class=\"dataframe\">\n",
       "  <thead>\n",
       "    <tr style=\"text-align: right;\">\n",
       "      <th></th>\n",
       "      <th>name</th>\n",
       "      <th>platform</th>\n",
       "      <th>year_of_release</th>\n",
       "      <th>genre</th>\n",
       "      <th>na_sales</th>\n",
       "      <th>eu_sales</th>\n",
       "      <th>jp_sales</th>\n",
       "      <th>other_sales</th>\n",
       "      <th>critic_score</th>\n",
       "      <th>user_score</th>\n",
       "      <th>rating</th>\n",
       "    </tr>\n",
       "  </thead>\n",
       "  <tbody>\n",
       "    <tr>\n",
       "      <th>659</th>\n",
       "      <td>NaN</td>\n",
       "      <td>GEN</td>\n",
       "      <td>1993.0</td>\n",
       "      <td>NaN</td>\n",
       "      <td>1.78</td>\n",
       "      <td>0.53</td>\n",
       "      <td>0.00</td>\n",
       "      <td>0.08</td>\n",
       "      <td>-1.0</td>\n",
       "      <td>-1.0</td>\n",
       "      <td>-1</td>\n",
       "    </tr>\n",
       "    <tr>\n",
       "      <th>14244</th>\n",
       "      <td>NaN</td>\n",
       "      <td>GEN</td>\n",
       "      <td>1993.0</td>\n",
       "      <td>NaN</td>\n",
       "      <td>0.00</td>\n",
       "      <td>0.00</td>\n",
       "      <td>0.03</td>\n",
       "      <td>0.00</td>\n",
       "      <td>-1.0</td>\n",
       "      <td>-1.0</td>\n",
       "      <td>-1</td>\n",
       "    </tr>\n",
       "  </tbody>\n",
       "</table>\n",
       "</div>"
      ],
      "text/plain": [
       "      name platform  year_of_release genre  na_sales  eu_sales  jp_sales  \\\n",
       "659    NaN      GEN           1993.0   NaN      1.78      0.53      0.00   \n",
       "14244  NaN      GEN           1993.0   NaN      0.00      0.00      0.03   \n",
       "\n",
       "       other_sales  critic_score  user_score rating  \n",
       "659           0.08          -1.0        -1.0     -1  \n",
       "14244         0.00          -1.0        -1.0     -1  "
      ]
     },
     "execution_count": 16,
     "metadata": {},
     "output_type": "execute_result"
    }
   ],
   "source": [
    "games[games['genre'].isna()]"
   ]
  },
  {
   "cell_type": "code",
   "execution_count": 17,
   "id": "c271dd32",
   "metadata": {},
   "outputs": [
    {
     "data": {
      "text/plain": [
       "array(['Wii', 'NES', 'GB', 'DS', 'X360', 'PS3', 'PS2', 'SNES', 'GBA',\n",
       "       'PS4', '3DS', 'N64', 'PS', 'XB', 'PC', '2600', 'PSP', 'XOne',\n",
       "       'WiiU', 'GC', 'GEN', 'DC', 'PSV', 'SAT', 'SCD', 'WS', 'NG', 'TG16',\n",
       "       '3DO', 'GG', 'PCFX'], dtype=object)"
      ]
     },
     "execution_count": 17,
     "metadata": {},
     "output_type": "execute_result"
    }
   ],
   "source": [
    "games['platform'].unique()"
   ]
  },
  {
   "cell_type": "code",
   "execution_count": 18,
   "id": "3fc77637",
   "metadata": {},
   "outputs": [
    {
     "data": {
      "text/html": [
       "<div>\n",
       "<style scoped>\n",
       "    .dataframe tbody tr th:only-of-type {\n",
       "        vertical-align: middle;\n",
       "    }\n",
       "\n",
       "    .dataframe tbody tr th {\n",
       "        vertical-align: top;\n",
       "    }\n",
       "\n",
       "    .dataframe thead th {\n",
       "        text-align: right;\n",
       "    }\n",
       "</style>\n",
       "<table border=\"1\" class=\"dataframe\">\n",
       "  <thead>\n",
       "    <tr style=\"text-align: right;\">\n",
       "      <th></th>\n",
       "      <th>name</th>\n",
       "      <th>platform</th>\n",
       "      <th>year_of_release</th>\n",
       "      <th>genre</th>\n",
       "      <th>na_sales</th>\n",
       "      <th>eu_sales</th>\n",
       "      <th>jp_sales</th>\n",
       "      <th>other_sales</th>\n",
       "      <th>critic_score</th>\n",
       "      <th>user_score</th>\n",
       "      <th>rating</th>\n",
       "    </tr>\n",
       "  </thead>\n",
       "  <tbody>\n",
       "    <tr>\n",
       "      <th>659</th>\n",
       "      <td>NaN</td>\n",
       "      <td>GEN</td>\n",
       "      <td>1993.0</td>\n",
       "      <td>NaN</td>\n",
       "      <td>1.78</td>\n",
       "      <td>0.53</td>\n",
       "      <td>0.00</td>\n",
       "      <td>0.08</td>\n",
       "      <td>-1.0</td>\n",
       "      <td>-1.0</td>\n",
       "      <td>-1</td>\n",
       "    </tr>\n",
       "    <tr>\n",
       "      <th>14244</th>\n",
       "      <td>NaN</td>\n",
       "      <td>GEN</td>\n",
       "      <td>1993.0</td>\n",
       "      <td>NaN</td>\n",
       "      <td>0.00</td>\n",
       "      <td>0.00</td>\n",
       "      <td>0.03</td>\n",
       "      <td>0.00</td>\n",
       "      <td>-1.0</td>\n",
       "      <td>-1.0</td>\n",
       "      <td>-1</td>\n",
       "    </tr>\n",
       "  </tbody>\n",
       "</table>\n",
       "</div>"
      ],
      "text/plain": [
       "      name platform  year_of_release genre  na_sales  eu_sales  jp_sales  \\\n",
       "659    NaN      GEN           1993.0   NaN      1.78      0.53      0.00   \n",
       "14244  NaN      GEN           1993.0   NaN      0.00      0.00      0.03   \n",
       "\n",
       "       other_sales  critic_score  user_score rating  \n",
       "659           0.08          -1.0        -1.0     -1  \n",
       "14244         0.00          -1.0        -1.0     -1  "
      ]
     },
     "execution_count": 18,
     "metadata": {},
     "output_type": "execute_result"
    }
   ],
   "source": [
    "games[games['name'].isna()]"
   ]
  },
  {
   "cell_type": "code",
   "execution_count": 19,
   "id": "1b632de9",
   "metadata": {},
   "outputs": [
    {
     "data": {
      "text/plain": [
       "array([2006., 1985., 2008., 2009., 1996., 1989., 1984., 2005., 1999.,\n",
       "       2007., 2010., 2013., 2004., 1990., 1988., 2002., 2001., 2011.,\n",
       "       1998., 2015., 2012., 2014., 1992., 1997., 1993., 1994., 1982.,\n",
       "       2016., 2003., 1986., 2000.,   nan, 1995., 1991., 1981., 1987.,\n",
       "       1980., 1983.])"
      ]
     },
     "execution_count": 19,
     "metadata": {},
     "output_type": "execute_result"
    }
   ],
   "source": [
    "games['year_of_release'].unique()"
   ]
  },
  {
   "cell_type": "markdown",
   "id": "5493bb7a",
   "metadata": {},
   "source": [
    "Видим, что пропуски по столбцам genre и name совпадают - мы могли бы удалить эти 2 строки - но в них присутствуют данные по продажам и эти данные нам нужны, оставляем эти пропуски без изменений. Отсутствуещее значение года выпуска так же заменим на индикаторное значение -1 "
   ]
  },
  {
   "cell_type": "code",
   "execution_count": 20,
   "id": "3ab9f876",
   "metadata": {},
   "outputs": [],
   "source": [
    "games['year_of_release'] = games['year_of_release'].fillna(-1)"
   ]
  },
  {
   "cell_type": "markdown",
   "id": "3e1eb5de",
   "metadata": {},
   "source": [
    "## Расчёты и добавление результатов в таблицу"
   ]
  },
  {
   "cell_type": "markdown",
   "id": "9eb4ed64",
   "metadata": {},
   "source": [
    "Создадим столбец total_revenue - суммарные продажи во всех регионах"
   ]
  },
  {
   "cell_type": "code",
   "execution_count": 21,
   "id": "5acab2ac",
   "metadata": {},
   "outputs": [],
   "source": [
    "games['total_revenue'] = games[['na_sales','eu_sales','jp_sales', 'other_sales']].sum(axis='columns')"
   ]
  },
  {
   "cell_type": "markdown",
   "id": "22d746dd",
   "metadata": {},
   "source": [
    "Заменим коды классификации ESRB на более понятные (данные из Вики) и добавим столбец с данными. Создадим словарь и применим функцию map для замены значений и возврата более понятного из словаря для нового столбца"
   ]
  },
  {
   "cell_type": "code",
   "execution_count": 22,
   "id": "5cfc4d2b",
   "metadata": {},
   "outputs": [],
   "source": [
    "ESRB_dict = {'E': 'Для всех', 'M': 'От 17 лет', 'T': '13-17 лет', 'E10+': 'от 10 лет и старше',\\\n",
    "             \n",
    "             'K-A': 'Для детей и взрослых(устар.)', 'AO':'Только для взрослых', \\\n",
    "             \n",
    "             'EC':'Для детей младшего возраста','RP':'Рейтинг ожидается', -1:'Рейтинг отсутствует'}\n",
    "\n",
    "games['ESRB_description'] = games[games['rating'].notnull()]['rating'].map(ESRB_dict)"
   ]
  },
  {
   "cell_type": "markdown",
   "id": "3857510b",
   "metadata": {},
   "source": [
    "## Исследовательский анализ данных"
   ]
  },
  {
   "cell_type": "markdown",
   "id": "069633ab",
   "metadata": {},
   "source": [
    "### Выпуск игр по годам"
   ]
  },
  {
   "cell_type": "markdown",
   "id": "bcd96c6f",
   "metadata": {},
   "source": [
    "Посмотрим, сколько игр выпускалось в разные годы. Сгруппируем данных по столбцу year_of_release, отфильтровав индикаторные значения и построим гистограмму с помощью метода plot"
   ]
  },
  {
   "cell_type": "code",
   "execution_count": 23,
   "id": "74ab4727",
   "metadata": {},
   "outputs": [],
   "source": [
    "# создадим датасет с уникальными названиями игр \n",
    "wo_dublicates_game_names = games.drop_duplicates(subset='name')"
   ]
  },
  {
   "cell_type": "code",
   "execution_count": 24,
   "id": "6487b83b",
   "metadata": {},
   "outputs": [
    {
     "data": {
      "text/plain": [
       "Text(0, 0.5, 'Количество игр')"
      ]
     },
     "execution_count": 24,
     "metadata": {},
     "output_type": "execute_result"
    },
    {
     "data": {
      "image/png": "[encoded data removed]",
      "text/plain": [
       "<Figure size 1080x360 with 1 Axes>"
      ]
     },
     "metadata": {
      "needs_background": "light"
     },
     "output_type": "display_data"
    }
   ],
   "source": [
    "wo_dublicates_game_names.query('year_of_release>0')\\\n",
    "                        .groupby(by='year_of_release')\\\n",
    "                        .count()['name']\\\n",
    "                        .plot(kind='bar',figsize=(15,5))\n",
    "plt.suptitle('Выпуск игр по годам', fontsize=20)\n",
    "plt.xlabel(' Год выпуска игры ',fontsize=14 )\n",
    "plt.ylabel('Количество игр',fontsize=14)\n"
   ]
  },
  {
   "cell_type": "markdown",
   "id": "6295cc11",
   "metadata": {},
   "source": [
    "Как видим количество игр до 1991 года было относительно стабильным, но в 1991 году появляется первый 3D движок и начинается бурный рост развития шутеров и других 3D игр, которые очень понравились пользователям. После 2011 года видим спад выпуска игр, связанный скорее всего с разитием мобильных технологий и увеличенную концентрацию производителей игр на смартфоны и планшеты. Пик продаж игр пришелся на года 2008-2009."
   ]
  },
  {
   "cell_type": "markdown",
   "id": "ea1f64ba",
   "metadata": {},
   "source": [
    "### Продажи игр по платформам"
   ]
  },
  {
   "cell_type": "markdown",
   "id": "fc7d2fd4",
   "metadata": {},
   "source": [
    "Взглянем как менялись продажи по платформам за весь период датасета"
   ]
  },
  {
   "cell_type": "code",
   "execution_count": 25,
   "id": "1544fa66",
   "metadata": {},
   "outputs": [
    {
     "data": {
      "text/plain": [
       "Text(0, 0.5, 'Количество игр шт.')"
      ]
     },
     "execution_count": 25,
     "metadata": {},
     "output_type": "execute_result"
    },
    {
     "data": {
      "image/png": "[encoded data removed]",
      "text/plain": [
       "<Figure size 1080x360 with 1 Axes>"
      ]
     },
     "metadata": {
      "needs_background": "light"
     },
     "output_type": "display_data"
    }
   ],
   "source": [
    "games.groupby(by='platform')['name'].count().sort_values(ascending=False).plot(kind='bar',figsize = (15,5))\n",
    "plt.suptitle('Количество игр по игровым платформам', fontsize=20)\n",
    "plt.xlabel('Игровая платформа ',fontsize=14 )\n",
    "plt.ylabel('Количество игр шт.',fontsize=14)"
   ]
  },
  {
   "cell_type": "markdown",
   "id": "d0c37cfc",
   "metadata": {},
   "source": [
    "Основными платформами по количеству  игр были PS2, Nintendo DS, основные же производители платформ - это PlayStation, Nintendo, Microsoft. Японские производители приставок лидируют по количеству производимых для них игр, замыкает японскую пятерку лидеров платформа из америки Microsoft X360"
   ]
  },
  {
   "cell_type": "code",
   "execution_count": 26,
   "id": "8492701b",
   "metadata": {},
   "outputs": [
    {
     "data": {
      "text/plain": [
       "Text(0, 0.5, 'Количество игр шт.')"
      ]
     },
     "execution_count": 26,
     "metadata": {},
     "output_type": "execute_result"
    },
    {
     "data": {
      "image/png": "[encoded data removed]",
      "text/plain": [
       "<Figure size 432x288 with 1 Axes>"
      ]
     },
     "metadata": {
      "needs_background": "light"
     },
     "output_type": "display_data"
    }
   ],
   "source": [
    "y = games.groupby(by='platform')['name'].count().sort_values(ascending=False)\n",
    "yy= [y.iloc[0] + y.iloc[2]+ y.iloc[5]+ y.iloc[6]+ y.iloc[12]+ y.iloc[13],y.iloc[1] + y.iloc[3]+ y.iloc[9]+ \\\n",
    "     y.iloc[10]+ y.iloc[11],y.iloc[4] + y.iloc[8]+ y.iloc[15]]\n",
    "pd.Series (yy, index = ['Playstation', 'Nintendo', 'Microsoft']).plot(kind ='bar')\n",
    "plt.suptitle('Продажи игр по производителям платформ', fontsize=20)\n",
    "plt.xlabel('Производитель ',fontsize=14 )\n",
    "plt.ylabel('Количество игр шт.',fontsize=14)"
   ]
  },
  {
   "cell_type": "markdown",
   "id": "5ac941e1",
   "metadata": {},
   "source": [
    "Основным производителем платформ для игр оказалась Playstation, доля игр, приходящихся на японские платформы в 4 раза больше чем американскую Xbox"
   ]
  },
  {
   "cell_type": "markdown",
   "id": "057ec679",
   "metadata": {},
   "source": [
    "### Продажи по платформам"
   ]
  },
  {
   "cell_type": "markdown",
   "id": "041a2e0b",
   "metadata": {},
   "source": [
    "Посмотрим как менялись суммарные продажи игр по платформам"
   ]
  },
  {
   "cell_type": "code",
   "execution_count": 27,
   "id": "367af804",
   "metadata": {},
   "outputs": [
    {
     "data": {
      "text/plain": [
       "Text(0, 0.5, 'Количество проданных игр')"
      ]
     },
     "execution_count": 27,
     "metadata": {},
     "output_type": "execute_result"
    },
    {
     "data": {
      "image/png": "[encoded data removed]",
      "text/plain": [
       "<Figure size 1080x360 with 1 Axes>"
      ]
     },
     "metadata": {
      "needs_background": "light"
     },
     "output_type": "display_data"
    }
   ],
   "source": [
    "games.pivot_table(index = 'platform',values='total_revenue', aggfunc ='sum'\n",
    "                 ).sort_values(by='total_revenue',ascending=False).plot(kind='bar', figsize=(15,5))\n",
    "plt.suptitle('Продажи игр по платформам', fontsize=20)\n",
    "plt.xlabel(' Игровая платформа ',fontsize=14 )\n",
    "plt.ylabel('Количество проданных игр',fontsize=14)"
   ]
  },
  {
   "cell_type": "markdown",
   "id": "7bb82bbe",
   "metadata": {},
   "source": [
    "Из гистограммы видно что основные получатели дохода - это производители игр для платформ PS2, X360,PS3,Wii,DS, и PS - последнюю мы тоже возьмем - так как выручка и пяти компаниий не считая PS2 примерно на одном уровне, в отличии от платформы GBA."
   ]
  },
  {
   "cell_type": "markdown",
   "id": "87e4dcba",
   "metadata": {},
   "source": [
    "### Распределение суммарных продаж по топовым платформам"
   ]
  },
  {
   "cell_type": "markdown",
   "id": "2e768939",
   "metadata": {},
   "source": [
    "Создадим список помпаний, по которому будем выводить информацию, в цикле будем фильтровать индикаторные значения и необходимые данные, затем группировать даные и стоить по ним график распределения суммарного количества продаж по годам"
   ]
  },
  {
   "cell_type": "code",
   "execution_count": 28,
   "id": "f4fac09f",
   "metadata": {},
   "outputs": [
    {
     "data": {
      "text/plain": [
       "<matplotlib.legend.Legend at 0x7f88094f64f0>"
      ]
     },
     "execution_count": 28,
     "metadata": {},
     "output_type": "execute_result"
    },
    {
     "data": {
      "image/png": "[encoded data removed]",
      "text/plain": [
       "<Figure size 1080x360 with 1 Axes>"
      ]
     },
     "metadata": {
      "needs_background": "light"
     },
     "output_type": "display_data"
    }
   ],
   "source": [
    "ax = plt.gca()\n",
    "company = ['PS2', 'X360', 'PS3', 'Wii', 'DS', 'PS']\n",
    "for index in company:\n",
    "    query = games.query('year_of_release> 0 & platform==@index')\n",
    "    query.groupby(by='year_of_release')['total_revenue'].sum().plot(label  = index, style ='o-',figsize=(15,5),linewidth=2)\n",
    "    \n",
    "ax.legend(company, prop={'size':15})"
   ]
  },
  {
   "cell_type": "markdown",
   "id": "dd5cd401",
   "metadata": {},
   "source": [
    "### Выбор актуального периода"
   ]
  },
  {
   "cell_type": "markdown",
   "id": "5c95b25a",
   "metadata": {},
   "source": [
    "Оценим сроки жизни консолей\n",
    "- DS - несмотря на то, что первые игры появились на платформе в 1985 году бурный расцвет этой платформы начался только в 2004 году и держался вплоть до 2013 года - 10 лет платформа пользовалась популярностью у производителей игр и игроков\n",
    "- PS2 - первые игры вышли в 2000 году, резко набрав популярность, в течении 4 лет приносила максимум прибыли - но  с 2004 года пошел спад продаж - пока платформа не прекратила существование в 2011 году - 11 лет срок жизни\n",
    "- X360 - появилась в 2005 году, когда популярность PS2 начинает падать, медленный и стабильный рост выручки по продажам достигает пика в 2010 году и снижается до ноля к 2016 году время жизни платформы - снова 11 лет\n",
    "- PS3 - выходит в 2006 году, тогда же когда и Wii, стабильно растут продажи игр в течении 6 лет, достигая максимума в 2011 году, к 2016 году продажи находится на минимальном уровне. Время жизни 10 лет\n",
    "- Wii - так же появляется в 2006 году, максимум своих продаж достигает за 3 года, и с 2009 года резко теряет популярность и игроков, снижая показатели до минимальных к 2016 году,время жизни 10 лет\n",
    "- PS - появилась в 1994 году - так же набрав популярность у игроков в течениие 4 лет. Время жизни как и у всех платформ составляет 10 лет\n",
    "\n",
    "10 лет - именно столько производители платформ и игр сотрудничают друг с другом, скорее всего эта цифра показывает как изменяется прогресс и техническое оснащение платформ, появляются новые более быстрые процессоры и память. Становятся более существенными требования к производительности, и как только выручка из продаж игр начинает снижаться - производитель (на примере PlayStation) начинает разрабатывать номую платформу, выпуская ее в течении 2 лет."
   ]
  },
  {
   "cell_type": "markdown",
   "id": "16a85ee0",
   "metadata": {},
   "source": [
    "<div class=\"alert alert-success\">\n",
    "<b>ОТЛИЧНО! 👍</b>\n",
    "\n",
    "Подтверждаю 7-9-11 лет, как корректный интервал, описывающий средний срок жизни игровой платформы.</div>\n"
   ]
  },
  {
   "cell_type": "markdown",
   "id": "b5de6459",
   "metadata": {},
   "source": [
    "### Анализ платформ по актуальному периоду "
   ]
  },
  {
   "cell_type": "markdown",
   "id": "9d512328",
   "metadata": {},
   "source": [
    "Средний срок жизни платформы 10 лет - возьмем 3 года за актуальный период и посмотрим на данные с 2004 до 2016 годы. Создадим датасет, и возьмем данные игр, выпущенных после 2014 года"
   ]
  },
  {
   "cell_type": "code",
   "execution_count": 29,
   "id": "df2d6f32",
   "metadata": {},
   "outputs": [
    {
     "data": {
      "text/plain": [
       "Text(0, 0.5, 'Количество игр шт.')"
      ]
     },
     "execution_count": 29,
     "metadata": {},
     "output_type": "execute_result"
    },
    {
     "data": {
      "image/png": "[encoded data removed]",
      "text/plain": [
       "<Figure size 1080x360 with 1 Axes>"
      ]
     },
     "metadata": {
      "needs_background": "light"
     },
     "output_type": "display_data"
    }
   ],
   "source": [
    "games_after_2014 = games.query('year_of_release>=2014')\n",
    "games_after_2014.groupby(by='platform'\n",
    "                        )['total_revenue'].sum().sort_values(ascending=False).plot(kind='bar',figsize = (15,5))\n",
    "plt.suptitle('Продажи игр за 2014-2016 г. ', fontsize=20)\n",
    "plt.xlabel('Игровая платформа ',fontsize=14 )\n",
    "plt.ylabel('Количество игр шт.',fontsize=14)"
   ]
  },
  {
   "cell_type": "markdown",
   "id": "4d671551",
   "metadata": {},
   "source": [
    "Если по всем данным лидировала платформа PS2, то по данным за 3 года лидирует PS4"
   ]
  },
  {
   "cell_type": "markdown",
   "id": "d7930ac9",
   "metadata": {},
   "source": [
    "### Анализ продаж по актуальному периоду "
   ]
  },
  {
   "cell_type": "markdown",
   "id": "ae573a36",
   "metadata": {},
   "source": [
    " Взглянем на суммарное количество продаж по платформам по актуальному периоду "
   ]
  },
  {
   "cell_type": "code",
   "execution_count": 30,
   "id": "b233339f",
   "metadata": {},
   "outputs": [],
   "source": [
    "games_pivot = games_after_2014.pivot_table(index=['platform','year_of_release'],values = 'total_revenue',aggfunc='sum').reset_index()"
   ]
  },
  {
   "cell_type": "code",
   "execution_count": 62,
   "id": "bbc5b492",
   "metadata": {},
   "outputs": [
    {
     "data": {
      "image/png": "[encoded data removed]",
      "text/plain": [
       "<Figure size 1080x576 with 1 Axes>"
      ]
     },
     "metadata": {
      "needs_background": "light"
     },
     "output_type": "display_data"
    }
   ],
   "source": [
    "ax = plt.gca()\n",
    "for index in games_pivot['platform'].unique():\n",
    "    query = games_pivot.query('platform==@index')\n",
    "    query.groupby(by='year_of_release')['total_revenue'].sum().plot(label  = index, style ='o-',figsize=(15,8),linewidth=2)\n",
    "    \n",
    "ax.legend(games_pivot['platform'].unique(), prop={'size':16},bbox_to_anchor=(1,1));"
   ]
  },
  {
   "cell_type": "code",
   "execution_count": 32,
   "id": "9e6034ea",
   "metadata": {},
   "outputs": [
    {
     "data": {
      "text/html": [
       "<div>\n",
       "<style scoped>\n",
       "    .dataframe tbody tr th:only-of-type {\n",
       "        vertical-align: middle;\n",
       "    }\n",
       "\n",
       "    .dataframe tbody tr th {\n",
       "        vertical-align: top;\n",
       "    }\n",
       "\n",
       "    .dataframe thead th {\n",
       "        text-align: right;\n",
       "    }\n",
       "</style>\n",
       "<table border=\"1\" class=\"dataframe\">\n",
       "  <thead>\n",
       "    <tr style=\"text-align: right;\">\n",
       "      <th></th>\n",
       "      <th>total_revenue</th>\n",
       "    </tr>\n",
       "    <tr>\n",
       "      <th>platform</th>\n",
       "      <th></th>\n",
       "    </tr>\n",
       "  </thead>\n",
       "  <tbody>\n",
       "    <tr>\n",
       "      <th>PS4</th>\n",
       "      <td>69.25</td>\n",
       "    </tr>\n",
       "    <tr>\n",
       "      <th>XOne</th>\n",
       "      <td>26.15</td>\n",
       "    </tr>\n",
       "    <tr>\n",
       "      <th>3DS</th>\n",
       "      <td>15.14</td>\n",
       "    </tr>\n",
       "    <tr>\n",
       "      <th>PC</th>\n",
       "      <td>5.25</td>\n",
       "    </tr>\n",
       "    <tr>\n",
       "      <th>WiiU</th>\n",
       "      <td>4.60</td>\n",
       "    </tr>\n",
       "    <tr>\n",
       "      <th>PSV</th>\n",
       "      <td>4.25</td>\n",
       "    </tr>\n",
       "    <tr>\n",
       "      <th>PS3</th>\n",
       "      <td>3.60</td>\n",
       "    </tr>\n",
       "    <tr>\n",
       "      <th>X360</th>\n",
       "      <td>1.52</td>\n",
       "    </tr>\n",
       "    <tr>\n",
       "      <th>Wii</th>\n",
       "      <td>0.18</td>\n",
       "    </tr>\n",
       "  </tbody>\n",
       "</table>\n",
       "</div>"
      ],
      "text/plain": [
       "          total_revenue\n",
       "platform               \n",
       "PS4               69.25\n",
       "XOne              26.15\n",
       "3DS               15.14\n",
       "PC                 5.25\n",
       "WiiU               4.60\n",
       "PSV                4.25\n",
       "PS3                3.60\n",
       "X360               1.52\n",
       "Wii                0.18"
      ]
     },
     "execution_count": 32,
     "metadata": {},
     "output_type": "execute_result"
    }
   ],
   "source": [
    "games_after_2014.query('year_of_release>=2016').pivot_table(index='platform',values='total_revenue',aggfunc='sum').sort_values(by='total_revenue',ascending = False)\n"
   ]
  },
  {
   "cell_type": "markdown",
   "id": "cc5d12e5",
   "metadata": {},
   "source": [
    "На конец 2016 года лидируют по продажам 3 платформы - PS4, XOne, 3DS. Количество продаж игр по всем платформам снижается. Явным лидером, заметно оторвавшимся по продажам игр является платформа PS4, но и у нее как и у XOne начался спад продаж в 2015 году "
   ]
  },
  {
   "cell_type": "markdown",
   "id": "6a5e2adf",
   "metadata": {},
   "source": [
    "### «Ящик с усами» по глобальным продажам игр в разбивке по платформам"
   ]
  },
  {
   "cell_type": "markdown",
   "id": "4671125c",
   "metadata": {},
   "source": [
    "Нарисуем ящик с усами по показателям продаж по данным всего датасета "
   ]
  },
  {
   "cell_type": "code",
   "execution_count": 33,
   "id": "1335a797",
   "metadata": {},
   "outputs": [
    {
     "data": {
      "image/png": "[encoded data removed]",
      "text/plain": [
       "<Figure size 864x144 with 1 Axes>"
      ]
     },
     "metadata": {
      "needs_background": "light"
     },
     "output_type": "display_data"
    }
   ],
   "source": [
    "g= sns.catplot( x='total_revenue', kind=\"box\", data=games_after_2014, orient='h', palette = 'pastel')\n",
    "g.fig.set_figwidth(12)\n",
    "g.fig.set_figheight(2)"
   ]
  },
  {
   "cell_type": "markdown",
   "id": "0ebd165a",
   "metadata": {},
   "source": [
    "Много выбросов в данных, посмотрим с ограничением вывода значений до 4"
   ]
  },
  {
   "cell_type": "code",
   "execution_count": 34,
   "id": "67c3c23e",
   "metadata": {},
   "outputs": [
    {
     "data": {
      "text/plain": [
       "<seaborn.axisgrid.FacetGrid at 0x7f8810b8bf40>"
      ]
     },
     "execution_count": 34,
     "metadata": {},
     "output_type": "execute_result"
    },
    {
     "data": {
      "image/png": "[encoded data removed]",
      "text/plain": [
       "<Figure size 864x360 with 1 Axes>"
      ]
     },
     "metadata": {
      "needs_background": "light"
     },
     "output_type": "display_data"
    }
   ],
   "source": [
    "g= sns.catplot( x='total_revenue', kind=\"box\", data=games_after_2014,  palette = 'pastel')\n",
    "g.fig.set_figwidth(12)\n",
    "g.set(xlim=(0, 1))"
   ]
  },
  {
   "cell_type": "code",
   "execution_count": 35,
   "id": "20e613c9",
   "metadata": {},
   "outputs": [
    {
     "data": {
      "text/plain": [
       "count    1689.000000\n",
       "mean        0.431883\n",
       "std         1.056109\n",
       "min         0.010000\n",
       "25%         0.030000\n",
       "50%         0.100000\n",
       "75%         0.350000\n",
       "max        14.630000\n",
       "Name: total_revenue, dtype: float64"
      ]
     },
     "execution_count": 35,
     "metadata": {},
     "output_type": "execute_result"
    }
   ],
   "source": [
    "games_after_2014['total_revenue'].describe()"
   ]
  },
  {
   "cell_type": "markdown",
   "id": "bec42687",
   "metadata": {},
   "source": [
    "Как видно из графика медианное количество продаж игр составляет 0.08 млн копий, а среднее 0,47 млн"
   ]
  },
  {
   "cell_type": "markdown",
   "id": "a70b524e",
   "metadata": {},
   "source": [
    "Теперь рассмотрим показатели продаж каждой платформы в отдельности, и построим для них ящик с усами."
   ]
  },
  {
   "cell_type": "code",
   "execution_count": 36,
   "id": "5787ed95",
   "metadata": {
    "scrolled": false
   },
   "outputs": [
    {
     "data": {
      "image/png": "[encoded data removed]",
      "text/plain": [
       "<Figure size 720x144 with 1 Axes>"
      ]
     },
     "metadata": {
      "needs_background": "light"
     },
     "output_type": "display_data"
    },
    {
     "data": {
      "image/png": "[encoded data removed]",
      "text/plain": [
       "<Figure size 720x144 with 1 Axes>"
      ]
     },
     "metadata": {
      "needs_background": "light"
     },
     "output_type": "display_data"
    },
    {
     "data": {
      "image/png": "[encoded data removed]",
      "text/plain": [
       "<Figure size 720x144 with 1 Axes>"
      ]
     },
     "metadata": {
      "needs_background": "light"
     },
     "output_type": "display_data"
    },
    {
     "data": {
      "image/png": "[encoded data removed]",
      "text/plain": [
       "<Figure size 720x144 with 1 Axes>"
      ]
     },
     "metadata": {
      "needs_background": "light"
     },
     "output_type": "display_data"
    },
    {
     "data": {
      "image/png": "[encoded data removed]",
      "text/plain": [
       "<Figure size 720x144 with 1 Axes>"
      ]
     },
     "metadata": {
      "needs_background": "light"
     },
     "output_type": "display_data"
    },
    {
     "data": {
      "image/png": "[encoded data removed]",
      "text/plain": [
       "<Figure size 720x144 with 1 Axes>"
      ]
     },
     "metadata": {
      "needs_background": "light"
     },
     "output_type": "display_data"
    },
    {
     "data": {
      "image/png": "[encoded data removed]",
      "text/plain": [
       "<Figure size 720x144 with 1 Axes>"
      ]
     },
     "metadata": {
      "needs_background": "light"
     },
     "output_type": "display_data"
    },
    {
     "data": {
      "image/png": "[encoded data removed]",
      "text/plain": [
       "<Figure size 720x144 with 1 Axes>"
      ]
     },
     "metadata": {
      "needs_background": "light"
     },
     "output_type": "display_data"
    },
    {
     "data": {
      "image/png": "[encoded data removed]",
      "text/plain": [
       "<Figure size 720x144 with 1 Axes>"
      ]
     },
     "metadata": {
      "needs_background": "light"
     },
     "output_type": "display_data"
    },
    {
     "data": {
      "image/png": "[encoded data removed]",
      "text/plain": [
       "<Figure size 720x144 with 1 Axes>"
      ]
     },
     "metadata": {
      "needs_background": "light"
     },
     "output_type": "display_data"
    }
   ],
   "source": [
    "platform = games_after_2014['platform'].unique()\n",
    "for index in platform:\n",
    "    query = games_after_2014.query('platform == @index')\n",
    "    g= sns.catplot( x='total_revenue', kind=\"box\", data=query,  palette = 'pastel',legend=True)\n",
    "    g.fig.set_figwidth(10)\n",
    "    g.set(xlim=(0, 1.75))\n",
    "    g.set_xlabels(index, fontsize=15) #\n",
    "    g.fig.set_figheight(2)"
   ]
  },
  {
   "cell_type": "markdown",
   "id": "c0603cfd",
   "metadata": {},
   "source": [
    "Построим боксплоты продаж по платформам за 2014-16 годы"
   ]
  },
  {
   "cell_type": "markdown",
   "id": "747e8ca0",
   "metadata": {},
   "source": [
    "Поставим лимиты вывода от 0 до 2\n"
   ]
  },
  {
   "cell_type": "code",
   "execution_count": 37,
   "id": "f5b9db54",
   "metadata": {},
   "outputs": [
    {
     "data": {
      "image/png": "[encoded data removed]",
      "text/plain": [
       "<Figure size 1040x800 with 1 Axes>"
      ]
     },
     "metadata": {
      "needs_background": "light"
     },
     "output_type": "display_data"
    }
   ],
   "source": [
    "plt.figure(figsize=(13,10), dpi= 80)\n",
    "sns.boxplot(x='platform', y='total_revenue', data=games_after_2014)\n",
    "plt.title('Показатели продаж по платформам за 2014-16 г.', fontsize=22)\n",
    "plt.ylim(0,2)\n",
    "plt.xlabel('Игровая платформа ',fontsize=14 )\n",
    "plt.ylabel('Продано игр млн. шт.',fontsize=14)\n",
    "plt.show()"
   ]
  },
  {
   "cell_type": "markdown",
   "id": "7c7c4742",
   "metadata": {},
   "source": [
    "Посмотреть на общую картину с выбросами можно удалив строку ограничением значений"
   ]
  },
  {
   "cell_type": "code",
   "execution_count": 38,
   "id": "ee542590",
   "metadata": {},
   "outputs": [
    {
     "data": {
      "image/png": "[encoded data removed]",
      "text/plain": [
       "<Figure size 1040x800 with 1 Axes>"
      ]
     },
     "metadata": {
      "needs_background": "light"
     },
     "output_type": "display_data"
    }
   ],
   "source": [
    "plt.figure(figsize=(13,10), dpi= 80)\n",
    "sns.boxplot(x='platform', y='total_revenue', data=games_after_2014)\n",
    "plt.title('Показатели продаж по платформам за 2014-16 г.', fontsize=22)\n",
    "plt.xlabel('Игровая платформа ',fontsize=14 )\n",
    "plt.ylabel('Продано игр млн. шт.',fontsize=14)\n",
    "plt.show()"
   ]
  },
  {
   "cell_type": "markdown",
   "id": "753c0dfa",
   "metadata": {},
   "source": [
    "У всех платформ медианные показатели продаже не превышают 0.2 млн копий"
   ]
  },
  {
   "cell_type": "markdown",
   "id": "e1cb38a5",
   "metadata": {},
   "source": [
    "### Продажи игр для одной платформы"
   ]
  },
  {
   "cell_type": "markdown",
   "id": "7cdc3aa3",
   "metadata": {},
   "source": [
    "#### Зависимость продаж от отзывов критиков"
   ]
  },
  {
   "cell_type": "markdown",
   "id": "d7ac5080",
   "metadata": {},
   "source": [
    "Возьмем для анализа PS4, эта платформа больше пользуется популярностью у игроков и  по ней много данных. Сформируем отдельный датасет по платформе PS4 и отфильтруем индикаторные значения по оценкам критиков."
   ]
  },
  {
   "cell_type": "code",
   "execution_count": 39,
   "id": "175b0333",
   "metadata": {},
   "outputs": [],
   "source": [
    "games_PS4_wo_critics = games_after_2014[(\n",
    "    games_after_2014['platform']== 'PS4') & (games_after_2014['critic_score']>0)]"
   ]
  },
  {
   "cell_type": "markdown",
   "id": "fcf3144d",
   "metadata": {},
   "source": [
    "Построим диаграмму рассеяния зависимости оценки критиков и количества проданных копий игр для Х360"
   ]
  },
  {
   "cell_type": "code",
   "execution_count": 63,
   "id": "5f054fcb",
   "metadata": {},
   "outputs": [
    {
     "data": {
      "image/png": "[encoded data removed]",
      "text/plain": [
       "<Figure size 432x288 with 1 Axes>"
      ]
     },
     "metadata": {
      "needs_background": "light"
     },
     "output_type": "display_data"
    }
   ],
   "source": [
    "plt.scatter(x=games_PS4_wo_critics['total_revenue'],y=games_PS4_wo_critics['critic_score'])\n",
    "plt.xlabel('Количество проданных копий млн.шт.', fontsize = 15)\n",
    "plt.ylabel('Оценки критиков',fontsize = 15)\n",
    "plt.title('Оценка игр критиками', fontsize=15);"
   ]
  },
  {
   "cell_type": "markdown",
   "id": "001c2fa3",
   "metadata": {},
   "source": [
    "#### Зависимость продаж от отзывов пользователей"
   ]
  },
  {
   "cell_type": "code",
   "execution_count": 64,
   "id": "baba293f",
   "metadata": {},
   "outputs": [
    {
     "data": {
      "image/png": "[encoded data removed]",
      "text/plain": [
       "<Figure size 432x288 with 1 Axes>"
      ]
     },
     "metadata": {
      "needs_background": "light"
     },
     "output_type": "display_data"
    }
   ],
   "source": [
    "games_PS4_wo_users = games_after_2014[(\n",
    "    games_after_2014['platform']== 'PS4') & (games_after_2014['user_score']>0)]\n",
    "plt.scatter(x=games_PS4_wo_users['total_revenue'],y=games_PS4_wo_users['user_score'])\n",
    "plt.xlabel('Количество проданных копий млн.шт.',fontsize = 15)\n",
    "plt.ylabel('Отзывы пользователей',fontsize = 15)\n",
    "plt.title('Оценки игр пользователями', fontsize=15);"
   ]
  },
  {
   "cell_type": "markdown",
   "id": "2c56f2f8",
   "metadata": {},
   "source": [
    " Как видно из диаграммы оценок игр критиками, критики более объективно оценивают игры, наверняка используя какую-то систему оценок различных аспектов игры- вроде графики, геймплея, сюжета. Все это делается профессионалами и  диаграмма это подтверждает, что чем качественнее и интереснее игра - тем она получит выше балл критиков, тем выше у нее шансы на продажу в большем объеме. Если у игры рейтинг критиков меньше 65 то по статистике шансов покупок этой игры более 0.5 млн копий нет."
   ]
  },
  {
   "cell_type": "markdown",
   "id": "2ff3913e",
   "metadata": {},
   "source": [
    "Диаграмма оценок игр пользователями имеет больше выбросов, например игры с рейтингом ниже 5 имеют продажи по 4-8 млн. копий"
   ]
  },
  {
   "cell_type": "markdown",
   "id": "b101809e",
   "metadata": {},
   "source": [
    "Отфильтруем данные рейтингов от индикаторных значений платформы PS4, и построим тепловую карту по коэффициентам корреляции."
   ]
  },
  {
   "cell_type": "code",
   "execution_count": 42,
   "id": "a5c64209",
   "metadata": {},
   "outputs": [],
   "source": [
    "games_PS4_wo_users_filter = games_PS4_wo_critics.query(' user_score >0')"
   ]
  },
  {
   "cell_type": "code",
   "execution_count": 43,
   "id": "4605b791",
   "metadata": {},
   "outputs": [
    {
     "data": {
      "text/plain": [
       "<AxesSubplot:>"
      ]
     },
     "execution_count": 43,
     "metadata": {},
     "output_type": "execute_result"
    },
    {
     "data": {
      "image/png": "[encoded data removed]",
      "text/plain": [
       "<Figure size 648x648 with 2 Axes>"
      ]
     },
     "metadata": {
      "needs_background": "light"
     },
     "output_type": "display_data"
    }
   ],
   "source": [
    "plt.figure(figsize=(9,9))\n",
    "sns.heatmap(games_PS4_wo_users_filter.corr(), annot=True, cmap='winter', annot_kws={'size':15})"
   ]
  },
  {
   "cell_type": "code",
   "execution_count": 44,
   "id": "537b13eb",
   "metadata": {},
   "outputs": [
    {
     "data": {
      "text/html": [
       "<div>\n",
       "<style scoped>\n",
       "    .dataframe tbody tr th:only-of-type {\n",
       "        vertical-align: middle;\n",
       "    }\n",
       "\n",
       "    .dataframe tbody tr th {\n",
       "        vertical-align: top;\n",
       "    }\n",
       "\n",
       "    .dataframe thead th {\n",
       "        text-align: right;\n",
       "    }\n",
       "</style>\n",
       "<table border=\"1\" class=\"dataframe\">\n",
       "  <thead>\n",
       "    <tr style=\"text-align: right;\">\n",
       "      <th></th>\n",
       "      <th>total_revenue</th>\n",
       "    </tr>\n",
       "  </thead>\n",
       "  <tbody>\n",
       "    <tr>\n",
       "      <th>total_revenue</th>\n",
       "      <td>1.000000</td>\n",
       "    </tr>\n",
       "    <tr>\n",
       "      <th>other_sales</th>\n",
       "      <td>0.998054</td>\n",
       "    </tr>\n",
       "    <tr>\n",
       "      <th>eu_sales</th>\n",
       "      <td>0.951783</td>\n",
       "    </tr>\n",
       "    <tr>\n",
       "      <th>na_sales</th>\n",
       "      <td>0.892578</td>\n",
       "    </tr>\n",
       "    <tr>\n",
       "      <th>jp_sales</th>\n",
       "      <td>0.618891</td>\n",
       "    </tr>\n",
       "    <tr>\n",
       "      <th>critic_score</th>\n",
       "      <td>0.401903</td>\n",
       "    </tr>\n",
       "    <tr>\n",
       "      <th>user_score</th>\n",
       "      <td>-0.043186</td>\n",
       "    </tr>\n",
       "    <tr>\n",
       "      <th>year_of_release</th>\n",
       "      <td>-0.216492</td>\n",
       "    </tr>\n",
       "  </tbody>\n",
       "</table>\n",
       "</div>"
      ],
      "text/plain": [
       "                 total_revenue\n",
       "total_revenue         1.000000\n",
       "other_sales           0.998054\n",
       "eu_sales              0.951783\n",
       "na_sales              0.892578\n",
       "jp_sales              0.618891\n",
       "critic_score          0.401903\n",
       "user_score           -0.043186\n",
       "year_of_release      -0.216492"
      ]
     },
     "execution_count": 44,
     "metadata": {},
     "output_type": "execute_result"
    }
   ],
   "source": [
    "games_PS4_wo_users_filter.corr()[['total_revenue']].sort_values(by='total_revenue',ascending=False)"
   ]
  },
  {
   "cell_type": "markdown",
   "id": "b72d9c6c",
   "metadata": {},
   "source": [
    "Коэффициент корреляции продаж и оценок пользователей стал отрицательным и составил -0.043, что значит что оценки пользователей никак не взаимосвязаны с показателем продаж.\n",
    "Оценки критиков демонстрируют прямую, средне-слабую корреляцию с \"цифрами\" продаж (коэффициент 0.4) \n"
   ]
  },
  {
   "cell_type": "markdown",
   "id": "02a2e98f",
   "metadata": {},
   "source": [
    "Взглянем на данные коэффициентов корреляции по остальным популярным игровым платформам. Создадим список платформ, по которым будем проходить циклом, в нем мы будем избавляться от индикаторных значений и будем выбирать только 3 столбца с данными ('total_revenue', 'critic_score', 'user_score'), и по ним считать коэффициенты корреляции."
   ]
  },
  {
   "cell_type": "code",
   "execution_count": 45,
   "id": "342e8826",
   "metadata": {},
   "outputs": [
    {
     "data": {
      "text/plain": [
       "'3DS'"
      ]
     },
     "metadata": {},
     "output_type": "display_data"
    },
    {
     "data": {
      "text/html": [
       "<div>\n",
       "<style scoped>\n",
       "    .dataframe tbody tr th:only-of-type {\n",
       "        vertical-align: middle;\n",
       "    }\n",
       "\n",
       "    .dataframe tbody tr th {\n",
       "        vertical-align: top;\n",
       "    }\n",
       "\n",
       "    .dataframe thead th {\n",
       "        text-align: right;\n",
       "    }\n",
       "</style>\n",
       "<table border=\"1\" class=\"dataframe\">\n",
       "  <thead>\n",
       "    <tr style=\"text-align: right;\">\n",
       "      <th></th>\n",
       "      <th>total_revenue</th>\n",
       "    </tr>\n",
       "  </thead>\n",
       "  <tbody>\n",
       "    <tr>\n",
       "      <th>total_revenue</th>\n",
       "      <td>1.000000</td>\n",
       "    </tr>\n",
       "    <tr>\n",
       "      <th>critic_score</th>\n",
       "      <td>0.284686</td>\n",
       "    </tr>\n",
       "    <tr>\n",
       "      <th>user_score</th>\n",
       "      <td>0.279850</td>\n",
       "    </tr>\n",
       "  </tbody>\n",
       "</table>\n",
       "</div>"
      ],
      "text/plain": [
       "               total_revenue\n",
       "total_revenue       1.000000\n",
       "critic_score        0.284686\n",
       "user_score          0.279850"
      ]
     },
     "metadata": {},
     "output_type": "display_data"
    },
    {
     "name": "stdout",
     "output_type": "stream",
     "text": [
      "--------------------\n"
     ]
    },
    {
     "data": {
      "text/plain": [
       "'XOne'"
      ]
     },
     "metadata": {},
     "output_type": "display_data"
    },
    {
     "data": {
      "text/html": [
       "<div>\n",
       "<style scoped>\n",
       "    .dataframe tbody tr th:only-of-type {\n",
       "        vertical-align: middle;\n",
       "    }\n",
       "\n",
       "    .dataframe tbody tr th {\n",
       "        vertical-align: top;\n",
       "    }\n",
       "\n",
       "    .dataframe thead th {\n",
       "        text-align: right;\n",
       "    }\n",
       "</style>\n",
       "<table border=\"1\" class=\"dataframe\">\n",
       "  <thead>\n",
       "    <tr style=\"text-align: right;\">\n",
       "      <th></th>\n",
       "      <th>total_revenue</th>\n",
       "    </tr>\n",
       "  </thead>\n",
       "  <tbody>\n",
       "    <tr>\n",
       "      <th>total_revenue</th>\n",
       "      <td>1.000000</td>\n",
       "    </tr>\n",
       "    <tr>\n",
       "      <th>critic_score</th>\n",
       "      <td>0.422112</td>\n",
       "    </tr>\n",
       "    <tr>\n",
       "      <th>user_score</th>\n",
       "      <td>-0.091734</td>\n",
       "    </tr>\n",
       "  </tbody>\n",
       "</table>\n",
       "</div>"
      ],
      "text/plain": [
       "               total_revenue\n",
       "total_revenue       1.000000\n",
       "critic_score        0.422112\n",
       "user_score         -0.091734"
      ]
     },
     "metadata": {},
     "output_type": "display_data"
    },
    {
     "name": "stdout",
     "output_type": "stream",
     "text": [
      "--------------------\n"
     ]
    },
    {
     "data": {
      "text/plain": [
       "'WiiU'"
      ]
     },
     "metadata": {},
     "output_type": "display_data"
    },
    {
     "data": {
      "text/html": [
       "<div>\n",
       "<style scoped>\n",
       "    .dataframe tbody tr th:only-of-type {\n",
       "        vertical-align: middle;\n",
       "    }\n",
       "\n",
       "    .dataframe tbody tr th {\n",
       "        vertical-align: top;\n",
       "    }\n",
       "\n",
       "    .dataframe thead th {\n",
       "        text-align: right;\n",
       "    }\n",
       "</style>\n",
       "<table border=\"1\" class=\"dataframe\">\n",
       "  <thead>\n",
       "    <tr style=\"text-align: right;\">\n",
       "      <th></th>\n",
       "      <th>total_revenue</th>\n",
       "    </tr>\n",
       "  </thead>\n",
       "  <tbody>\n",
       "    <tr>\n",
       "      <th>total_revenue</th>\n",
       "      <td>1.000000</td>\n",
       "    </tr>\n",
       "    <tr>\n",
       "      <th>user_score</th>\n",
       "      <td>0.411451</td>\n",
       "    </tr>\n",
       "    <tr>\n",
       "      <th>critic_score</th>\n",
       "      <td>0.375640</td>\n",
       "    </tr>\n",
       "  </tbody>\n",
       "</table>\n",
       "</div>"
      ],
      "text/plain": [
       "               total_revenue\n",
       "total_revenue       1.000000\n",
       "user_score          0.411451\n",
       "critic_score        0.375640"
      ]
     },
     "metadata": {},
     "output_type": "display_data"
    },
    {
     "name": "stdout",
     "output_type": "stream",
     "text": [
      "--------------------\n"
     ]
    },
    {
     "data": {
      "text/plain": [
       "'PSV'"
      ]
     },
     "metadata": {},
     "output_type": "display_data"
    },
    {
     "data": {
      "text/html": [
       "<div>\n",
       "<style scoped>\n",
       "    .dataframe tbody tr th:only-of-type {\n",
       "        vertical-align: middle;\n",
       "    }\n",
       "\n",
       "    .dataframe tbody tr th {\n",
       "        vertical-align: top;\n",
       "    }\n",
       "\n",
       "    .dataframe thead th {\n",
       "        text-align: right;\n",
       "    }\n",
       "</style>\n",
       "<table border=\"1\" class=\"dataframe\">\n",
       "  <thead>\n",
       "    <tr style=\"text-align: right;\">\n",
       "      <th></th>\n",
       "      <th>total_revenue</th>\n",
       "    </tr>\n",
       "  </thead>\n",
       "  <tbody>\n",
       "    <tr>\n",
       "      <th>total_revenue</th>\n",
       "      <td>1.000000</td>\n",
       "    </tr>\n",
       "    <tr>\n",
       "      <th>critic_score</th>\n",
       "      <td>0.041029</td>\n",
       "    </tr>\n",
       "    <tr>\n",
       "      <th>user_score</th>\n",
       "      <td>0.023528</td>\n",
       "    </tr>\n",
       "  </tbody>\n",
       "</table>\n",
       "</div>"
      ],
      "text/plain": [
       "               total_revenue\n",
       "total_revenue       1.000000\n",
       "critic_score        0.041029\n",
       "user_score          0.023528"
      ]
     },
     "metadata": {},
     "output_type": "display_data"
    },
    {
     "name": "stdout",
     "output_type": "stream",
     "text": [
      "--------------------\n"
     ]
    },
    {
     "data": {
      "text/plain": [
       "'PC'"
      ]
     },
     "metadata": {},
     "output_type": "display_data"
    },
    {
     "data": {
      "text/html": [
       "<div>\n",
       "<style scoped>\n",
       "    .dataframe tbody tr th:only-of-type {\n",
       "        vertical-align: middle;\n",
       "    }\n",
       "\n",
       "    .dataframe tbody tr th {\n",
       "        vertical-align: top;\n",
       "    }\n",
       "\n",
       "    .dataframe thead th {\n",
       "        text-align: right;\n",
       "    }\n",
       "</style>\n",
       "<table border=\"1\" class=\"dataframe\">\n",
       "  <thead>\n",
       "    <tr style=\"text-align: right;\">\n",
       "      <th></th>\n",
       "      <th>total_revenue</th>\n",
       "    </tr>\n",
       "  </thead>\n",
       "  <tbody>\n",
       "    <tr>\n",
       "      <th>total_revenue</th>\n",
       "      <td>1.000000</td>\n",
       "    </tr>\n",
       "    <tr>\n",
       "      <th>critic_score</th>\n",
       "      <td>0.172061</td>\n",
       "    </tr>\n",
       "    <tr>\n",
       "      <th>user_score</th>\n",
       "      <td>-0.089974</td>\n",
       "    </tr>\n",
       "  </tbody>\n",
       "</table>\n",
       "</div>"
      ],
      "text/plain": [
       "               total_revenue\n",
       "total_revenue       1.000000\n",
       "critic_score        0.172061\n",
       "user_score         -0.089974"
      ]
     },
     "metadata": {},
     "output_type": "display_data"
    },
    {
     "name": "stdout",
     "output_type": "stream",
     "text": [
      "--------------------\n"
     ]
    }
   ],
   "source": [
    "platforms = ['3DS', 'XOne', 'WiiU', 'PSV', 'PC']\n",
    "for index in platforms:\n",
    "    df = games_after_2014[(games_after_2014['platform']== index)]\n",
    "    query = df.query('critic_score >0 & user_score >0')\n",
    "    u = query[['total_revenue', 'critic_score', 'user_score']]\n",
    "    data = u.corr()[['total_revenue']].sort_values(by='total_revenue',ascending=False)\n",
    "    display (index , data)\n",
    "    print ('--------------------')"
   ]
  },
  {
   "cell_type": "markdown",
   "id": "6f4c6cc9",
   "metadata": {},
   "source": [
    "По новому актуальному периоду коэффициенты корреляции оценок критиков и пользователей по платформе 3DS оказались равны и имеют средне-слабую корреляцию с \"цифрами\" продаж (0.28). Самый большой коэффициент у платформы XOne 0.42  рейтинга критиков и продаж. "
   ]
  },
  {
   "cell_type": "markdown",
   "id": "b6abcd51",
   "metadata": {},
   "source": [
    "### Распределение игр по жанрам."
   ]
  },
  {
   "cell_type": "markdown",
   "id": "84d2d90b",
   "metadata": {},
   "source": [
    "\n",
    "Посмотрим на общее распределение игр по жанрам. Сгруппируем данные по жанрам, применим функции подсчета количества и суммирования выручки, изменим названия столбцов, чтоб было удобнее по ним строить гистограмму."
   ]
  },
  {
   "cell_type": "code",
   "execution_count": 66,
   "id": "7c92d32c",
   "metadata": {},
   "outputs": [],
   "source": [
    "ganre_pivot = games_after_2014.pivot_table(index='genre', values = ['total_revenue'], aggfunc=[ 'mean'] )\n",
    "ganre_pivot.columns = ['mean']\n",
    "ganre_pivot = ganre_pivot.sort_values(by = 'mean',ascending = False)"
   ]
  },
  {
   "cell_type": "code",
   "execution_count": 67,
   "id": "019460c1",
   "metadata": {},
   "outputs": [
    {
     "data": {
      "text/plain": [
       "Text(0.5, 1.0, 'Продажи игр по жанрам')"
      ]
     },
     "execution_count": 67,
     "metadata": {},
     "output_type": "execute_result"
    },
    {
     "data": {
      "image/png": "[encoded data removed]",
      "text/plain": [
       "<Figure size 1080x360 with 1 Axes>"
      ]
     },
     "metadata": {
      "needs_background": "light"
     },
     "output_type": "display_data"
    }
   ],
   "source": [
    "ganre_pivot.plot(kind='bar', figsize=(15,5), width=0.5, grid = True)\n",
    "plt.legend([' '],prop={'size':12})\n",
    "plt.xlabel('Жанр',fontsize = 15)\n",
    "plt.ylabel('Копий продано млн.',fontsize = 15)\n",
    "plt.title('Продажи игр по жанрам', fontsize=15)"
   ]
  },
  {
   "cell_type": "markdown",
   "id": "6450afbf",
   "metadata": {},
   "source": [
    "Взяв медианные значения продаж в игровых жанрах мы выяснили, что самым доходным является жанр шутер, затем спортивные симуляторы и гоночные игры. Наиболее прибыльным жанром является шутер, его продажи в два раза больше ближайшего конкурента, и стабильно приносят прибыль компании разработчику. \n"
   ]
  },
  {
   "cell_type": "markdown",
   "id": "4508fb68",
   "metadata": {},
   "source": [
    "### Портрет пользователя каждого региона"
   ]
  },
  {
   "cell_type": "markdown",
   "id": "9eb5577e",
   "metadata": {},
   "source": [
    "Посмотрим на самые популярные платформы (топ-5) пользователей северной Америки, Японии и Европы. Создадим 3 датасета для каждого региона, просуммировав значения продаж по платформам, отсортировав их в убывающем порядке и сохранив только первые 5 строк. Потом объединим все значения в один датасет и по нему построим гистограмму. "
   ]
  },
  {
   "cell_type": "code",
   "execution_count": 68,
   "id": "c4612000",
   "metadata": {},
   "outputs": [
    {
     "data": {
      "image/png": "[encoded data removed]",
      "text/plain": [
       "<Figure size 1080x360 with 1 Axes>"
      ]
     },
     "metadata": {
      "needs_background": "light"
     },
     "output_type": "display_data"
    }
   ],
   "source": [
    "na = games_after_2014.pivot_table(index='platform', values = 'na_sales',aggfunc='mean').sort_values(by='na_sales',ascending=False).head(5)\n",
    "eu = games_after_2014.pivot_table(index='platform', values = 'eu_sales',aggfunc='mean').sort_values(by='eu_sales',ascending=False).head(5)\n",
    "jp = games_after_2014.pivot_table(index='platform', values = 'jp_sales',aggfunc='mean').sort_values(by='jp_sales',ascending=False).head(5)\n",
    "pivot_5 = na.merge(eu,left_on='platform',right_on='platform' ,how = 'outer')\n",
    "pivot_5 = pivot_5.merge(jp,left_on='platform',right_on='platform' ,how = 'outer').plot(kind='bar', figsize = (15,5),grid=True)\n",
    "plt.legend(['Северная Америка', 'Европейские пользователи', 'Япония'],prop={'size':15})\n",
    "plt.xlabel('платформа',fontsize = 15)\n",
    "plt.ylabel('медиана продаж млн.',fontsize = 15)\n",
    "plt.title('Медианные продажи игр по платформам', fontsize=15);"
   ]
  },
  {
   "cell_type": "markdown",
   "id": "9325265d",
   "metadata": {},
   "source": [
    " Как видим по новому актуальному периоду и используя медианый показатель продаж игр явным лидером у американских игроков является платформа XOne, у европейских игроков наиболее прибыльной платформой является PS4. Японские игроки предпочитают платформу 3DS. Как видим игроки различных континентов предпочитаю разные платформы, но в пятерке всех локаций пользователей присутствует платформа WiiU."
   ]
  },
  {
   "cell_type": "markdown",
   "id": "48b9fe0b",
   "metadata": {},
   "source": [
    "Хоть японские пользователи и являются аутсайдерами по купленным играм, но сама Япония держится молодцом, так как и PlayStation и Wii и DS, SNES, 3DS все это японские производители, и во всем этом японском разнообразии обособленно держится единственный представитель американского производителя - X360, с максимальным количеством игр, приобретенными американцами."
   ]
  },
  {
   "cell_type": "markdown",
   "id": "e79c5f49",
   "metadata": {},
   "source": [
    "###  Популярные жанры по регионам"
   ]
  },
  {
   "cell_type": "markdown",
   "id": "de5450f0",
   "metadata": {},
   "source": [
    "Самые популярные жанры (топ-5)пользователей северной Америки, Японии и Европы."
   ]
  },
  {
   "cell_type": "code",
   "execution_count": 69,
   "id": "9bb709aa",
   "metadata": {},
   "outputs": [
    {
     "data": {
      "image/png": "[encoded data removed]",
      "text/plain": [
       "<Figure size 1080x360 with 1 Axes>"
      ]
     },
     "metadata": {
      "needs_background": "light"
     },
     "output_type": "display_data"
    }
   ],
   "source": [
    "g_ne = games_after_2014.pivot_table(index='genre', values = 'na_sales',aggfunc='mean').sort_values(by='na_sales',ascending=False).head(5)\n",
    "g_eu = games_after_2014.pivot_table(index='genre', values = 'eu_sales',aggfunc='mean').sort_values(by='eu_sales',ascending=False).head(5)\n",
    "g_jp = games_after_2014.pivot_table(index='genre', values = 'jp_sales',aggfunc='mean').sort_values(by='jp_sales',ascending=False).head(5)\n",
    "g_pivot_5 = g_eu.merge(g_ne,left_on='genre',right_on='genre' ,how = 'outer')\n",
    "g_pivot_5 = g_pivot_5.merge(g_jp,left_on='genre',right_on='genre' ,how = 'outer').plot(kind='bar', figsize = (15,5), grid = True)\n",
    "plt.legend(['Европейские пользователи', 'Северная Америка', 'Япония'],prop={'size':15})\n",
    "plt.xlabel('платформа',fontsize = 15)\n",
    "plt.ylabel('медиана продаж млн.',fontsize = 15)\n",
    "plt.title('Медианные продажи игр по платформам', fontsize=15);"
   ]
  },
  {
   "cell_type": "markdown",
   "id": "13ad591c",
   "metadata": {},
   "source": [
    "Жанр шутер приобладает по медианным продажам в двух регионах - американском и европейском, в среднем этот жанр приносит в два раза больше прибыли нежели спортивные жанры игр (на втором месте по популярности). Отдельно держатся японские игроки, которые больше предпочитают ролевые игры, файтинги и платформенные игры.\n"
   ]
  },
  {
   "cell_type": "markdown",
   "id": "1403410e",
   "metadata": {},
   "source": [
    "### Значение рейтинга ESRB"
   ]
  },
  {
   "cell_type": "markdown",
   "id": "21b9ba48",
   "metadata": {},
   "source": [
    "Выясним если ли зависимость рейтинаг ESRB на продажи в отдельном регионе?"
   ]
  },
  {
   "cell_type": "markdown",
   "id": "4c2f7578",
   "metadata": {},
   "source": [
    "Так же сгруппируем данные по каждому региону, объединим их и построим по ним гистограмму."
   ]
  },
  {
   "cell_type": "code",
   "execution_count": 52,
   "id": "8a244a1a",
   "metadata": {
    "scrolled": true
   },
   "outputs": [],
   "source": [
    "\n",
    "ESRB_ne = games_after_2014.pivot_table(index='ESRB_description', values = 'na_sales',aggfunc='sum'\n",
    "                                      ).sort_values(by='na_sales',ascending=False).head(6)\n",
    "\n",
    "ESRB_eu = games_after_2014.pivot_table(index='ESRB_description', values = 'eu_sales',aggfunc='sum'\n",
    "                                      ).sort_values(by='eu_sales',ascending=False).head(6)\n",
    "\n",
    "ESRB_jp = games_after_2014.pivot_table(index='ESRB_description', values = 'jp_sales',aggfunc='sum'\n",
    "                                      ).sort_values(by='jp_sales',ascending=False).head(6)\n",
    "\n",
    "pivot_ESRB = ESRB_eu.merge(ESRB_ne,left_on='ESRB_description',right_on='ESRB_description' ,how = 'outer')\n",
    "\n",
    "pivot_ESRB = pivot_ESRB.merge(ESRB_jp,left_on='ESRB_description',right_on='ESRB_description' ,how = 'outer')                   "
   ]
  },
  {
   "cell_type": "code",
   "execution_count": 53,
   "id": "46774153",
   "metadata": {},
   "outputs": [
    {
     "data": {
      "text/plain": [
       "Text(0.5, 1.0, 'Зависимость продаж от рейтинга ESRB')"
      ]
     },
     "execution_count": 53,
     "metadata": {},
     "output_type": "execute_result"
    },
    {
     "data": {
      "image/png": "[encoded data removed]",
      "text/plain": [
       "<Figure size 432x288 with 1 Axes>"
      ]
     },
     "metadata": {
      "needs_background": "light"
     },
     "output_type": "display_data"
    }
   ],
   "source": [
    "pivot_ESRB.plot(kind='bar',fontsize=10)\n",
    "plt.legend(['Европейские пользователи', 'Северная Америка', 'Япония'],prop={'size':13})\n",
    "plt.legend(['Европейские пользователи', 'Северная Америка', 'Япония'],prop={'size':12})\n",
    "plt.xlabel('Возрастной рейтинг игры игры',fontsize = 15)\n",
    "plt.ylabel('Копий продано млн.',fontsize = 15)\n",
    "plt.title('Зависимость продаж от рейтинга ESRB', fontsize=15)"
   ]
  },
  {
   "cell_type": "markdown",
   "id": "f0342791",
   "metadata": {},
   "source": [
    "Как видно у европейских и американских игроков наибольшей популярностью пользуются игры с возрастным ограничением от 17 лет, на втором месте стоят игры, в которых рейтинг отсутствует(у японских пользователей такие игры находятся на первом месте). Данные игры без рейтинга продаются в больших объемах. Отсутствие рейтинга может быть связано с работой самого рейтингового агенства, датой начала его работы, игры каких регионов это агенство определяет. Вполне возможно что у японии есть свое рейтинговое агенство компьютерных игр. Игр с отсутствующими данными по рейтингам очень много и эти данные могут поменять статистику зависимости продаж от рейтинга игры. \n",
    "    Так же подозрительно смотрится то, что количество проданных копий по играм, у которых отсутствует рейтинг примерно одинаковый для разных локаций.\n"
   ]
  },
  {
   "cell_type": "markdown",
   "id": "4a10786c",
   "metadata": {},
   "source": [
    "Как видим категория игр с рейтингом \"для всех\" занимает лидирующую позицию по продажам в каждом регионе, больше всего игроков предпочитают игры именно с этим рейтингом, вторые и третьи места по рейтиргу игр ESRB занимают игры для подростков и молодых людей от 17 лет. Игры для детей от 10 лет замыкают самые популярные рейтирги игр, остальные рейтинги настолько незначительны, что даже не отображаются на графике. "
   ]
  },
  {
   "cell_type": "markdown",
   "id": "f05da4b3",
   "metadata": {},
   "source": [
    "## Проверка  гипотез\n"
   ]
  },
  {
   "cell_type": "markdown",
   "id": "693ec9f1",
   "metadata": {},
   "source": [
    "### Равенство  пользовательских рейтингов"
   ]
  },
  {
   "cell_type": "markdown",
   "id": "deecf993",
   "metadata": {},
   "source": [
    "За нулевую гипотезу примем равенство средних пользовательских рейтингов по платформам Xbox One и PC. Альтернативной гипотезой станет неравенство средних. Используем метод scipy.stats.ttest_ind (array1, array2, equal_var = False). Который используется для проверки гипотез равенства средних двух совокупностей. False применим из-за неясности равенства дисперсий. Критический уровень значимости возьмем 0.05"
   ]
  },
  {
   "cell_type": "markdown",
   "id": "ca427ca5",
   "metadata": {},
   "source": [
    "Сформируем два списка с данными рейтингов пользователей, отфильтрованными по платформам и ненулевым значениям."
   ]
  },
  {
   "cell_type": "code",
   "execution_count": 54,
   "id": "433f756a",
   "metadata": {},
   "outputs": [],
   "source": [
    "mean_xbox = games_after_2014.query('(platform==\"XOne\") & (user_score>0)')['user_score']\n",
    "mean_pc = games_after_2014.query('(platform==\"PC\") & (user_score>0)')['user_score']"
   ]
  },
  {
   "cell_type": "code",
   "execution_count": 55,
   "id": "b4986694",
   "metadata": {},
   "outputs": [
    {
     "name": "stdout",
     "output_type": "stream",
     "text": [
      "p-значение: 0.11601398086668827\n",
      "Не получилось отвергнуть нулевую гипотезу\n"
     ]
    }
   ],
   "source": [
    "alpha = .05\n",
    "results = st.ttest_ind(mean_xbox, mean_pc, equal_var = False )\n",
    "print('p-значение:', results.pvalue)\n",
    "if (results.pvalue < alpha):\n",
    "    print(\"Отвергаем нулевую гипотезу\")\n",
    "else:\n",
    "\n",
    "    print(\"Не получилось отвергнуть нулевую гипотезу\")"
   ]
  },
  {
   "cell_type": "markdown",
   "id": "98301bdb",
   "metadata": {},
   "source": [
    "Гипотезу о равенстве средних рейтингов пользователей по двум платформам мы не отклоняем, так как значение pvalue выше критического уровня значимости. Вероятность ошибки первого рода при отклонении гипотезы очень большая. C вероятностью в 11% такое или большее различие между средними рейтингами можно получить случайно. Это явно слишком большая вероятность, чтобы делать вывод о значимом различии между средними оценками пользователей.Можем проверить значения средних.\n",
    "    "
   ]
  },
  {
   "cell_type": "code",
   "execution_count": 56,
   "id": "d81823a3",
   "metadata": {},
   "outputs": [
    {
     "name": "stdout",
     "output_type": "stream",
     "text": [
      "Средняя оценка пользователей для платформы XOne 6.59\n",
      "Средняя оценка пользователей для платформы PC 6.30\n"
     ]
    }
   ],
   "source": [
    "print('Средняя оценка пользователей для платформы XOne {:.2f}'.format(mean_xbox.mean()))\n",
    "print('Средняя оценка пользователей для платформы PC {:.2f}'.format(mean_pc.mean()))"
   ]
  },
  {
   "cell_type": "markdown",
   "id": "227709bf",
   "metadata": {},
   "source": [
    "###  Разность пользовательских рейтингов"
   ]
  },
  {
   "cell_type": "markdown",
   "id": "fbb507a0",
   "metadata": {},
   "source": [
    "Средние пользовательские рейтинги жанров Action и Sports разные."
   ]
  },
  {
   "cell_type": "markdown",
   "id": "78768950",
   "metadata": {},
   "source": [
    "За нулевую гипотезу возьмем равенство средних пользовательских рейтингов по жанрам. Альтернативной гипотезой станет их неравенство."
   ]
  },
  {
   "cell_type": "code",
   "execution_count": 57,
   "id": "45b09116",
   "metadata": {},
   "outputs": [],
   "source": [
    "mean_action = games_after_2014.query('(genre==\"Action\") & (user_score>0)')['user_score']\n",
    "mean_sports = games_after_2014.query('(genre==\"Sports\") & (user_score>0)')['user_score']"
   ]
  },
  {
   "cell_type": "code",
   "execution_count": 58,
   "id": "7db0fc0c",
   "metadata": {},
   "outputs": [
    {
     "name": "stdout",
     "output_type": "stream",
     "text": [
      "p-значение: 1.1825550382644557e-14\n",
      "Отвергаем нулевую гипотезу\n"
     ]
    }
   ],
   "source": [
    "alpha = .05\n",
    "results = st.ttest_ind(mean_action, mean_sports, equal_var = False )\n",
    "print('p-значение:', results.pvalue)\n",
    "if (results.pvalue < alpha):\n",
    "    print(\"Отвергаем нулевую гипотезу\")\n",
    "else:\n",
    "\n",
    "    print(\"Не получилось отвергнуть нулевую гипотезу\")"
   ]
  },
  {
   "cell_type": "code",
   "execution_count": 59,
   "id": "c286483c",
   "metadata": {},
   "outputs": [
    {
     "name": "stdout",
     "output_type": "stream",
     "text": [
      "Средняя оценка пользователей для жанра Action 6.76\n",
      "Средняя оценка пользователей для жанра Sports 5.23\n"
     ]
    }
   ],
   "source": [
    "print('Средняя оценка пользователей для жанра Action {:.2f}'.format(mean_action.mean()))\n",
    "print('Средняя оценка пользователей для жанра Sports {:.2f}'.format(mean_sports.mean()))"
   ]
  },
  {
   "cell_type": "markdown",
   "id": "7643b79b",
   "metadata": {},
   "source": [
    "Мы отвергаем нашу нулевую гипотезу о равенстве средних значений, значение pvalue меньше 5%, а это значит что существует очень маленькая вероятность ошибки при отклонении гипотезы. Данные альтернативной  гипотезе не противоречат, и у нас появляется основание утверждать о неравенстве средних оценок пользователей  жанров Action и Sports"
   ]
  },
  {
   "cell_type": "markdown",
   "id": "9205d9be",
   "metadata": {},
   "source": [
    "## Выводы:"
   ]
  },
  {
   "cell_type": "markdown",
   "id": "37de4d6f",
   "metadata": {},
   "source": [
    "Выводы:\n",
    "* Взяв медианные данные продаж по актуальному периоду мы выяснили что жанр шутеров превышает по продажам в два раза все остальные жанры игр и лидирует с медианных показателем 1.3 млн.\n",
    "* Основной игровой платформой является PS4 \n",
    "* По некоторым платформам появилась отрицательная корреляция оценок пользователей к показателям продаж\n",
    "* Игроки разных локаций предпочитаю разные платформы( американцы XOne, европейцы PS4, японцы 3DS\n",
    "* У американцев и европейцев лидирует жанр шутер, японцы предпочитают ролевые игры\n",
    "* По рейтингу ESRB лидируют продажи игр с рейтингом от 17 лет у европейских и американских игроков\n",
    "* Однако в японии лидируют игры, у которых рейтинг не проставлен, возможно данное рейтинговое агентство не анализирует игры других стран, не популярных платформ, или какой-то определенной группы пользователей \n",
    "* На  втором месте по европейским и американским продажам игр, находятся игры у которых так же отсутствует рейтинг, это значит что достаточно много пользователей играют в игры, которое это агентство не оценивает.\n",
    "* По сравнению средних пользовательских рейтингов платформ Xbox One и PC выяснилось, что мы не можем отвергнуть гипотезу о их равенстве.\n",
    "* Нулевую гипотезу о равенстве средних пользовательских рейтингов жанров Action и Sports мы отклонили, потому что pvalue  намного меньше критического уровня значимости. Соответственно альтернативную гипотезу о значимой разности средних рейтингов мы не отвергаем. \n",
    "  "
   ]
  },
  {
   "cell_type": "code",
   "execution_count": null,
   "id": "cbf7fe78",
   "metadata": {},
   "outputs": [],
   "source": []
  }
 ],
 "metadata": {
  "ExecuteTimeLog": [
   {
    "duration": 1265,
    "start_time": "2022-05-20T08:08:25.962Z"
   },
   {
    "duration": 53,
    "start_time": "2022-05-20T08:08:27.229Z"
   },
   {
    "duration": 17,
    "start_time": "2022-05-20T08:08:27.284Z"
   },
   {
    "duration": 9,
    "start_time": "2022-05-20T08:08:27.303Z"
   },
   {
    "duration": 15,
    "start_time": "2022-05-20T08:08:27.313Z"
   },
   {
    "duration": 3,
    "start_time": "2022-05-20T08:08:27.330Z"
   },
   {
    "duration": 7,
    "start_time": "2022-05-20T08:08:27.334Z"
   },
   {
    "duration": 57,
    "start_time": "2022-05-20T08:08:27.342Z"
   },
   {
    "duration": 6,
    "start_time": "2022-05-20T08:08:27.401Z"
   },
   {
    "duration": 6,
    "start_time": "2022-05-20T08:08:27.409Z"
   },
   {
    "duration": 6,
    "start_time": "2022-05-20T08:08:27.417Z"
   },
   {
    "duration": 8,
    "start_time": "2022-05-20T08:08:27.424Z"
   },
   {
    "duration": 55,
    "start_time": "2022-05-20T08:08:27.433Z"
   },
   {
    "duration": 8,
    "start_time": "2022-05-20T08:08:27.490Z"
   },
   {
    "duration": 8,
    "start_time": "2022-05-20T08:08:27.500Z"
   },
   {
    "duration": 18,
    "start_time": "2022-05-20T08:08:27.510Z"
   },
   {
    "duration": 6,
    "start_time": "2022-05-20T08:08:27.530Z"
   },
   {
    "duration": 16,
    "start_time": "2022-05-20T08:08:27.537Z"
   },
   {
    "duration": 6,
    "start_time": "2022-05-20T08:08:27.583Z"
   },
   {
    "duration": 6,
    "start_time": "2022-05-20T08:08:27.590Z"
   },
   {
    "duration": 8,
    "start_time": "2022-05-20T08:08:27.597Z"
   },
   {
    "duration": 10,
    "start_time": "2022-05-20T08:08:27.606Z"
   },
   {
    "duration": 475,
    "start_time": "2022-05-20T08:08:27.617Z"
   },
   {
    "duration": 280,
    "start_time": "2022-05-20T08:08:28.094Z"
   },
   {
    "duration": 124,
    "start_time": "2022-05-20T08:08:28.376Z"
   },
   {
    "duration": 312,
    "start_time": "2022-05-20T08:08:28.502Z"
   },
   {
    "duration": 309,
    "start_time": "2022-05-20T08:08:28.816Z"
   },
   {
    "duration": 177,
    "start_time": "2022-05-20T08:08:29.129Z"
   },
   {
    "duration": 15,
    "start_time": "2022-05-20T08:08:29.308Z"
   },
   {
    "duration": 458,
    "start_time": "2022-05-20T08:08:29.325Z"
   },
   {
    "duration": 16,
    "start_time": "2022-05-20T08:08:29.785Z"
   },
   {
    "duration": 237,
    "start_time": "2022-05-20T08:08:29.803Z"
   },
   {
    "duration": 298,
    "start_time": "2022-05-20T08:08:30.042Z"
   },
   {
    "duration": 9,
    "start_time": "2022-05-20T08:08:30.342Z"
   },
   {
    "duration": 8402,
    "start_time": "2022-05-20T08:08:30.352Z"
   },
   {
    "duration": 6,
    "start_time": "2022-05-20T08:08:38.755Z"
   },
   {
    "duration": 156,
    "start_time": "2022-05-20T08:08:38.762Z"
   },
   {
    "duration": 127,
    "start_time": "2022-05-20T08:08:38.920Z"
   },
   {
    "duration": 5,
    "start_time": "2022-05-20T08:08:39.049Z"
   },
   {
    "duration": 720,
    "start_time": "2022-05-20T08:08:39.056Z"
   },
   {
    "duration": 10,
    "start_time": "2022-05-20T08:08:39.783Z"
   },
   {
    "duration": 106,
    "start_time": "2022-05-20T08:08:39.794Z"
   },
   {
    "duration": 15,
    "start_time": "2022-05-20T08:08:39.902Z"
   },
   {
    "duration": 266,
    "start_time": "2022-05-20T08:08:39.919Z"
   },
   {
    "duration": 238,
    "start_time": "2022-05-20T08:08:40.187Z"
   },
   {
    "duration": 231,
    "start_time": "2022-05-20T08:08:40.427Z"
   },
   {
    "duration": 225,
    "start_time": "2022-05-20T08:08:40.660Z"
   },
   {
    "duration": 240,
    "start_time": "2022-05-20T08:08:40.887Z"
   },
   {
    "duration": 9,
    "start_time": "2022-05-20T08:08:41.129Z"
   },
   {
    "duration": 7,
    "start_time": "2022-05-20T08:08:41.139Z"
   },
   {
    "duration": 13,
    "start_time": "2022-05-20T08:08:41.148Z"
   },
   {
    "duration": 21,
    "start_time": "2022-05-20T08:08:41.162Z"
   },
   {
    "duration": 5,
    "start_time": "2022-05-20T08:08:41.185Z"
   },
   {
    "duration": 5,
    "start_time": "2022-05-20T08:08:41.192Z"
   },
   {
    "duration": 628,
    "start_time": "2022-05-20T08:08:41.199Z"
   }
  ],
  "kernelspec": {
   "display_name": "Python 3 (ipykernel)",
   "language": "python",
   "name": "python3"
  },
  "language_info": {
   "codemirror_mode": {
    "name": "ipython",
    "version": 3
   },
   "file_extension": ".py",
   "mimetype": "text/x-python",
   "name": "python",
   "nbconvert_exporter": "python",
   "pygments_lexer": "ipython3",
   "version": "3.9.7"
  },
  "toc": {
   "base_numbering": 1,
   "nav_menu": {},
   "number_sections": true,
   "sideBar": true,
   "skip_h1_title": false,
   "title_cell": "Table of Contents",
   "title_sidebar": "Contents",
   "toc_cell": false,
   "toc_position": {
    "height": "calc(100% - 180px)",
    "left": "10px",
    "top": "150px",
    "width": "392.70220947265625px"
   },
   "toc_section_display": true,
   "toc_window_display": true
  }
 },
 "nbformat": 4,
 "nbformat_minor": 5
}
