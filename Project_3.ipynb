{
 "cells": [
  {
   "cell_type": "markdown",
   "id": "fd22bd94",
   "metadata": {},
   "source": [
    "# Определение перспективного тарифа для телеком-компании"
   ]
  },
  {
   "cell_type": "markdown",
   "id": "b104c61a",
   "metadata": {},
   "source": [
    "У федерального оператора сотовой связи два тарифных плана: «Смарт» и «Ультра». Чтобы скорректировать рекламный бюджет, коммерческий департамент хочет понять, какой тариф приносит больше денег."
   ]
  },
  {
   "cell_type": "markdown",
   "id": "0a856261",
   "metadata": {},
   "source": [
    "Изучим данные, переданные нам для работы и загрузим необходимые библиотеки."
   ]
  },
  {
   "cell_type": "code",
   "execution_count": 1,
   "id": "3c62c597",
   "metadata": {},
   "outputs": [],
   "source": [
    "import pandas as pd\n",
    "import numpy as np\n",
    "import matplotlib.pyplot as plt\n",
    "import seaborn as sns\n",
    "from scipy import stats as st"
   ]
  },
  {
   "cell_type": "code",
   "execution_count": 2,
   "id": "145e5072",
   "metadata": {},
   "outputs": [],
   "source": [
    "pd.options.display.float_format = '{:.2f}'.format"
   ]
  },
  {
   "cell_type": "markdown",
   "id": "b7f1367e",
   "metadata": {},
   "source": [
    "Считаем файлы и сохраним их в соответствующих датасетах"
   ]
  },
  {
   "cell_type": "code",
   "execution_count": 3,
   "id": "b87f5b26",
   "metadata": {},
   "outputs": [],
   "source": [
    "try:\n",
    "    calls_df = pd.read_csv('/datasets/calls.csv')\n",
    "except:\n",
    "    calls_df = pd.read_csv('/Users/romanvasyliev/Downloads/calls.csv')\n",
    "\n",
    "try:\n",
    "    inet_df = pd.read_csv('/datasets/internet.csv')\n",
    "except:\n",
    "    inet_df = pd.read_csv('/Users/romanvasyliev/Downloads/internet.csv')\n",
    "    \n",
    "try:\n",
    "    sms_df = pd.read_csv('/datasets/messages.csv')\n",
    "except:\n",
    "    sms_df = pd.read_csv('/Users/romanvasyliev/Downloads/messages.csv')\n",
    "    \n",
    "try:\n",
    "    tarif_df = pd.read_csv('/datasets/tariffs.csv')\n",
    "except:\n",
    "    tarif_df = pd.read_csv('/Users/romanvasyliev/Downloads/tariffs.csv')\n",
    "    \n",
    "try:\n",
    "    users_df = pd.read_csv('/datasets/users.csv')\n",
    "except:\n",
    "    users_df = pd.read_csv('/Users/romanvasyliev/Downloads/users.csv')\n",
    "    "
   ]
  },
  {
   "cell_type": "markdown",
   "id": "fc74c49c",
   "metadata": {},
   "source": [
    "## Проверка данных"
   ]
  },
  {
   "cell_type": "markdown",
   "id": "1316f960",
   "metadata": {},
   "source": [
    "Проверим информацию по каждому датасету, посмотрим какие значения содержатся, типы данных и наименования столбцов"
   ]
  },
  {
   "cell_type": "code",
   "execution_count": 4,
   "id": "16875b6c",
   "metadata": {},
   "outputs": [
    {
     "name": "stdout",
     "output_type": "stream",
     "text": [
      "<class 'pandas.core.frame.DataFrame'>\n",
      "RangeIndex: 202607 entries, 0 to 202606\n",
      "Data columns (total 4 columns):\n",
      " #   Column     Non-Null Count   Dtype  \n",
      "---  ------     --------------   -----  \n",
      " 0   id         202607 non-null  object \n",
      " 1   call_date  202607 non-null  object \n",
      " 2   duration   202607 non-null  float64\n",
      " 3   user_id    202607 non-null  int64  \n",
      "dtypes: float64(1), int64(1), object(2)\n",
      "memory usage: 6.2+ MB\n"
     ]
    }
   ],
   "source": [
    "calls_df.info()"
   ]
  },
  {
   "cell_type": "markdown",
   "id": "e36fdb93",
   "metadata": {},
   "source": [
    "* id — уникальный номер звонка\n",
    "* call_date — дата звонка\n",
    "* duration — длительность звонка в минутах (по условиям задания 0 - это пропущенный звонок)\n",
    "* user_id — идентификатор пользователя, сделавшего звонок\n",
    "\n",
    "Столбцы id и call_date необходимо изменить тип данных"
   ]
  },
  {
   "cell_type": "code",
   "execution_count": 5,
   "id": "44560e2f",
   "metadata": {},
   "outputs": [
    {
     "data": {
      "text/html": [
       "<div>\n",
       "<style scoped>\n",
       "    .dataframe tbody tr th:only-of-type {\n",
       "        vertical-align: middle;\n",
       "    }\n",
       "\n",
       "    .dataframe tbody tr th {\n",
       "        vertical-align: top;\n",
       "    }\n",
       "\n",
       "    .dataframe thead th {\n",
       "        text-align: right;\n",
       "    }\n",
       "</style>\n",
       "<table border=\"1\" class=\"dataframe\">\n",
       "  <thead>\n",
       "    <tr style=\"text-align: right;\">\n",
       "      <th></th>\n",
       "      <th>duration</th>\n",
       "      <th>user_id</th>\n",
       "    </tr>\n",
       "  </thead>\n",
       "  <tbody>\n",
       "    <tr>\n",
       "      <th>count</th>\n",
       "      <td>202607.00</td>\n",
       "      <td>202607.00</td>\n",
       "    </tr>\n",
       "    <tr>\n",
       "      <th>mean</th>\n",
       "      <td>6.76</td>\n",
       "      <td>1253.94</td>\n",
       "    </tr>\n",
       "    <tr>\n",
       "      <th>std</th>\n",
       "      <td>5.84</td>\n",
       "      <td>144.72</td>\n",
       "    </tr>\n",
       "    <tr>\n",
       "      <th>min</th>\n",
       "      <td>0.00</td>\n",
       "      <td>1000.00</td>\n",
       "    </tr>\n",
       "    <tr>\n",
       "      <th>25%</th>\n",
       "      <td>1.30</td>\n",
       "      <td>1126.00</td>\n",
       "    </tr>\n",
       "    <tr>\n",
       "      <th>50%</th>\n",
       "      <td>6.00</td>\n",
       "      <td>1260.00</td>\n",
       "    </tr>\n",
       "    <tr>\n",
       "      <th>75%</th>\n",
       "      <td>10.70</td>\n",
       "      <td>1379.00</td>\n",
       "    </tr>\n",
       "    <tr>\n",
       "      <th>max</th>\n",
       "      <td>38.00</td>\n",
       "      <td>1499.00</td>\n",
       "    </tr>\n",
       "  </tbody>\n",
       "</table>\n",
       "</div>"
      ],
      "text/plain": [
       "       duration   user_id\n",
       "count 202607.00 202607.00\n",
       "mean       6.76   1253.94\n",
       "std        5.84    144.72\n",
       "min        0.00   1000.00\n",
       "25%        1.30   1126.00\n",
       "50%        6.00   1260.00\n",
       "75%       10.70   1379.00\n",
       "max       38.00   1499.00"
      ]
     },
     "execution_count": 5,
     "metadata": {},
     "output_type": "execute_result"
    }
   ],
   "source": [
    "calls_df.describe()"
   ]
  },
  {
   "cell_type": "markdown",
   "id": "19247b81",
   "metadata": {},
   "source": [
    "Видим что есть нулевые значения - это пропущенные звонки, максимальная продолжительность разговора составляла 38 минут"
   ]
  },
  {
   "cell_type": "code",
   "execution_count": 6,
   "id": "445e2837",
   "metadata": {},
   "outputs": [
    {
     "data": {
      "text/plain": [
       "id           0\n",
       "call_date    0\n",
       "duration     0\n",
       "user_id      0\n",
       "dtype: int64"
      ]
     },
     "execution_count": 6,
     "metadata": {},
     "output_type": "execute_result"
    }
   ],
   "source": [
    "calls_df.isna().sum()"
   ]
  },
  {
   "cell_type": "markdown",
   "id": "6e21f24e",
   "metadata": {},
   "source": [
    "Все данные заполнены - пропусков нет"
   ]
  },
  {
   "cell_type": "code",
   "execution_count": 7,
   "id": "c3bd2ca8",
   "metadata": {},
   "outputs": [
    {
     "data": {
      "text/plain": [
       "0"
      ]
     },
     "execution_count": 7,
     "metadata": {},
     "output_type": "execute_result"
    }
   ],
   "source": [
    "calls_df.duplicated().sum()"
   ]
  },
  {
   "cell_type": "markdown",
   "id": "68cf1b5e",
   "metadata": {},
   "source": [
    "Дубликатов нет. \n",
    "Повторим тоже самое для остальных датасетов"
   ]
  },
  {
   "cell_type": "code",
   "execution_count": 8,
   "id": "ac58eeeb",
   "metadata": {},
   "outputs": [
    {
     "name": "stdout",
     "output_type": "stream",
     "text": [
      "<class 'pandas.core.frame.DataFrame'>\n",
      "RangeIndex: 149396 entries, 0 to 149395\n",
      "Data columns (total 5 columns):\n",
      " #   Column        Non-Null Count   Dtype  \n",
      "---  ------        --------------   -----  \n",
      " 0   Unnamed: 0    149396 non-null  int64  \n",
      " 1   id            149396 non-null  object \n",
      " 2   mb_used       149396 non-null  float64\n",
      " 3   session_date  149396 non-null  object \n",
      " 4   user_id       149396 non-null  int64  \n",
      "dtypes: float64(1), int64(2), object(2)\n",
      "memory usage: 5.7+ MB\n"
     ]
    }
   ],
   "source": [
    "inet_df.info()"
   ]
  },
  {
   "cell_type": "markdown",
   "id": "32dcd040",
   "metadata": {},
   "source": [
    "* id — уникальный номер сессии\n",
    "* mb_used — объём потраченного за сессию интернет-трафика (в мегабайтах)\n",
    "* session_date — дата интернет-сессии\n",
    "* user_id — идентификатор пользователя\n",
    "* Unnamed: 0 - неизвестный столбец\n",
    "\n",
    "Видим необходимость изменить тип данных столбцов id, session_date"
   ]
  },
  {
   "cell_type": "code",
   "execution_count": 9,
   "id": "c5b240ed",
   "metadata": {},
   "outputs": [
    {
     "data": {
      "text/plain": [
       "Unnamed: 0      0\n",
       "id              0\n",
       "mb_used         0\n",
       "session_date    0\n",
       "user_id         0\n",
       "dtype: int64"
      ]
     },
     "execution_count": 9,
     "metadata": {},
     "output_type": "execute_result"
    }
   ],
   "source": [
    "inet_df.isna().sum()"
   ]
  },
  {
   "cell_type": "markdown",
   "id": "065362f2",
   "metadata": {},
   "source": [
    "Пропуски отсутствуют"
   ]
  },
  {
   "cell_type": "code",
   "execution_count": 10,
   "id": "8ba26cbd",
   "metadata": {},
   "outputs": [
    {
     "data": {
      "text/html": [
       "<div>\n",
       "<style scoped>\n",
       "    .dataframe tbody tr th:only-of-type {\n",
       "        vertical-align: middle;\n",
       "    }\n",
       "\n",
       "    .dataframe tbody tr th {\n",
       "        vertical-align: top;\n",
       "    }\n",
       "\n",
       "    .dataframe thead th {\n",
       "        text-align: right;\n",
       "    }\n",
       "</style>\n",
       "<table border=\"1\" class=\"dataframe\">\n",
       "  <thead>\n",
       "    <tr style=\"text-align: right;\">\n",
       "      <th></th>\n",
       "      <th>Unnamed: 0</th>\n",
       "      <th>mb_used</th>\n",
       "      <th>user_id</th>\n",
       "    </tr>\n",
       "  </thead>\n",
       "  <tbody>\n",
       "    <tr>\n",
       "      <th>count</th>\n",
       "      <td>149396.00</td>\n",
       "      <td>149396.00</td>\n",
       "      <td>149396.00</td>\n",
       "    </tr>\n",
       "    <tr>\n",
       "      <th>mean</th>\n",
       "      <td>74697.50</td>\n",
       "      <td>370.19</td>\n",
       "      <td>1252.10</td>\n",
       "    </tr>\n",
       "    <tr>\n",
       "      <th>std</th>\n",
       "      <td>43127.05</td>\n",
       "      <td>278.30</td>\n",
       "      <td>144.05</td>\n",
       "    </tr>\n",
       "    <tr>\n",
       "      <th>min</th>\n",
       "      <td>0.00</td>\n",
       "      <td>0.00</td>\n",
       "      <td>1000.00</td>\n",
       "    </tr>\n",
       "    <tr>\n",
       "      <th>25%</th>\n",
       "      <td>37348.75</td>\n",
       "      <td>138.19</td>\n",
       "      <td>1130.00</td>\n",
       "    </tr>\n",
       "    <tr>\n",
       "      <th>50%</th>\n",
       "      <td>74697.50</td>\n",
       "      <td>348.01</td>\n",
       "      <td>1251.00</td>\n",
       "    </tr>\n",
       "    <tr>\n",
       "      <th>75%</th>\n",
       "      <td>112046.25</td>\n",
       "      <td>559.55</td>\n",
       "      <td>1380.00</td>\n",
       "    </tr>\n",
       "    <tr>\n",
       "      <th>max</th>\n",
       "      <td>149395.00</td>\n",
       "      <td>1724.83</td>\n",
       "      <td>1499.00</td>\n",
       "    </tr>\n",
       "  </tbody>\n",
       "</table>\n",
       "</div>"
      ],
      "text/plain": [
       "       Unnamed: 0   mb_used   user_id\n",
       "count   149396.00 149396.00 149396.00\n",
       "mean     74697.50    370.19   1252.10\n",
       "std      43127.05    278.30    144.05\n",
       "min          0.00      0.00   1000.00\n",
       "25%      37348.75    138.19   1130.00\n",
       "50%      74697.50    348.01   1251.00\n",
       "75%     112046.25    559.55   1380.00\n",
       "max     149395.00   1724.83   1499.00"
      ]
     },
     "execution_count": 10,
     "metadata": {},
     "output_type": "execute_result"
    }
   ],
   "source": [
    "inet_df.describe()"
   ]
  },
  {
   "cell_type": "code",
   "execution_count": 11,
   "id": "27538230",
   "metadata": {},
   "outputs": [
    {
     "data": {
      "text/plain": [
       "0"
      ]
     },
     "execution_count": 11,
     "metadata": {},
     "output_type": "execute_result"
    }
   ],
   "source": [
    "inet_df.duplicated().sum()"
   ]
  },
  {
   "cell_type": "markdown",
   "id": "ef9fb87f",
   "metadata": {},
   "source": [
    "Дубликатов нет и пропусков нет, отлично. Повторим анализ для таблицы с сообщениями"
   ]
  },
  {
   "cell_type": "code",
   "execution_count": 12,
   "id": "dd182382",
   "metadata": {},
   "outputs": [
    {
     "name": "stdout",
     "output_type": "stream",
     "text": [
      "<class 'pandas.core.frame.DataFrame'>\n",
      "RangeIndex: 123036 entries, 0 to 123035\n",
      "Data columns (total 3 columns):\n",
      " #   Column        Non-Null Count   Dtype \n",
      "---  ------        --------------   ----- \n",
      " 0   id            123036 non-null  object\n",
      " 1   message_date  123036 non-null  object\n",
      " 2   user_id       123036 non-null  int64 \n",
      "dtypes: int64(1), object(2)\n",
      "memory usage: 2.8+ MB\n"
     ]
    }
   ],
   "source": [
    "sms_df.info()"
   ]
  },
  {
   "cell_type": "markdown",
   "id": "ba553979",
   "metadata": {},
   "source": [
    "* id — уникальный номер сообщения\n",
    "* message_date — дата сообщения\n",
    "* user_id — идентификатор пользователя, отправившего сообщение\n",
    "\n",
    "Необходио сменить типы данных для столбцов id,  message_date"
   ]
  },
  {
   "cell_type": "code",
   "execution_count": 13,
   "id": "0b952d97",
   "metadata": {},
   "outputs": [
    {
     "data": {
      "text/plain": [
       "id              0\n",
       "message_date    0\n",
       "user_id         0\n",
       "dtype: int64"
      ]
     },
     "execution_count": 13,
     "metadata": {},
     "output_type": "execute_result"
    }
   ],
   "source": [
    "sms_df.isna().sum()"
   ]
  },
  {
   "cell_type": "code",
   "execution_count": 14,
   "id": "f4919195",
   "metadata": {},
   "outputs": [
    {
     "data": {
      "text/plain": [
       "0"
      ]
     },
     "execution_count": 14,
     "metadata": {},
     "output_type": "execute_result"
    }
   ],
   "source": [
    "inet_df.duplicated().sum()"
   ]
  },
  {
   "cell_type": "markdown",
   "id": "d0c2a900",
   "metadata": {},
   "source": [
    "Дубликатов нет и пропусков нет, проверим датасет с тарифами"
   ]
  },
  {
   "cell_type": "code",
   "execution_count": 15,
   "id": "9b8a831a",
   "metadata": {},
   "outputs": [
    {
     "name": "stdout",
     "output_type": "stream",
     "text": [
      "<class 'pandas.core.frame.DataFrame'>\n",
      "RangeIndex: 2 entries, 0 to 1\n",
      "Data columns (total 8 columns):\n",
      " #   Column                 Non-Null Count  Dtype \n",
      "---  ------                 --------------  ----- \n",
      " 0   messages_included      2 non-null      int64 \n",
      " 1   mb_per_month_included  2 non-null      int64 \n",
      " 2   minutes_included       2 non-null      int64 \n",
      " 3   rub_monthly_fee        2 non-null      int64 \n",
      " 4   rub_per_gb             2 non-null      int64 \n",
      " 5   rub_per_message        2 non-null      int64 \n",
      " 6   rub_per_minute         2 non-null      int64 \n",
      " 7   tariff_name            2 non-null      object\n",
      "dtypes: int64(7), object(1)\n",
      "memory usage: 256.0+ bytes\n"
     ]
    }
   ],
   "source": [
    "tarif_df.info()"
   ]
  },
  {
   "cell_type": "markdown",
   "id": "a2bcf32c",
   "metadata": {},
   "source": [
    "* tariff_name — название тарифа\n",
    "* rub_monthly_fee — ежемесячная абонентская плата в рублях\n",
    "* minutes_included — количество минут разговора в месяц, включённых в абонентскую плату\n",
    "* messages_included — количество сообщений в месяц, включённых в абонентскую плату\n",
    "* mb_per_month_included — объём интернет-трафика, включённого в абонентскую плату (в мегабайтах)\n",
    "* rub_per_minute — стоимость минуты разговора сверх тарифного пакета (например, если в тарифе 100 минут разговора в месяц, то со 101 минуты будет взиматься плата)\n",
    "* rub_per_message — стоимость отправки сообщения сверх тарифного пакета\n",
    "* rub_per_gb — стоимость дополнительного гигабайта интернет-трафика сверх тарифного пакета (1 гигабайт = 1024 мегабайта)\n"
   ]
  },
  {
   "cell_type": "code",
   "execution_count": 16,
   "id": "3b43f860",
   "metadata": {},
   "outputs": [
    {
     "data": {
      "text/html": [
       "<div>\n",
       "<style scoped>\n",
       "    .dataframe tbody tr th:only-of-type {\n",
       "        vertical-align: middle;\n",
       "    }\n",
       "\n",
       "    .dataframe tbody tr th {\n",
       "        vertical-align: top;\n",
       "    }\n",
       "\n",
       "    .dataframe thead th {\n",
       "        text-align: right;\n",
       "    }\n",
       "</style>\n",
       "<table border=\"1\" class=\"dataframe\">\n",
       "  <thead>\n",
       "    <tr style=\"text-align: right;\">\n",
       "      <th></th>\n",
       "      <th>messages_included</th>\n",
       "      <th>mb_per_month_included</th>\n",
       "      <th>minutes_included</th>\n",
       "      <th>rub_monthly_fee</th>\n",
       "      <th>rub_per_gb</th>\n",
       "      <th>rub_per_message</th>\n",
       "      <th>rub_per_minute</th>\n",
       "      <th>tariff_name</th>\n",
       "    </tr>\n",
       "  </thead>\n",
       "  <tbody>\n",
       "    <tr>\n",
       "      <th>0</th>\n",
       "      <td>50</td>\n",
       "      <td>15360</td>\n",
       "      <td>500</td>\n",
       "      <td>550</td>\n",
       "      <td>200</td>\n",
       "      <td>3</td>\n",
       "      <td>3</td>\n",
       "      <td>smart</td>\n",
       "    </tr>\n",
       "    <tr>\n",
       "      <th>1</th>\n",
       "      <td>1000</td>\n",
       "      <td>30720</td>\n",
       "      <td>3000</td>\n",
       "      <td>1950</td>\n",
       "      <td>150</td>\n",
       "      <td>1</td>\n",
       "      <td>1</td>\n",
       "      <td>ultra</td>\n",
       "    </tr>\n",
       "  </tbody>\n",
       "</table>\n",
       "</div>"
      ],
      "text/plain": [
       "   messages_included  mb_per_month_included  minutes_included  \\\n",
       "0                 50                  15360               500   \n",
       "1               1000                  30720              3000   \n",
       "\n",
       "   rub_monthly_fee  rub_per_gb  rub_per_message  rub_per_minute tariff_name  \n",
       "0              550         200                3               3       smart  \n",
       "1             1950         150                1               1       ultra  "
      ]
     },
     "execution_count": 16,
     "metadata": {},
     "output_type": "execute_result"
    }
   ],
   "source": [
    "tarif_df.head()"
   ]
  },
  {
   "cell_type": "markdown",
   "id": "002b6df2",
   "metadata": {},
   "source": [
    "Всего 2 строки с данными по тарифам, типы столбцов корректные - ничего менять не будем. Проверим таблицу пользователей"
   ]
  },
  {
   "cell_type": "code",
   "execution_count": 17,
   "id": "88f05aba",
   "metadata": {},
   "outputs": [
    {
     "data": {
      "text/html": [
       "<div>\n",
       "<style scoped>\n",
       "    .dataframe tbody tr th:only-of-type {\n",
       "        vertical-align: middle;\n",
       "    }\n",
       "\n",
       "    .dataframe tbody tr th {\n",
       "        vertical-align: top;\n",
       "    }\n",
       "\n",
       "    .dataframe thead th {\n",
       "        text-align: right;\n",
       "    }\n",
       "</style>\n",
       "<table border=\"1\" class=\"dataframe\">\n",
       "  <thead>\n",
       "    <tr style=\"text-align: right;\">\n",
       "      <th></th>\n",
       "      <th>user_id</th>\n",
       "      <th>age</th>\n",
       "      <th>churn_date</th>\n",
       "      <th>city</th>\n",
       "      <th>first_name</th>\n",
       "      <th>last_name</th>\n",
       "      <th>reg_date</th>\n",
       "      <th>tariff</th>\n",
       "    </tr>\n",
       "  </thead>\n",
       "  <tbody>\n",
       "    <tr>\n",
       "      <th>0</th>\n",
       "      <td>1000</td>\n",
       "      <td>52</td>\n",
       "      <td>NaN</td>\n",
       "      <td>Краснодар</td>\n",
       "      <td>Рафаил</td>\n",
       "      <td>Верещагин</td>\n",
       "      <td>2018-05-25</td>\n",
       "      <td>ultra</td>\n",
       "    </tr>\n",
       "    <tr>\n",
       "      <th>1</th>\n",
       "      <td>1001</td>\n",
       "      <td>41</td>\n",
       "      <td>NaN</td>\n",
       "      <td>Москва</td>\n",
       "      <td>Иван</td>\n",
       "      <td>Ежов</td>\n",
       "      <td>2018-11-01</td>\n",
       "      <td>smart</td>\n",
       "    </tr>\n",
       "    <tr>\n",
       "      <th>2</th>\n",
       "      <td>1002</td>\n",
       "      <td>59</td>\n",
       "      <td>NaN</td>\n",
       "      <td>Стерлитамак</td>\n",
       "      <td>Евгений</td>\n",
       "      <td>Абрамович</td>\n",
       "      <td>2018-06-17</td>\n",
       "      <td>smart</td>\n",
       "    </tr>\n",
       "    <tr>\n",
       "      <th>3</th>\n",
       "      <td>1003</td>\n",
       "      <td>23</td>\n",
       "      <td>NaN</td>\n",
       "      <td>Москва</td>\n",
       "      <td>Белла</td>\n",
       "      <td>Белякова</td>\n",
       "      <td>2018-08-17</td>\n",
       "      <td>ultra</td>\n",
       "    </tr>\n",
       "    <tr>\n",
       "      <th>4</th>\n",
       "      <td>1004</td>\n",
       "      <td>68</td>\n",
       "      <td>NaN</td>\n",
       "      <td>Новокузнецк</td>\n",
       "      <td>Татьяна</td>\n",
       "      <td>Авдеенко</td>\n",
       "      <td>2018-05-14</td>\n",
       "      <td>ultra</td>\n",
       "    </tr>\n",
       "  </tbody>\n",
       "</table>\n",
       "</div>"
      ],
      "text/plain": [
       "   user_id  age churn_date         city first_name  last_name    reg_date  \\\n",
       "0     1000   52        NaN    Краснодар     Рафаил  Верещагин  2018-05-25   \n",
       "1     1001   41        NaN       Москва       Иван       Ежов  2018-11-01   \n",
       "2     1002   59        NaN  Стерлитамак    Евгений  Абрамович  2018-06-17   \n",
       "3     1003   23        NaN       Москва      Белла   Белякова  2018-08-17   \n",
       "4     1004   68        NaN  Новокузнецк    Татьяна   Авдеенко  2018-05-14   \n",
       "\n",
       "  tariff  \n",
       "0  ultra  \n",
       "1  smart  \n",
       "2  smart  \n",
       "3  ultra  \n",
       "4  ultra  "
      ]
     },
     "execution_count": 17,
     "metadata": {},
     "output_type": "execute_result"
    }
   ],
   "source": [
    "users_df.head()"
   ]
  },
  {
   "cell_type": "markdown",
   "id": "98449cb8",
   "metadata": {},
   "source": [
    "Видим пропуски в 'churn_date', по условию - если стоит пропуск - то тариф еще действовал на момент выгрузки данных"
   ]
  },
  {
   "cell_type": "code",
   "execution_count": 18,
   "id": "6022f606",
   "metadata": {},
   "outputs": [
    {
     "name": "stdout",
     "output_type": "stream",
     "text": [
      "<class 'pandas.core.frame.DataFrame'>\n",
      "RangeIndex: 500 entries, 0 to 499\n",
      "Data columns (total 8 columns):\n",
      " #   Column      Non-Null Count  Dtype \n",
      "---  ------      --------------  ----- \n",
      " 0   user_id     500 non-null    int64 \n",
      " 1   age         500 non-null    int64 \n",
      " 2   churn_date  38 non-null     object\n",
      " 3   city        500 non-null    object\n",
      " 4   first_name  500 non-null    object\n",
      " 5   last_name   500 non-null    object\n",
      " 6   reg_date    500 non-null    object\n",
      " 7   tariff      500 non-null    object\n",
      "dtypes: int64(2), object(6)\n",
      "memory usage: 31.4+ KB\n"
     ]
    }
   ],
   "source": [
    "users_df.info()"
   ]
  },
  {
   "cell_type": "markdown",
   "id": "791fea07",
   "metadata": {},
   "source": [
    "* user_id — уникальный идентификатор пользователя\n",
    "* first_name — имя пользователя\n",
    "* last_name — фамилия пользователя\n",
    "* age — возраст пользователя (годы)\n",
    "* reg_date — дата подключения тарифа (день, месяц, год)\n",
    "* churn_date — дата прекращения пользования тарифом (если значение пропущено, то тариф ещё действовал на момент выгрузки данных)\n",
    "* city — город проживания пользователя\n",
    "* tariff — название тарифного плана\n",
    "\n",
    "\n",
    "Видим столбец reg_date имеет тип данных object, необходимо его будет сменить на date"
   ]
  },
  {
   "cell_type": "code",
   "execution_count": 19,
   "id": "03c2704a",
   "metadata": {},
   "outputs": [
    {
     "data": {
      "text/plain": [
       "user_id         0\n",
       "age             0\n",
       "churn_date    462\n",
       "city            0\n",
       "first_name      0\n",
       "last_name       0\n",
       "reg_date        0\n",
       "tariff          0\n",
       "dtype: int64"
      ]
     },
     "execution_count": 19,
     "metadata": {},
     "output_type": "execute_result"
    }
   ],
   "source": [
    "users_df.isna().sum()"
   ]
  },
  {
   "cell_type": "markdown",
   "id": "06a3a85e",
   "metadata": {},
   "source": [
    "Видим пропуски в 'churn_date', из 500 пользователей 462 использовали текущий тариф на момент выгрузки."
   ]
  },
  {
   "cell_type": "code",
   "execution_count": 20,
   "id": "014cdccd",
   "metadata": {},
   "outputs": [
    {
     "data": {
      "text/plain": [
       "<AxesSubplot:>"
      ]
     },
     "execution_count": 20,
     "metadata": {},
     "output_type": "execute_result"
    },
    {
     "data": {
      "image/png": "[encoded data removed]",
      "text/plain": [
       "<Figure size 432x288 with 1 Axes>"
      ]
     },
     "metadata": {
      "needs_background": "light"
     },
     "output_type": "display_data"
    }
   ],
   "source": [
    "inet_df['mb_used'].hist(bins=100)"
   ]
  },
  {
   "cell_type": "markdown",
   "id": "cab2e8c1",
   "metadata": {},
   "source": [
    "Как видим - количество пользователей, которые не пользуются интернетом или пользуются совсем мало достаточно много."
   ]
  },
  {
   "cell_type": "code",
   "execution_count": 21,
   "id": "b11827ac",
   "metadata": {},
   "outputs": [],
   "source": [
    "id_sms = sms_df['user_id'].unique()\n",
    "id_calls = calls_df['user_id'].unique()\n",
    "id_inet = inet_df['user_id'].unique()\n",
    "id_users = users_df['user_id'].unique()"
   ]
  },
  {
   "cell_type": "code",
   "execution_count": 22,
   "id": "e41f8e8a",
   "metadata": {},
   "outputs": [
    {
     "name": "stdout",
     "output_type": "stream",
     "text": [
      "уникальных пользователей в базе смс 426        Отсутствуют  74\n",
      "уникальных пользователей в базе звонков 492    Отсутствуют  8\n",
      "уникальных пользователей в базе интернет 497   Отсутствуют  3\n"
     ]
    }
   ],
   "source": [
    "counter_sms=0\n",
    "counter_inet=0\n",
    "counter_calls=0\n",
    "for index in id_users:\n",
    "    if index in id_sms:\n",
    "        counter_sms +=1\n",
    "    if index in id_inet:\n",
    "        counter_inet +=1\n",
    "    if index in id_calls:\n",
    "        counter_calls +=1\n",
    "    \n",
    "print ('уникальных пользователей в базе смс',counter_sms, '       Отсутствуют ', len(users_df) - counter_sms )\n",
    "print ('уникальных пользователей в базе звонков',counter_calls, '   Отсутствуют ', len(users_df) - counter_calls  )\n",
    "print ('уникальных пользователей в базе интернет',counter_inet, '  Отсутствуют ', len(users_df) - counter_inet  )"
   ]
  },
  {
   "cell_type": "markdown",
   "id": "5161958d",
   "metadata": {},
   "source": [
    "## Предобработка данных"
   ]
  },
  {
   "cell_type": "markdown",
   "id": "f3cd6044",
   "metadata": {},
   "source": [
    "Изменим типы данных в таблице calls_df"
   ]
  },
  {
   "cell_type": "code",
   "execution_count": 23,
   "id": "bfcece5d",
   "metadata": {},
   "outputs": [],
   "source": [
    "calls_df['call_date'] = pd.to_datetime(calls_df['call_date'], format = '%Y-%m-%d')\n",
    "calls_df['id'] = calls_df['id'].astype('int')"
   ]
  },
  {
   "cell_type": "markdown",
   "id": "bce4a894",
   "metadata": {},
   "source": [
    "Поменяем типы данных в таблице inet_df"
   ]
  },
  {
   "cell_type": "code",
   "execution_count": 24,
   "id": "3fbb5106",
   "metadata": {},
   "outputs": [],
   "source": [
    "inet_df['id'] = inet_df['id'].astype('int')\n",
    "inet_df['session_date'] = pd.to_datetime(inet_df['session_date'], format = '%Y-%m-%d')"
   ]
  },
  {
   "cell_type": "markdown",
   "id": "08bcc4f5",
   "metadata": {},
   "source": [
    "Поменяем типы данных в таблице sms_df"
   ]
  },
  {
   "cell_type": "code",
   "execution_count": 25,
   "id": "76da6437",
   "metadata": {},
   "outputs": [],
   "source": [
    "sms_df['id'] = sms_df['id'].astype('int')\n",
    "sms_df['message_date'] = pd.to_datetime(sms_df['message_date'], format = '%Y-%m-%d')"
   ]
  },
  {
   "cell_type": "markdown",
   "id": "5f5f3251",
   "metadata": {},
   "source": [
    "Поменяем типы данных в таблице users_df"
   ]
  },
  {
   "cell_type": "code",
   "execution_count": 26,
   "id": "6c8dca88",
   "metadata": {},
   "outputs": [],
   "source": [
    "users_df['reg_date'] = pd.to_datetime(users_df['reg_date'], format = '%Y-%m-%d')"
   ]
  },
  {
   "cell_type": "markdown",
   "id": "18212f65",
   "metadata": {},
   "source": [
    "## Расчёты и добавление результатов в таблицу"
   ]
  },
  {
   "cell_type": "markdown",
   "id": "d1a03fc9",
   "metadata": {},
   "source": [
    "Добавим столбец sum_call в котором будут округленные в большую сторону значения из столбца 'duration', потому что так считает оператор выручку. В столбец month добавим значения месяца совершения звонка."
   ]
  },
  {
   "cell_type": "code",
   "execution_count": 27,
   "id": "79d7a68c",
   "metadata": {},
   "outputs": [],
   "source": [
    "calls_df['sum_call'] = np.ceil(calls_df['duration'])"
   ]
  },
  {
   "cell_type": "code",
   "execution_count": 28,
   "id": "ab18ec75",
   "metadata": {},
   "outputs": [],
   "source": [
    "calls_df['month'] = pd.DatetimeIndex(calls_df['call_date']).month"
   ]
  },
  {
   "cell_type": "markdown",
   "id": "f4990332",
   "metadata": {},
   "source": [
    "Добавим столбец 'month' в таблицу inet_df"
   ]
  },
  {
   "cell_type": "code",
   "execution_count": 29,
   "id": "a94141ff",
   "metadata": {},
   "outputs": [],
   "source": [
    "inet_df['month'] = pd.DatetimeIndex(inet_df['session_date']).month"
   ]
  },
  {
   "cell_type": "markdown",
   "id": "df6a842a",
   "metadata": {},
   "source": [
    "В таблице sms_df также создадим столбец 'month'\n"
   ]
  },
  {
   "cell_type": "code",
   "execution_count": 30,
   "id": "8d3a7d0a",
   "metadata": {},
   "outputs": [],
   "source": [
    "sms_df['month'] = pd.DatetimeIndex(sms_df['message_date']).month"
   ]
  },
  {
   "cell_type": "markdown",
   "id": "a5894156",
   "metadata": {},
   "source": [
    "Добавим идентификатор тарифа 'tariff_id' в таблицу users_df, 0 - smart, 1 - ultra, для этого напишем функцию и применим ее к каждой строке датасета users_df"
   ]
  },
  {
   "cell_type": "code",
   "execution_count": 31,
   "id": "af2d8b6d",
   "metadata": {},
   "outputs": [],
   "source": [
    "def set_id_tarif(tariff):\n",
    "    if tariff == 'ultra':\n",
    "        return 1\n",
    "    elif tariff == 'smart':\n",
    "        return 0"
   ]
  },
  {
   "cell_type": "code",
   "execution_count": 32,
   "id": "b3e681e0",
   "metadata": {},
   "outputs": [],
   "source": [
    "users_df['tariff_id'] = users_df['tariff'].apply(set_id_tarif)"
   ]
  },
  {
   "cell_type": "code",
   "execution_count": 33,
   "id": "c35e6c93",
   "metadata": {},
   "outputs": [
    {
     "data": {
      "text/html": [
       "<div>\n",
       "<style scoped>\n",
       "    .dataframe tbody tr th:only-of-type {\n",
       "        vertical-align: middle;\n",
       "    }\n",
       "\n",
       "    .dataframe tbody tr th {\n",
       "        vertical-align: top;\n",
       "    }\n",
       "\n",
       "    .dataframe thead th {\n",
       "        text-align: right;\n",
       "    }\n",
       "</style>\n",
       "<table border=\"1\" class=\"dataframe\">\n",
       "  <thead>\n",
       "    <tr style=\"text-align: right;\">\n",
       "      <th></th>\n",
       "      <th>user_id</th>\n",
       "      <th>age</th>\n",
       "      <th>churn_date</th>\n",
       "      <th>city</th>\n",
       "      <th>first_name</th>\n",
       "      <th>last_name</th>\n",
       "      <th>reg_date</th>\n",
       "      <th>tariff</th>\n",
       "      <th>tariff_id</th>\n",
       "    </tr>\n",
       "  </thead>\n",
       "  <tbody>\n",
       "    <tr>\n",
       "      <th>0</th>\n",
       "      <td>1000</td>\n",
       "      <td>52</td>\n",
       "      <td>NaN</td>\n",
       "      <td>Краснодар</td>\n",
       "      <td>Рафаил</td>\n",
       "      <td>Верещагин</td>\n",
       "      <td>2018-05-25</td>\n",
       "      <td>ultra</td>\n",
       "      <td>1</td>\n",
       "    </tr>\n",
       "    <tr>\n",
       "      <th>1</th>\n",
       "      <td>1001</td>\n",
       "      <td>41</td>\n",
       "      <td>NaN</td>\n",
       "      <td>Москва</td>\n",
       "      <td>Иван</td>\n",
       "      <td>Ежов</td>\n",
       "      <td>2018-11-01</td>\n",
       "      <td>smart</td>\n",
       "      <td>0</td>\n",
       "    </tr>\n",
       "    <tr>\n",
       "      <th>2</th>\n",
       "      <td>1002</td>\n",
       "      <td>59</td>\n",
       "      <td>NaN</td>\n",
       "      <td>Стерлитамак</td>\n",
       "      <td>Евгений</td>\n",
       "      <td>Абрамович</td>\n",
       "      <td>2018-06-17</td>\n",
       "      <td>smart</td>\n",
       "      <td>0</td>\n",
       "    </tr>\n",
       "    <tr>\n",
       "      <th>3</th>\n",
       "      <td>1003</td>\n",
       "      <td>23</td>\n",
       "      <td>NaN</td>\n",
       "      <td>Москва</td>\n",
       "      <td>Белла</td>\n",
       "      <td>Белякова</td>\n",
       "      <td>2018-08-17</td>\n",
       "      <td>ultra</td>\n",
       "      <td>1</td>\n",
       "    </tr>\n",
       "    <tr>\n",
       "      <th>4</th>\n",
       "      <td>1004</td>\n",
       "      <td>68</td>\n",
       "      <td>NaN</td>\n",
       "      <td>Новокузнецк</td>\n",
       "      <td>Татьяна</td>\n",
       "      <td>Авдеенко</td>\n",
       "      <td>2018-05-14</td>\n",
       "      <td>ultra</td>\n",
       "      <td>1</td>\n",
       "    </tr>\n",
       "    <tr>\n",
       "      <th>...</th>\n",
       "      <td>...</td>\n",
       "      <td>...</td>\n",
       "      <td>...</td>\n",
       "      <td>...</td>\n",
       "      <td>...</td>\n",
       "      <td>...</td>\n",
       "      <td>...</td>\n",
       "      <td>...</td>\n",
       "      <td>...</td>\n",
       "    </tr>\n",
       "    <tr>\n",
       "      <th>495</th>\n",
       "      <td>1495</td>\n",
       "      <td>65</td>\n",
       "      <td>NaN</td>\n",
       "      <td>Иркутск</td>\n",
       "      <td>Авксентий</td>\n",
       "      <td>Фокин</td>\n",
       "      <td>2018-08-28</td>\n",
       "      <td>ultra</td>\n",
       "      <td>1</td>\n",
       "    </tr>\n",
       "    <tr>\n",
       "      <th>496</th>\n",
       "      <td>1496</td>\n",
       "      <td>36</td>\n",
       "      <td>NaN</td>\n",
       "      <td>Вологда</td>\n",
       "      <td>Трифон</td>\n",
       "      <td>Блохин</td>\n",
       "      <td>2018-01-27</td>\n",
       "      <td>smart</td>\n",
       "      <td>0</td>\n",
       "    </tr>\n",
       "    <tr>\n",
       "      <th>497</th>\n",
       "      <td>1497</td>\n",
       "      <td>32</td>\n",
       "      <td>NaN</td>\n",
       "      <td>Челябинск</td>\n",
       "      <td>Каролина</td>\n",
       "      <td>Агеева</td>\n",
       "      <td>2018-10-09</td>\n",
       "      <td>smart</td>\n",
       "      <td>0</td>\n",
       "    </tr>\n",
       "    <tr>\n",
       "      <th>498</th>\n",
       "      <td>1498</td>\n",
       "      <td>68</td>\n",
       "      <td>2018-10-25</td>\n",
       "      <td>Владикавказ</td>\n",
       "      <td>Всеволод</td>\n",
       "      <td>Акимчин</td>\n",
       "      <td>2018-07-19</td>\n",
       "      <td>smart</td>\n",
       "      <td>0</td>\n",
       "    </tr>\n",
       "    <tr>\n",
       "      <th>499</th>\n",
       "      <td>1499</td>\n",
       "      <td>35</td>\n",
       "      <td>NaN</td>\n",
       "      <td>Пермь</td>\n",
       "      <td>Гектор</td>\n",
       "      <td>Корнилов</td>\n",
       "      <td>2018-09-27</td>\n",
       "      <td>smart</td>\n",
       "      <td>0</td>\n",
       "    </tr>\n",
       "  </tbody>\n",
       "</table>\n",
       "<p>500 rows × 9 columns</p>\n",
       "</div>"
      ],
      "text/plain": [
       "     user_id  age  churn_date         city first_name  last_name   reg_date  \\\n",
       "0       1000   52         NaN    Краснодар     Рафаил  Верещагин 2018-05-25   \n",
       "1       1001   41         NaN       Москва       Иван       Ежов 2018-11-01   \n",
       "2       1002   59         NaN  Стерлитамак    Евгений  Абрамович 2018-06-17   \n",
       "3       1003   23         NaN       Москва      Белла   Белякова 2018-08-17   \n",
       "4       1004   68         NaN  Новокузнецк    Татьяна   Авдеенко 2018-05-14   \n",
       "..       ...  ...         ...          ...        ...        ...        ...   \n",
       "495     1495   65         NaN      Иркутск  Авксентий      Фокин 2018-08-28   \n",
       "496     1496   36         NaN      Вологда     Трифон     Блохин 2018-01-27   \n",
       "497     1497   32         NaN    Челябинск   Каролина     Агеева 2018-10-09   \n",
       "498     1498   68  2018-10-25  Владикавказ   Всеволод    Акимчин 2018-07-19   \n",
       "499     1499   35         NaN        Пермь     Гектор   Корнилов 2018-09-27   \n",
       "\n",
       "    tariff  tariff_id  \n",
       "0    ultra          1  \n",
       "1    smart          0  \n",
       "2    smart          0  \n",
       "3    ultra          1  \n",
       "4    ultra          1  \n",
       "..     ...        ...  \n",
       "495  ultra          1  \n",
       "496  smart          0  \n",
       "497  smart          0  \n",
       "498  smart          0  \n",
       "499  smart          0  \n",
       "\n",
       "[500 rows x 9 columns]"
      ]
     },
     "execution_count": 33,
     "metadata": {},
     "output_type": "execute_result"
    }
   ],
   "source": [
    "users_df"
   ]
  },
  {
   "cell_type": "markdown",
   "id": "af63994c",
   "metadata": {},
   "source": [
    "### объединение таблиц "
   ]
  },
  {
   "cell_type": "markdown",
   "id": "6a6c715c",
   "metadata": {},
   "source": [
    "Объединим таблицы users_df и calls_df, они объединятся по user_id. Затем мы создадим сводную таблицу, которая сгруппирует данные по пользователям и месяцам звонков с помощью функций посчитаем количество звонков по месяцам и их продолжительность. Так же переименуем столбцы в 'sum_call' и 'count_call'."
   ]
  },
  {
   "cell_type": "code",
   "execution_count": 34,
   "id": "76c81cc2",
   "metadata": {},
   "outputs": [],
   "source": [
    "calls_users = users_df.merge(calls_df)\n",
    "call_pivot= calls_users.pivot_table(index=['user_id','month'], values='sum_call',aggfunc=['sum','count'])\n",
    "call_pivot.columns = ['sum_call','count_call']"
   ]
  },
  {
   "cell_type": "code",
   "execution_count": 35,
   "id": "1ed74607",
   "metadata": {},
   "outputs": [
    {
     "data": {
      "text/html": [
       "<div>\n",
       "<style scoped>\n",
       "    .dataframe tbody tr th:only-of-type {\n",
       "        vertical-align: middle;\n",
       "    }\n",
       "\n",
       "    .dataframe tbody tr th {\n",
       "        vertical-align: top;\n",
       "    }\n",
       "\n",
       "    .dataframe thead th {\n",
       "        text-align: right;\n",
       "    }\n",
       "</style>\n",
       "<table border=\"1\" class=\"dataframe\">\n",
       "  <thead>\n",
       "    <tr style=\"text-align: right;\">\n",
       "      <th></th>\n",
       "      <th></th>\n",
       "      <th>sum_call</th>\n",
       "      <th>count_call</th>\n",
       "    </tr>\n",
       "    <tr>\n",
       "      <th>user_id</th>\n",
       "      <th>month</th>\n",
       "      <th></th>\n",
       "      <th></th>\n",
       "    </tr>\n",
       "  </thead>\n",
       "  <tbody>\n",
       "    <tr>\n",
       "      <th rowspan=\"5\" valign=\"top\">1000</th>\n",
       "      <th>5</th>\n",
       "      <td>159.00</td>\n",
       "      <td>22</td>\n",
       "    </tr>\n",
       "    <tr>\n",
       "      <th>6</th>\n",
       "      <td>172.00</td>\n",
       "      <td>43</td>\n",
       "    </tr>\n",
       "    <tr>\n",
       "      <th>7</th>\n",
       "      <td>340.00</td>\n",
       "      <td>47</td>\n",
       "    </tr>\n",
       "    <tr>\n",
       "      <th>8</th>\n",
       "      <td>408.00</td>\n",
       "      <td>52</td>\n",
       "    </tr>\n",
       "    <tr>\n",
       "      <th>9</th>\n",
       "      <td>466.00</td>\n",
       "      <td>58</td>\n",
       "    </tr>\n",
       "    <tr>\n",
       "      <th>...</th>\n",
       "      <th>...</th>\n",
       "      <td>...</td>\n",
       "      <td>...</td>\n",
       "    </tr>\n",
       "    <tr>\n",
       "      <th>1498</th>\n",
       "      <th>10</th>\n",
       "      <td>247.00</td>\n",
       "      <td>41</td>\n",
       "    </tr>\n",
       "    <tr>\n",
       "      <th rowspan=\"4\" valign=\"top\">1499</th>\n",
       "      <th>9</th>\n",
       "      <td>70.00</td>\n",
       "      <td>9</td>\n",
       "    </tr>\n",
       "    <tr>\n",
       "      <th>10</th>\n",
       "      <td>449.00</td>\n",
       "      <td>68</td>\n",
       "    </tr>\n",
       "    <tr>\n",
       "      <th>11</th>\n",
       "      <td>612.00</td>\n",
       "      <td>74</td>\n",
       "    </tr>\n",
       "    <tr>\n",
       "      <th>12</th>\n",
       "      <td>492.00</td>\n",
       "      <td>69</td>\n",
       "    </tr>\n",
       "  </tbody>\n",
       "</table>\n",
       "<p>3174 rows × 2 columns</p>\n",
       "</div>"
      ],
      "text/plain": [
       "               sum_call  count_call\n",
       "user_id month                      \n",
       "1000    5        159.00          22\n",
       "        6        172.00          43\n",
       "        7        340.00          47\n",
       "        8        408.00          52\n",
       "        9        466.00          58\n",
       "...                 ...         ...\n",
       "1498    10       247.00          41\n",
       "1499    9         70.00           9\n",
       "        10       449.00          68\n",
       "        11       612.00          74\n",
       "        12       492.00          69\n",
       "\n",
       "[3174 rows x 2 columns]"
      ]
     },
     "execution_count": 35,
     "metadata": {},
     "output_type": "execute_result"
    }
   ],
   "source": [
    "call_pivot"
   ]
  },
  {
   "cell_type": "markdown",
   "id": "adac8fdd",
   "metadata": {},
   "source": [
    "Объединим таблицы пользователей и таблицу с данными по интернет соединениям. Затем мы создадим сводную таблицу, которая сгруппирует данные по пользователям и интернет соединениям, с помощью функции посчитаем сумму трафика за месяц по каждому полльзователю."
   ]
  },
  {
   "cell_type": "code",
   "execution_count": 36,
   "id": "c62e1670",
   "metadata": {},
   "outputs": [
    {
     "data": {
      "text/html": [
       "<div>\n",
       "<style scoped>\n",
       "    .dataframe tbody tr th:only-of-type {\n",
       "        vertical-align: middle;\n",
       "    }\n",
       "\n",
       "    .dataframe tbody tr th {\n",
       "        vertical-align: top;\n",
       "    }\n",
       "\n",
       "    .dataframe thead th {\n",
       "        text-align: right;\n",
       "    }\n",
       "</style>\n",
       "<table border=\"1\" class=\"dataframe\">\n",
       "  <thead>\n",
       "    <tr style=\"text-align: right;\">\n",
       "      <th></th>\n",
       "      <th></th>\n",
       "      <th>mb_used</th>\n",
       "    </tr>\n",
       "    <tr>\n",
       "      <th>user_id</th>\n",
       "      <th>month</th>\n",
       "      <th></th>\n",
       "    </tr>\n",
       "  </thead>\n",
       "  <tbody>\n",
       "    <tr>\n",
       "      <th rowspan=\"5\" valign=\"top\">1000</th>\n",
       "      <th>5</th>\n",
       "      <td>2253.49</td>\n",
       "    </tr>\n",
       "    <tr>\n",
       "      <th>6</th>\n",
       "      <td>23233.77</td>\n",
       "    </tr>\n",
       "    <tr>\n",
       "      <th>7</th>\n",
       "      <td>14003.64</td>\n",
       "    </tr>\n",
       "    <tr>\n",
       "      <th>8</th>\n",
       "      <td>14055.93</td>\n",
       "    </tr>\n",
       "    <tr>\n",
       "      <th>9</th>\n",
       "      <td>14568.91</td>\n",
       "    </tr>\n",
       "    <tr>\n",
       "      <th>...</th>\n",
       "      <th>...</th>\n",
       "      <td>...</td>\n",
       "    </tr>\n",
       "    <tr>\n",
       "      <th>1498</th>\n",
       "      <th>10</th>\n",
       "      <td>20579.36</td>\n",
       "    </tr>\n",
       "    <tr>\n",
       "      <th rowspan=\"4\" valign=\"top\">1499</th>\n",
       "      <th>9</th>\n",
       "      <td>1845.75</td>\n",
       "    </tr>\n",
       "    <tr>\n",
       "      <th>10</th>\n",
       "      <td>17788.51</td>\n",
       "    </tr>\n",
       "    <tr>\n",
       "      <th>11</th>\n",
       "      <td>17963.31</td>\n",
       "    </tr>\n",
       "    <tr>\n",
       "      <th>12</th>\n",
       "      <td>13055.58</td>\n",
       "    </tr>\n",
       "  </tbody>\n",
       "</table>\n",
       "<p>3203 rows × 1 columns</p>\n",
       "</div>"
      ],
      "text/plain": [
       "               mb_used\n",
       "user_id month         \n",
       "1000    5      2253.49\n",
       "        6     23233.77\n",
       "        7     14003.64\n",
       "        8     14055.93\n",
       "        9     14568.91\n",
       "...                ...\n",
       "1498    10    20579.36\n",
       "1499    9      1845.75\n",
       "        10    17788.51\n",
       "        11    17963.31\n",
       "        12    13055.58\n",
       "\n",
       "[3203 rows x 1 columns]"
      ]
     },
     "execution_count": 36,
     "metadata": {},
     "output_type": "execute_result"
    }
   ],
   "source": [
    "inet_users = users_df.merge(inet_df)\n",
    "inet_pivot= inet_users.pivot_table(index=['user_id','month'], values='mb_used',aggfunc='sum')\n",
    "inet_pivot"
   ]
  },
  {
   "cell_type": "markdown",
   "id": "dacec587",
   "metadata": {},
   "source": [
    "Объединим таблицы пользователей и таблицу с данными отправленых сообщений смс. Затем мы создадим сводную таблицу, которая сгруппирует данные по пользователям и интернет соединениям, с помощью функции посчитаем количество сообщений, отправленных пользователем за месяц."
   ]
  },
  {
   "cell_type": "code",
   "execution_count": 37,
   "id": "2573bb2e",
   "metadata": {},
   "outputs": [
    {
     "data": {
      "text/html": [
       "<div>\n",
       "<style scoped>\n",
       "    .dataframe tbody tr th:only-of-type {\n",
       "        vertical-align: middle;\n",
       "    }\n",
       "\n",
       "    .dataframe tbody tr th {\n",
       "        vertical-align: top;\n",
       "    }\n",
       "\n",
       "    .dataframe thead th {\n",
       "        text-align: right;\n",
       "    }\n",
       "</style>\n",
       "<table border=\"1\" class=\"dataframe\">\n",
       "  <thead>\n",
       "    <tr style=\"text-align: right;\">\n",
       "      <th></th>\n",
       "      <th></th>\n",
       "      <th>sms_count</th>\n",
       "    </tr>\n",
       "    <tr>\n",
       "      <th>user_id</th>\n",
       "      <th>month</th>\n",
       "      <th></th>\n",
       "    </tr>\n",
       "  </thead>\n",
       "  <tbody>\n",
       "    <tr>\n",
       "      <th rowspan=\"5\" valign=\"top\">1000</th>\n",
       "      <th>5</th>\n",
       "      <td>22</td>\n",
       "    </tr>\n",
       "    <tr>\n",
       "      <th>6</th>\n",
       "      <td>60</td>\n",
       "    </tr>\n",
       "    <tr>\n",
       "      <th>7</th>\n",
       "      <td>75</td>\n",
       "    </tr>\n",
       "    <tr>\n",
       "      <th>8</th>\n",
       "      <td>81</td>\n",
       "    </tr>\n",
       "    <tr>\n",
       "      <th>9</th>\n",
       "      <td>57</td>\n",
       "    </tr>\n",
       "    <tr>\n",
       "      <th>...</th>\n",
       "      <th>...</th>\n",
       "      <td>...</td>\n",
       "    </tr>\n",
       "    <tr>\n",
       "      <th>1498</th>\n",
       "      <th>10</th>\n",
       "      <td>42</td>\n",
       "    </tr>\n",
       "    <tr>\n",
       "      <th rowspan=\"4\" valign=\"top\">1499</th>\n",
       "      <th>9</th>\n",
       "      <td>11</td>\n",
       "    </tr>\n",
       "    <tr>\n",
       "      <th>10</th>\n",
       "      <td>48</td>\n",
       "    </tr>\n",
       "    <tr>\n",
       "      <th>11</th>\n",
       "      <td>59</td>\n",
       "    </tr>\n",
       "    <tr>\n",
       "      <th>12</th>\n",
       "      <td>66</td>\n",
       "    </tr>\n",
       "  </tbody>\n",
       "</table>\n",
       "<p>2717 rows × 1 columns</p>\n",
       "</div>"
      ],
      "text/plain": [
       "               sms_count\n",
       "user_id month           \n",
       "1000    5             22\n",
       "        6             60\n",
       "        7             75\n",
       "        8             81\n",
       "        9             57\n",
       "...                  ...\n",
       "1498    10            42\n",
       "1499    9             11\n",
       "        10            48\n",
       "        11            59\n",
       "        12            66\n",
       "\n",
       "[2717 rows x 1 columns]"
      ]
     },
     "execution_count": 37,
     "metadata": {},
     "output_type": "execute_result"
    }
   ],
   "source": [
    "users_sms = users_df.merge(sms_df)\n",
    "sms_pivot = users_sms.pivot_table(index = ['user_id','month'] ,values = 'id',aggfunc= 'count')\n",
    "sms_pivot.columns = ['sms_count']\n",
    "sms_pivot"
   ]
  },
  {
   "cell_type": "markdown",
   "id": "63b14142",
   "metadata": {},
   "source": [
    "## Создание одного датасета со всеми данными по сводным таблицам"
   ]
  },
  {
   "cell_type": "code",
   "execution_count": 38,
   "id": "4b22a445",
   "metadata": {},
   "outputs": [],
   "source": [
    "full_table = []\n"
   ]
  },
  {
   "cell_type": "markdown",
   "id": "315a8961",
   "metadata": {},
   "source": [
    "Для корректного объединения сводных таблиц в одну необходимо сбросить их индексы "
   ]
  },
  {
   "cell_type": "code",
   "execution_count": 39,
   "id": "9dd8f78c",
   "metadata": {},
   "outputs": [],
   "source": [
    "inet = inet_pivot.reset_index()\n",
    "sms = sms_pivot.reset_index()\n",
    "call = call_pivot.reset_index()"
   ]
  },
  {
   "cell_type": "markdown",
   "id": "f4e98626",
   "metadata": {},
   "source": [
    "Теперь начнем объединять датасеты поочереди методом 'outer', чтобы никакие данные не пропали.\n",
    "Объединим таблицы со звонками и данными интернет соединений и добавим их в full_table "
   ]
  },
  {
   "cell_type": "code",
   "execution_count": 40,
   "id": "a8c2cec9",
   "metadata": {},
   "outputs": [],
   "source": [
    "full_table = call.merge(inet, how = 'outer')"
   ]
  },
  {
   "cell_type": "markdown",
   "id": "afc3fe17",
   "metadata": {},
   "source": [
    "Объединим таблицу с данными смс сообщений"
   ]
  },
  {
   "cell_type": "code",
   "execution_count": 41,
   "id": "4b5a9bc5",
   "metadata": {},
   "outputs": [],
   "source": [
    "full_table = full_table.merge(sms, how = 'outer')"
   ]
  },
  {
   "cell_type": "markdown",
   "id": "bc98d873",
   "metadata": {},
   "source": [
    "Добавим в нашу таблицу информацию о пользователях, объединив  full_table с users_df"
   ]
  },
  {
   "cell_type": "code",
   "execution_count": 42,
   "id": "c860731e",
   "metadata": {},
   "outputs": [
    {
     "data": {
      "text/html": [
       "<div>\n",
       "<style scoped>\n",
       "    .dataframe tbody tr th:only-of-type {\n",
       "        vertical-align: middle;\n",
       "    }\n",
       "\n",
       "    .dataframe tbody tr th {\n",
       "        vertical-align: top;\n",
       "    }\n",
       "\n",
       "    .dataframe thead th {\n",
       "        text-align: right;\n",
       "    }\n",
       "</style>\n",
       "<table border=\"1\" class=\"dataframe\">\n",
       "  <thead>\n",
       "    <tr style=\"text-align: right;\">\n",
       "      <th></th>\n",
       "      <th>user_id</th>\n",
       "      <th>month</th>\n",
       "      <th>sum_call</th>\n",
       "      <th>count_call</th>\n",
       "      <th>mb_used</th>\n",
       "      <th>sms_count</th>\n",
       "      <th>age</th>\n",
       "      <th>churn_date</th>\n",
       "      <th>city</th>\n",
       "      <th>first_name</th>\n",
       "      <th>last_name</th>\n",
       "      <th>reg_date</th>\n",
       "      <th>tariff</th>\n",
       "      <th>tariff_id</th>\n",
       "    </tr>\n",
       "  </thead>\n",
       "  <tbody>\n",
       "    <tr>\n",
       "      <th>0</th>\n",
       "      <td>1000</td>\n",
       "      <td>5.00</td>\n",
       "      <td>159.00</td>\n",
       "      <td>22.00</td>\n",
       "      <td>2253.49</td>\n",
       "      <td>22.00</td>\n",
       "      <td>52</td>\n",
       "      <td>NaN</td>\n",
       "      <td>Краснодар</td>\n",
       "      <td>Рафаил</td>\n",
       "      <td>Верещагин</td>\n",
       "      <td>2018-05-25</td>\n",
       "      <td>ultra</td>\n",
       "      <td>1</td>\n",
       "    </tr>\n",
       "    <tr>\n",
       "      <th>1</th>\n",
       "      <td>1000</td>\n",
       "      <td>6.00</td>\n",
       "      <td>172.00</td>\n",
       "      <td>43.00</td>\n",
       "      <td>23233.77</td>\n",
       "      <td>60.00</td>\n",
       "      <td>52</td>\n",
       "      <td>NaN</td>\n",
       "      <td>Краснодар</td>\n",
       "      <td>Рафаил</td>\n",
       "      <td>Верещагин</td>\n",
       "      <td>2018-05-25</td>\n",
       "      <td>ultra</td>\n",
       "      <td>1</td>\n",
       "    </tr>\n",
       "    <tr>\n",
       "      <th>2</th>\n",
       "      <td>1000</td>\n",
       "      <td>7.00</td>\n",
       "      <td>340.00</td>\n",
       "      <td>47.00</td>\n",
       "      <td>14003.64</td>\n",
       "      <td>75.00</td>\n",
       "      <td>52</td>\n",
       "      <td>NaN</td>\n",
       "      <td>Краснодар</td>\n",
       "      <td>Рафаил</td>\n",
       "      <td>Верещагин</td>\n",
       "      <td>2018-05-25</td>\n",
       "      <td>ultra</td>\n",
       "      <td>1</td>\n",
       "    </tr>\n",
       "    <tr>\n",
       "      <th>3</th>\n",
       "      <td>1000</td>\n",
       "      <td>8.00</td>\n",
       "      <td>408.00</td>\n",
       "      <td>52.00</td>\n",
       "      <td>14055.93</td>\n",
       "      <td>81.00</td>\n",
       "      <td>52</td>\n",
       "      <td>NaN</td>\n",
       "      <td>Краснодар</td>\n",
       "      <td>Рафаил</td>\n",
       "      <td>Верещагин</td>\n",
       "      <td>2018-05-25</td>\n",
       "      <td>ultra</td>\n",
       "      <td>1</td>\n",
       "    </tr>\n",
       "    <tr>\n",
       "      <th>4</th>\n",
       "      <td>1000</td>\n",
       "      <td>9.00</td>\n",
       "      <td>466.00</td>\n",
       "      <td>58.00</td>\n",
       "      <td>14568.91</td>\n",
       "      <td>57.00</td>\n",
       "      <td>52</td>\n",
       "      <td>NaN</td>\n",
       "      <td>Краснодар</td>\n",
       "      <td>Рафаил</td>\n",
       "      <td>Верещагин</td>\n",
       "      <td>2018-05-25</td>\n",
       "      <td>ultra</td>\n",
       "      <td>1</td>\n",
       "    </tr>\n",
       "    <tr>\n",
       "      <th>5</th>\n",
       "      <td>1000</td>\n",
       "      <td>10.00</td>\n",
       "      <td>350.00</td>\n",
       "      <td>57.00</td>\n",
       "      <td>14702.49</td>\n",
       "      <td>73.00</td>\n",
       "      <td>52</td>\n",
       "      <td>NaN</td>\n",
       "      <td>Краснодар</td>\n",
       "      <td>Рафаил</td>\n",
       "      <td>Верещагин</td>\n",
       "      <td>2018-05-25</td>\n",
       "      <td>ultra</td>\n",
       "      <td>1</td>\n",
       "    </tr>\n",
       "    <tr>\n",
       "      <th>6</th>\n",
       "      <td>1000</td>\n",
       "      <td>11.00</td>\n",
       "      <td>338.00</td>\n",
       "      <td>43.00</td>\n",
       "      <td>14756.47</td>\n",
       "      <td>58.00</td>\n",
       "      <td>52</td>\n",
       "      <td>NaN</td>\n",
       "      <td>Краснодар</td>\n",
       "      <td>Рафаил</td>\n",
       "      <td>Верещагин</td>\n",
       "      <td>2018-05-25</td>\n",
       "      <td>ultra</td>\n",
       "      <td>1</td>\n",
       "    </tr>\n",
       "    <tr>\n",
       "      <th>7</th>\n",
       "      <td>1000</td>\n",
       "      <td>12.00</td>\n",
       "      <td>333.00</td>\n",
       "      <td>46.00</td>\n",
       "      <td>9817.61</td>\n",
       "      <td>70.00</td>\n",
       "      <td>52</td>\n",
       "      <td>NaN</td>\n",
       "      <td>Краснодар</td>\n",
       "      <td>Рафаил</td>\n",
       "      <td>Верещагин</td>\n",
       "      <td>2018-05-25</td>\n",
       "      <td>ultra</td>\n",
       "      <td>1</td>\n",
       "    </tr>\n",
       "    <tr>\n",
       "      <th>8</th>\n",
       "      <td>1001</td>\n",
       "      <td>11.00</td>\n",
       "      <td>430.00</td>\n",
       "      <td>59.00</td>\n",
       "      <td>18429.34</td>\n",
       "      <td>NaN</td>\n",
       "      <td>41</td>\n",
       "      <td>NaN</td>\n",
       "      <td>Москва</td>\n",
       "      <td>Иван</td>\n",
       "      <td>Ежов</td>\n",
       "      <td>2018-11-01</td>\n",
       "      <td>smart</td>\n",
       "      <td>0</td>\n",
       "    </tr>\n",
       "    <tr>\n",
       "      <th>9</th>\n",
       "      <td>1001</td>\n",
       "      <td>12.00</td>\n",
       "      <td>414.00</td>\n",
       "      <td>63.00</td>\n",
       "      <td>14036.66</td>\n",
       "      <td>NaN</td>\n",
       "      <td>41</td>\n",
       "      <td>NaN</td>\n",
       "      <td>Москва</td>\n",
       "      <td>Иван</td>\n",
       "      <td>Ежов</td>\n",
       "      <td>2018-11-01</td>\n",
       "      <td>smart</td>\n",
       "      <td>0</td>\n",
       "    </tr>\n",
       "  </tbody>\n",
       "</table>\n",
       "</div>"
      ],
      "text/plain": [
       "   user_id  month  sum_call  count_call  mb_used  sms_count  age churn_date  \\\n",
       "0     1000   5.00    159.00       22.00  2253.49      22.00   52        NaN   \n",
       "1     1000   6.00    172.00       43.00 23233.77      60.00   52        NaN   \n",
       "2     1000   7.00    340.00       47.00 14003.64      75.00   52        NaN   \n",
       "3     1000   8.00    408.00       52.00 14055.93      81.00   52        NaN   \n",
       "4     1000   9.00    466.00       58.00 14568.91      57.00   52        NaN   \n",
       "5     1000  10.00    350.00       57.00 14702.49      73.00   52        NaN   \n",
       "6     1000  11.00    338.00       43.00 14756.47      58.00   52        NaN   \n",
       "7     1000  12.00    333.00       46.00  9817.61      70.00   52        NaN   \n",
       "8     1001  11.00    430.00       59.00 18429.34        NaN   41        NaN   \n",
       "9     1001  12.00    414.00       63.00 14036.66        NaN   41        NaN   \n",
       "\n",
       "        city first_name  last_name   reg_date tariff  tariff_id  \n",
       "0  Краснодар     Рафаил  Верещагин 2018-05-25  ultra          1  \n",
       "1  Краснодар     Рафаил  Верещагин 2018-05-25  ultra          1  \n",
       "2  Краснодар     Рафаил  Верещагин 2018-05-25  ultra          1  \n",
       "3  Краснодар     Рафаил  Верещагин 2018-05-25  ultra          1  \n",
       "4  Краснодар     Рафаил  Верещагин 2018-05-25  ultra          1  \n",
       "5  Краснодар     Рафаил  Верещагин 2018-05-25  ultra          1  \n",
       "6  Краснодар     Рафаил  Верещагин 2018-05-25  ultra          1  \n",
       "7  Краснодар     Рафаил  Верещагин 2018-05-25  ultra          1  \n",
       "8     Москва       Иван       Ежов 2018-11-01  smart          0  \n",
       "9     Москва       Иван       Ежов 2018-11-01  smart          0  "
      ]
     },
     "execution_count": 42,
     "metadata": {},
     "output_type": "execute_result"
    }
   ],
   "source": [
    "full_table = full_table.merge(users_df,how = 'outer')\n",
    "full_table.head(10)"
   ]
  },
  {
   "cell_type": "markdown",
   "id": "9f48e17a",
   "metadata": {},
   "source": [
    "У нас получилась таблица с основными данными для анализа - но в ней есть еще пропуски - потому что какие-то пользователи например не отправляли сообщения в каком то месяце. Заполним эти значения нулями"
   ]
  },
  {
   "cell_type": "code",
   "execution_count": 43,
   "id": "eba2d644",
   "metadata": {},
   "outputs": [
    {
     "data": {
      "text/plain": [
       "user_id          0\n",
       "month            2\n",
       "sum_call        42\n",
       "count_call      42\n",
       "mb_used         13\n",
       "sms_count      499\n",
       "age              0\n",
       "churn_date    3027\n",
       "city             0\n",
       "first_name       0\n",
       "last_name        0\n",
       "reg_date         0\n",
       "tariff           0\n",
       "tariff_id        0\n",
       "dtype: int64"
      ]
     },
     "execution_count": 43,
     "metadata": {},
     "output_type": "execute_result"
    }
   ],
   "source": [
    "full_table.isna().sum()"
   ]
  },
  {
   "cell_type": "markdown",
   "id": "13cffa7a",
   "metadata": {},
   "source": [
    "Видим что в значении месяца есть пара пустых значений - посмотрим что это за пользователи."
   ]
  },
  {
   "cell_type": "code",
   "execution_count": 44,
   "id": "357f7839",
   "metadata": {},
   "outputs": [
    {
     "data": {
      "text/html": [
       "<div>\n",
       "<style scoped>\n",
       "    .dataframe tbody tr th:only-of-type {\n",
       "        vertical-align: middle;\n",
       "    }\n",
       "\n",
       "    .dataframe tbody tr th {\n",
       "        vertical-align: top;\n",
       "    }\n",
       "\n",
       "    .dataframe thead th {\n",
       "        text-align: right;\n",
       "    }\n",
       "</style>\n",
       "<table border=\"1\" class=\"dataframe\">\n",
       "  <thead>\n",
       "    <tr style=\"text-align: right;\">\n",
       "      <th></th>\n",
       "      <th>user_id</th>\n",
       "      <th>month</th>\n",
       "      <th>sum_call</th>\n",
       "      <th>count_call</th>\n",
       "      <th>mb_used</th>\n",
       "      <th>sms_count</th>\n",
       "      <th>age</th>\n",
       "      <th>churn_date</th>\n",
       "      <th>city</th>\n",
       "      <th>first_name</th>\n",
       "      <th>last_name</th>\n",
       "      <th>reg_date</th>\n",
       "      <th>tariff</th>\n",
       "      <th>tariff_id</th>\n",
       "    </tr>\n",
       "  </thead>\n",
       "  <tbody>\n",
       "    <tr>\n",
       "      <th>3214</th>\n",
       "      <td>1128</td>\n",
       "      <td>NaN</td>\n",
       "      <td>NaN</td>\n",
       "      <td>NaN</td>\n",
       "      <td>NaN</td>\n",
       "      <td>NaN</td>\n",
       "      <td>51</td>\n",
       "      <td>2018-12-23</td>\n",
       "      <td>Волжский</td>\n",
       "      <td>Ксения</td>\n",
       "      <td>Агаева</td>\n",
       "      <td>2018-12-15</td>\n",
       "      <td>ultra</td>\n",
       "      <td>1</td>\n",
       "    </tr>\n",
       "    <tr>\n",
       "      <th>3215</th>\n",
       "      <td>1371</td>\n",
       "      <td>NaN</td>\n",
       "      <td>NaN</td>\n",
       "      <td>NaN</td>\n",
       "      <td>NaN</td>\n",
       "      <td>NaN</td>\n",
       "      <td>50</td>\n",
       "      <td>2018-12-30</td>\n",
       "      <td>Омск</td>\n",
       "      <td>Ириней</td>\n",
       "      <td>Трофимов</td>\n",
       "      <td>2018-12-25</td>\n",
       "      <td>smart</td>\n",
       "      <td>0</td>\n",
       "    </tr>\n",
       "  </tbody>\n",
       "</table>\n",
       "</div>"
      ],
      "text/plain": [
       "      user_id  month  sum_call  count_call  mb_used  sms_count  age  \\\n",
       "3214     1128    NaN       NaN         NaN      NaN        NaN   51   \n",
       "3215     1371    NaN       NaN         NaN      NaN        NaN   50   \n",
       "\n",
       "      churn_date      city first_name last_name   reg_date tariff  tariff_id  \n",
       "3214  2018-12-23  Волжский     Ксения    Агаева 2018-12-15  ultra          1  \n",
       "3215  2018-12-30      Омск     Ириней  Трофимов 2018-12-25  smart          0  "
      ]
     },
     "execution_count": 44,
     "metadata": {},
     "output_type": "execute_result"
    }
   ],
   "source": [
    "full_table[full_table['month'].isna()]"
   ]
  },
  {
   "cell_type": "markdown",
   "id": "346e0138",
   "metadata": {},
   "source": [
    "Видим пару пользователей с отсутствующими значениями по всем основным показателям - звонкам, сообщениям, трафику. Удалим данных пользователей из датасета так как они не несут никакой информации."
   ]
  },
  {
   "cell_type": "code",
   "execution_count": 45,
   "id": "d2f7568a",
   "metadata": {},
   "outputs": [],
   "source": [
    "full_table = full_table.dropna(subset=['month'])"
   ]
  },
  {
   "cell_type": "code",
   "execution_count": 46,
   "id": "1bb8d4af",
   "metadata": {},
   "outputs": [
    {
     "data": {
      "text/plain": [
       "user_id          0\n",
       "month            0\n",
       "sum_call        40\n",
       "count_call      40\n",
       "mb_used         11\n",
       "sms_count      497\n",
       "age              0\n",
       "churn_date    3027\n",
       "city             0\n",
       "first_name       0\n",
       "last_name        0\n",
       "reg_date         0\n",
       "tariff           0\n",
       "tariff_id        0\n",
       "dtype: int64"
      ]
     },
     "execution_count": 46,
     "metadata": {},
     "output_type": "execute_result"
    }
   ],
   "source": [
    "full_table.isna().sum()"
   ]
  },
  {
   "cell_type": "markdown",
   "id": "6fc65324",
   "metadata": {},
   "source": [
    "Теперь можно заполнить пустые значения нулями "
   ]
  },
  {
   "cell_type": "code",
   "execution_count": 47,
   "id": "f77b410c",
   "metadata": {},
   "outputs": [],
   "source": [
    "full_table = full_table.fillna(0)"
   ]
  },
  {
   "cell_type": "markdown",
   "id": "3eacc909",
   "metadata": {},
   "source": [
    "Далее для более удобного исследовательского анализа мы добавим в общую таблицу данные по тарифу каждого пользователя - объединим ее с таблицей tarif_df по столбцу tariff_id"
   ]
  },
  {
   "cell_type": "code",
   "execution_count": 48,
   "id": "d529e680",
   "metadata": {},
   "outputs": [],
   "source": [
    "full_table = full_table.merge (tarif_df, left_on = 'tariff_id', right_index = True)"
   ]
  },
  {
   "cell_type": "code",
   "execution_count": 49,
   "id": "73cb7c9f",
   "metadata": {},
   "outputs": [
    {
     "data": {
      "text/html": [
       "<div>\n",
       "<style scoped>\n",
       "    .dataframe tbody tr th:only-of-type {\n",
       "        vertical-align: middle;\n",
       "    }\n",
       "\n",
       "    .dataframe tbody tr th {\n",
       "        vertical-align: top;\n",
       "    }\n",
       "\n",
       "    .dataframe thead th {\n",
       "        text-align: right;\n",
       "    }\n",
       "</style>\n",
       "<table border=\"1\" class=\"dataframe\">\n",
       "  <thead>\n",
       "    <tr style=\"text-align: right;\">\n",
       "      <th></th>\n",
       "      <th>user_id</th>\n",
       "      <th>month</th>\n",
       "      <th>sum_call</th>\n",
       "      <th>count_call</th>\n",
       "      <th>mb_used</th>\n",
       "      <th>sms_count</th>\n",
       "      <th>age</th>\n",
       "      <th>churn_date</th>\n",
       "      <th>city</th>\n",
       "      <th>first_name</th>\n",
       "      <th>...</th>\n",
       "      <th>tariff</th>\n",
       "      <th>tariff_id</th>\n",
       "      <th>messages_included</th>\n",
       "      <th>mb_per_month_included</th>\n",
       "      <th>minutes_included</th>\n",
       "      <th>rub_monthly_fee</th>\n",
       "      <th>rub_per_gb</th>\n",
       "      <th>rub_per_message</th>\n",
       "      <th>rub_per_minute</th>\n",
       "      <th>tariff_name</th>\n",
       "    </tr>\n",
       "  </thead>\n",
       "  <tbody>\n",
       "    <tr>\n",
       "      <th>0</th>\n",
       "      <td>1000</td>\n",
       "      <td>5.00</td>\n",
       "      <td>159.00</td>\n",
       "      <td>22.00</td>\n",
       "      <td>2253.49</td>\n",
       "      <td>22.00</td>\n",
       "      <td>52</td>\n",
       "      <td>0</td>\n",
       "      <td>Краснодар</td>\n",
       "      <td>Рафаил</td>\n",
       "      <td>...</td>\n",
       "      <td>ultra</td>\n",
       "      <td>1</td>\n",
       "      <td>1000</td>\n",
       "      <td>30720</td>\n",
       "      <td>3000</td>\n",
       "      <td>1950</td>\n",
       "      <td>150</td>\n",
       "      <td>1</td>\n",
       "      <td>1</td>\n",
       "      <td>ultra</td>\n",
       "    </tr>\n",
       "    <tr>\n",
       "      <th>1</th>\n",
       "      <td>1000</td>\n",
       "      <td>6.00</td>\n",
       "      <td>172.00</td>\n",
       "      <td>43.00</td>\n",
       "      <td>23233.77</td>\n",
       "      <td>60.00</td>\n",
       "      <td>52</td>\n",
       "      <td>0</td>\n",
       "      <td>Краснодар</td>\n",
       "      <td>Рафаил</td>\n",
       "      <td>...</td>\n",
       "      <td>ultra</td>\n",
       "      <td>1</td>\n",
       "      <td>1000</td>\n",
       "      <td>30720</td>\n",
       "      <td>3000</td>\n",
       "      <td>1950</td>\n",
       "      <td>150</td>\n",
       "      <td>1</td>\n",
       "      <td>1</td>\n",
       "      <td>ultra</td>\n",
       "    </tr>\n",
       "    <tr>\n",
       "      <th>2</th>\n",
       "      <td>1000</td>\n",
       "      <td>7.00</td>\n",
       "      <td>340.00</td>\n",
       "      <td>47.00</td>\n",
       "      <td>14003.64</td>\n",
       "      <td>75.00</td>\n",
       "      <td>52</td>\n",
       "      <td>0</td>\n",
       "      <td>Краснодар</td>\n",
       "      <td>Рафаил</td>\n",
       "      <td>...</td>\n",
       "      <td>ultra</td>\n",
       "      <td>1</td>\n",
       "      <td>1000</td>\n",
       "      <td>30720</td>\n",
       "      <td>3000</td>\n",
       "      <td>1950</td>\n",
       "      <td>150</td>\n",
       "      <td>1</td>\n",
       "      <td>1</td>\n",
       "      <td>ultra</td>\n",
       "    </tr>\n",
       "    <tr>\n",
       "      <th>3</th>\n",
       "      <td>1000</td>\n",
       "      <td>8.00</td>\n",
       "      <td>408.00</td>\n",
       "      <td>52.00</td>\n",
       "      <td>14055.93</td>\n",
       "      <td>81.00</td>\n",
       "      <td>52</td>\n",
       "      <td>0</td>\n",
       "      <td>Краснодар</td>\n",
       "      <td>Рафаил</td>\n",
       "      <td>...</td>\n",
       "      <td>ultra</td>\n",
       "      <td>1</td>\n",
       "      <td>1000</td>\n",
       "      <td>30720</td>\n",
       "      <td>3000</td>\n",
       "      <td>1950</td>\n",
       "      <td>150</td>\n",
       "      <td>1</td>\n",
       "      <td>1</td>\n",
       "      <td>ultra</td>\n",
       "    </tr>\n",
       "    <tr>\n",
       "      <th>4</th>\n",
       "      <td>1000</td>\n",
       "      <td>9.00</td>\n",
       "      <td>466.00</td>\n",
       "      <td>58.00</td>\n",
       "      <td>14568.91</td>\n",
       "      <td>57.00</td>\n",
       "      <td>52</td>\n",
       "      <td>0</td>\n",
       "      <td>Краснодар</td>\n",
       "      <td>Рафаил</td>\n",
       "      <td>...</td>\n",
       "      <td>ultra</td>\n",
       "      <td>1</td>\n",
       "      <td>1000</td>\n",
       "      <td>30720</td>\n",
       "      <td>3000</td>\n",
       "      <td>1950</td>\n",
       "      <td>150</td>\n",
       "      <td>1</td>\n",
       "      <td>1</td>\n",
       "      <td>ultra</td>\n",
       "    </tr>\n",
       "  </tbody>\n",
       "</table>\n",
       "<p>5 rows × 22 columns</p>\n",
       "</div>"
      ],
      "text/plain": [
       "   user_id  month  sum_call  count_call  mb_used  sms_count  age churn_date  \\\n",
       "0     1000   5.00    159.00       22.00  2253.49      22.00   52          0   \n",
       "1     1000   6.00    172.00       43.00 23233.77      60.00   52          0   \n",
       "2     1000   7.00    340.00       47.00 14003.64      75.00   52          0   \n",
       "3     1000   8.00    408.00       52.00 14055.93      81.00   52          0   \n",
       "4     1000   9.00    466.00       58.00 14568.91      57.00   52          0   \n",
       "\n",
       "        city first_name  ... tariff tariff_id messages_included  \\\n",
       "0  Краснодар     Рафаил  ...  ultra         1              1000   \n",
       "1  Краснодар     Рафаил  ...  ultra         1              1000   \n",
       "2  Краснодар     Рафаил  ...  ultra         1              1000   \n",
       "3  Краснодар     Рафаил  ...  ultra         1              1000   \n",
       "4  Краснодар     Рафаил  ...  ultra         1              1000   \n",
       "\n",
       "   mb_per_month_included  minutes_included  rub_monthly_fee  rub_per_gb  \\\n",
       "0                  30720              3000             1950         150   \n",
       "1                  30720              3000             1950         150   \n",
       "2                  30720              3000             1950         150   \n",
       "3                  30720              3000             1950         150   \n",
       "4                  30720              3000             1950         150   \n",
       "\n",
       "   rub_per_message  rub_per_minute  tariff_name  \n",
       "0                1               1        ultra  \n",
       "1                1               1        ultra  \n",
       "2                1               1        ultra  \n",
       "3                1               1        ultra  \n",
       "4                1               1        ultra  \n",
       "\n",
       "[5 rows x 22 columns]"
      ]
     },
     "execution_count": 49,
     "metadata": {},
     "output_type": "execute_result"
    }
   ],
   "source": [
    "full_table.head()"
   ]
  },
  {
   "cell_type": "markdown",
   "id": "7f9f4f45",
   "metadata": {},
   "source": [
    "Добавим в датасет 3 столбца - в каждом отразим разницу между количеством мунут/сообщений/мегабайт пользователя и лимитом тарифа, умноженные на ставку соответсвующего тарифа. Отрицательные значения нам ничего не дадут - это значит пользователь не израсходовал свои лимиты по тарифу по соответствующей услуге и мы их обнулим. А положительные значения показывают сумму, которую пользователь заплатит сверх абонентской платы."
   ]
  },
  {
   "cell_type": "code",
   "execution_count": 50,
   "id": "8d686d05",
   "metadata": {},
   "outputs": [],
   "source": [
    "full_table['calls_revenue'] = (full_table['sum_call'] - full_table['minutes_included']) * full_table['rub_per_minute']\n",
    "full_table['sms_revenue'] = (full_table['sms_count'] - full_table['messages_included']) * full_table['rub_per_message']\n",
    "full_table['calls_revenue'] = full_table['calls_revenue'].clip(lower = 0)\n",
    "full_table['sms_revenue'] = full_table['sms_revenue'].clip(lower = 0)"
   ]
  },
  {
   "cell_type": "code",
   "execution_count": 51,
   "id": "fc804a3f",
   "metadata": {},
   "outputs": [],
   "source": [
    "full_table['inet_revenue'] = (np.ceil((full_table['mb_used'] - full_table['mb_per_month_included']) / 1024) )* full_table['rub_per_gb']\n",
    "full_table['inet_revenue'] = full_table['inet_revenue'].clip(lower = 0)"
   ]
  },
  {
   "cell_type": "markdown",
   "id": "a72ea8d0",
   "metadata": {},
   "source": [
    "\n",
    "добавим столбец с потребленным трафиком в Гб и столбец с количеством Гб - превышающих лимит\n"
   ]
  },
  {
   "cell_type": "code",
   "execution_count": 52,
   "id": "bc0a61b4",
   "metadata": {},
   "outputs": [],
   "source": [
    "full_table['used_gb'] = np.ceil(full_table['mb_used'] / 1024)\n",
    "full_table['gb_excess'] = (np.ceil((full_table['mb_used'] - full_table['mb_per_month_included']) / 1024))\n",
    "full_table['gb_excess'] = full_table['gb_excess'].clip(lower = 0)"
   ]
  },
  {
   "cell_type": "markdown",
   "id": "7aba48fc",
   "metadata": {},
   "source": [
    "### Определение выручки компании"
   ]
  },
  {
   "cell_type": "markdown",
   "id": "b5a10080",
   "metadata": {},
   "source": [
    "Добавим столбец, сумму значений за услуги, превышающие лимиты и саму стоимость абонентской платы - это и будет выручка компании за месяц по данному пользователю."
   ]
  },
  {
   "cell_type": "code",
   "execution_count": 53,
   "id": "65aaff70",
   "metadata": {},
   "outputs": [],
   "source": [
    "full_table['total_revenue'] = full_table['calls_revenue'] +full_table['sms_revenue'] +full_table['inet_revenue'] + full_table['rub_monthly_fee']"
   ]
  },
  {
   "cell_type": "code",
   "execution_count": 54,
   "id": "f3a8e0c8",
   "metadata": {},
   "outputs": [
    {
     "data": {
      "text/html": [
       "<div>\n",
       "<style scoped>\n",
       "    .dataframe tbody tr th:only-of-type {\n",
       "        vertical-align: middle;\n",
       "    }\n",
       "\n",
       "    .dataframe tbody tr th {\n",
       "        vertical-align: top;\n",
       "    }\n",
       "\n",
       "    .dataframe thead th {\n",
       "        text-align: right;\n",
       "    }\n",
       "</style>\n",
       "<table border=\"1\" class=\"dataframe\">\n",
       "  <thead>\n",
       "    <tr style=\"text-align: right;\">\n",
       "      <th></th>\n",
       "      <th>user_id</th>\n",
       "      <th>month</th>\n",
       "      <th>sum_call</th>\n",
       "      <th>count_call</th>\n",
       "      <th>mb_used</th>\n",
       "      <th>sms_count</th>\n",
       "      <th>age</th>\n",
       "      <th>churn_date</th>\n",
       "      <th>city</th>\n",
       "      <th>first_name</th>\n",
       "      <th>...</th>\n",
       "      <th>rub_per_gb</th>\n",
       "      <th>rub_per_message</th>\n",
       "      <th>rub_per_minute</th>\n",
       "      <th>tariff_name</th>\n",
       "      <th>calls_revenue</th>\n",
       "      <th>sms_revenue</th>\n",
       "      <th>inet_revenue</th>\n",
       "      <th>used_gb</th>\n",
       "      <th>gb_excess</th>\n",
       "      <th>total_revenue</th>\n",
       "    </tr>\n",
       "  </thead>\n",
       "  <tbody>\n",
       "    <tr>\n",
       "      <th>0</th>\n",
       "      <td>1000</td>\n",
       "      <td>5.00</td>\n",
       "      <td>159.00</td>\n",
       "      <td>22.00</td>\n",
       "      <td>2253.49</td>\n",
       "      <td>22.00</td>\n",
       "      <td>52</td>\n",
       "      <td>0</td>\n",
       "      <td>Краснодар</td>\n",
       "      <td>Рафаил</td>\n",
       "      <td>...</td>\n",
       "      <td>150</td>\n",
       "      <td>1</td>\n",
       "      <td>1</td>\n",
       "      <td>ultra</td>\n",
       "      <td>0.00</td>\n",
       "      <td>0.00</td>\n",
       "      <td>0.00</td>\n",
       "      <td>3.00</td>\n",
       "      <td>0.00</td>\n",
       "      <td>1950.00</td>\n",
       "    </tr>\n",
       "    <tr>\n",
       "      <th>1</th>\n",
       "      <td>1000</td>\n",
       "      <td>6.00</td>\n",
       "      <td>172.00</td>\n",
       "      <td>43.00</td>\n",
       "      <td>23233.77</td>\n",
       "      <td>60.00</td>\n",
       "      <td>52</td>\n",
       "      <td>0</td>\n",
       "      <td>Краснодар</td>\n",
       "      <td>Рафаил</td>\n",
       "      <td>...</td>\n",
       "      <td>150</td>\n",
       "      <td>1</td>\n",
       "      <td>1</td>\n",
       "      <td>ultra</td>\n",
       "      <td>0.00</td>\n",
       "      <td>0.00</td>\n",
       "      <td>0.00</td>\n",
       "      <td>23.00</td>\n",
       "      <td>0.00</td>\n",
       "      <td>1950.00</td>\n",
       "    </tr>\n",
       "    <tr>\n",
       "      <th>2</th>\n",
       "      <td>1000</td>\n",
       "      <td>7.00</td>\n",
       "      <td>340.00</td>\n",
       "      <td>47.00</td>\n",
       "      <td>14003.64</td>\n",
       "      <td>75.00</td>\n",
       "      <td>52</td>\n",
       "      <td>0</td>\n",
       "      <td>Краснодар</td>\n",
       "      <td>Рафаил</td>\n",
       "      <td>...</td>\n",
       "      <td>150</td>\n",
       "      <td>1</td>\n",
       "      <td>1</td>\n",
       "      <td>ultra</td>\n",
       "      <td>0.00</td>\n",
       "      <td>0.00</td>\n",
       "      <td>0.00</td>\n",
       "      <td>14.00</td>\n",
       "      <td>0.00</td>\n",
       "      <td>1950.00</td>\n",
       "    </tr>\n",
       "    <tr>\n",
       "      <th>3</th>\n",
       "      <td>1000</td>\n",
       "      <td>8.00</td>\n",
       "      <td>408.00</td>\n",
       "      <td>52.00</td>\n",
       "      <td>14055.93</td>\n",
       "      <td>81.00</td>\n",
       "      <td>52</td>\n",
       "      <td>0</td>\n",
       "      <td>Краснодар</td>\n",
       "      <td>Рафаил</td>\n",
       "      <td>...</td>\n",
       "      <td>150</td>\n",
       "      <td>1</td>\n",
       "      <td>1</td>\n",
       "      <td>ultra</td>\n",
       "      <td>0.00</td>\n",
       "      <td>0.00</td>\n",
       "      <td>0.00</td>\n",
       "      <td>14.00</td>\n",
       "      <td>0.00</td>\n",
       "      <td>1950.00</td>\n",
       "    </tr>\n",
       "    <tr>\n",
       "      <th>4</th>\n",
       "      <td>1000</td>\n",
       "      <td>9.00</td>\n",
       "      <td>466.00</td>\n",
       "      <td>58.00</td>\n",
       "      <td>14568.91</td>\n",
       "      <td>57.00</td>\n",
       "      <td>52</td>\n",
       "      <td>0</td>\n",
       "      <td>Краснодар</td>\n",
       "      <td>Рафаил</td>\n",
       "      <td>...</td>\n",
       "      <td>150</td>\n",
       "      <td>1</td>\n",
       "      <td>1</td>\n",
       "      <td>ultra</td>\n",
       "      <td>0.00</td>\n",
       "      <td>0.00</td>\n",
       "      <td>0.00</td>\n",
       "      <td>15.00</td>\n",
       "      <td>0.00</td>\n",
       "      <td>1950.00</td>\n",
       "    </tr>\n",
       "    <tr>\n",
       "      <th>...</th>\n",
       "      <td>...</td>\n",
       "      <td>...</td>\n",
       "      <td>...</td>\n",
       "      <td>...</td>\n",
       "      <td>...</td>\n",
       "      <td>...</td>\n",
       "      <td>...</td>\n",
       "      <td>...</td>\n",
       "      <td>...</td>\n",
       "      <td>...</td>\n",
       "      <td>...</td>\n",
       "      <td>...</td>\n",
       "      <td>...</td>\n",
       "      <td>...</td>\n",
       "      <td>...</td>\n",
       "      <td>...</td>\n",
       "      <td>...</td>\n",
       "      <td>...</td>\n",
       "      <td>...</td>\n",
       "      <td>...</td>\n",
       "      <td>...</td>\n",
       "    </tr>\n",
       "    <tr>\n",
       "      <th>3209</th>\n",
       "      <td>1489</td>\n",
       "      <td>8.00</td>\n",
       "      <td>0.00</td>\n",
       "      <td>0.00</td>\n",
       "      <td>11050.56</td>\n",
       "      <td>17.00</td>\n",
       "      <td>35</td>\n",
       "      <td>0</td>\n",
       "      <td>Санкт-Петербург</td>\n",
       "      <td>Павел</td>\n",
       "      <td>...</td>\n",
       "      <td>200</td>\n",
       "      <td>3</td>\n",
       "      <td>3</td>\n",
       "      <td>smart</td>\n",
       "      <td>0.00</td>\n",
       "      <td>0.00</td>\n",
       "      <td>0.00</td>\n",
       "      <td>11.00</td>\n",
       "      <td>0.00</td>\n",
       "      <td>550.00</td>\n",
       "    </tr>\n",
       "    <tr>\n",
       "      <th>3210</th>\n",
       "      <td>1489</td>\n",
       "      <td>9.00</td>\n",
       "      <td>0.00</td>\n",
       "      <td>0.00</td>\n",
       "      <td>17206.30</td>\n",
       "      <td>32.00</td>\n",
       "      <td>35</td>\n",
       "      <td>0</td>\n",
       "      <td>Санкт-Петербург</td>\n",
       "      <td>Павел</td>\n",
       "      <td>...</td>\n",
       "      <td>200</td>\n",
       "      <td>3</td>\n",
       "      <td>3</td>\n",
       "      <td>smart</td>\n",
       "      <td>0.00</td>\n",
       "      <td>0.00</td>\n",
       "      <td>400.00</td>\n",
       "      <td>17.00</td>\n",
       "      <td>2.00</td>\n",
       "      <td>950.00</td>\n",
       "    </tr>\n",
       "    <tr>\n",
       "      <th>3211</th>\n",
       "      <td>1489</td>\n",
       "      <td>10.00</td>\n",
       "      <td>0.00</td>\n",
       "      <td>0.00</td>\n",
       "      <td>19559.44</td>\n",
       "      <td>21.00</td>\n",
       "      <td>35</td>\n",
       "      <td>0</td>\n",
       "      <td>Санкт-Петербург</td>\n",
       "      <td>Павел</td>\n",
       "      <td>...</td>\n",
       "      <td>200</td>\n",
       "      <td>3</td>\n",
       "      <td>3</td>\n",
       "      <td>smart</td>\n",
       "      <td>0.00</td>\n",
       "      <td>0.00</td>\n",
       "      <td>1000.00</td>\n",
       "      <td>20.00</td>\n",
       "      <td>5.00</td>\n",
       "      <td>1550.00</td>\n",
       "    </tr>\n",
       "    <tr>\n",
       "      <th>3212</th>\n",
       "      <td>1489</td>\n",
       "      <td>11.00</td>\n",
       "      <td>0.00</td>\n",
       "      <td>0.00</td>\n",
       "      <td>17491.56</td>\n",
       "      <td>20.00</td>\n",
       "      <td>35</td>\n",
       "      <td>0</td>\n",
       "      <td>Санкт-Петербург</td>\n",
       "      <td>Павел</td>\n",
       "      <td>...</td>\n",
       "      <td>200</td>\n",
       "      <td>3</td>\n",
       "      <td>3</td>\n",
       "      <td>smart</td>\n",
       "      <td>0.00</td>\n",
       "      <td>0.00</td>\n",
       "      <td>600.00</td>\n",
       "      <td>18.00</td>\n",
       "      <td>3.00</td>\n",
       "      <td>1150.00</td>\n",
       "    </tr>\n",
       "    <tr>\n",
       "      <th>3213</th>\n",
       "      <td>1489</td>\n",
       "      <td>12.00</td>\n",
       "      <td>0.00</td>\n",
       "      <td>0.00</td>\n",
       "      <td>17322.51</td>\n",
       "      <td>35.00</td>\n",
       "      <td>35</td>\n",
       "      <td>0</td>\n",
       "      <td>Санкт-Петербург</td>\n",
       "      <td>Павел</td>\n",
       "      <td>...</td>\n",
       "      <td>200</td>\n",
       "      <td>3</td>\n",
       "      <td>3</td>\n",
       "      <td>smart</td>\n",
       "      <td>0.00</td>\n",
       "      <td>0.00</td>\n",
       "      <td>400.00</td>\n",
       "      <td>17.00</td>\n",
       "      <td>2.00</td>\n",
       "      <td>950.00</td>\n",
       "    </tr>\n",
       "  </tbody>\n",
       "</table>\n",
       "<p>3214 rows × 28 columns</p>\n",
       "</div>"
      ],
      "text/plain": [
       "      user_id  month  sum_call  count_call  mb_used  sms_count  age  \\\n",
       "0        1000   5.00    159.00       22.00  2253.49      22.00   52   \n",
       "1        1000   6.00    172.00       43.00 23233.77      60.00   52   \n",
       "2        1000   7.00    340.00       47.00 14003.64      75.00   52   \n",
       "3        1000   8.00    408.00       52.00 14055.93      81.00   52   \n",
       "4        1000   9.00    466.00       58.00 14568.91      57.00   52   \n",
       "...       ...    ...       ...         ...      ...        ...  ...   \n",
       "3209     1489   8.00      0.00        0.00 11050.56      17.00   35   \n",
       "3210     1489   9.00      0.00        0.00 17206.30      32.00   35   \n",
       "3211     1489  10.00      0.00        0.00 19559.44      21.00   35   \n",
       "3212     1489  11.00      0.00        0.00 17491.56      20.00   35   \n",
       "3213     1489  12.00      0.00        0.00 17322.51      35.00   35   \n",
       "\n",
       "     churn_date             city first_name  ... rub_per_gb rub_per_message  \\\n",
       "0             0        Краснодар     Рафаил  ...        150               1   \n",
       "1             0        Краснодар     Рафаил  ...        150               1   \n",
       "2             0        Краснодар     Рафаил  ...        150               1   \n",
       "3             0        Краснодар     Рафаил  ...        150               1   \n",
       "4             0        Краснодар     Рафаил  ...        150               1   \n",
       "...         ...              ...        ...  ...        ...             ...   \n",
       "3209          0  Санкт-Петербург      Павел  ...        200               3   \n",
       "3210          0  Санкт-Петербург      Павел  ...        200               3   \n",
       "3211          0  Санкт-Петербург      Павел  ...        200               3   \n",
       "3212          0  Санкт-Петербург      Павел  ...        200               3   \n",
       "3213          0  Санкт-Петербург      Павел  ...        200               3   \n",
       "\n",
       "     rub_per_minute  tariff_name  calls_revenue  sms_revenue  inet_revenue  \\\n",
       "0                 1        ultra           0.00         0.00          0.00   \n",
       "1                 1        ultra           0.00         0.00          0.00   \n",
       "2                 1        ultra           0.00         0.00          0.00   \n",
       "3                 1        ultra           0.00         0.00          0.00   \n",
       "4                 1        ultra           0.00         0.00          0.00   \n",
       "...             ...          ...            ...          ...           ...   \n",
       "3209              3        smart           0.00         0.00          0.00   \n",
       "3210              3        smart           0.00         0.00        400.00   \n",
       "3211              3        smart           0.00         0.00       1000.00   \n",
       "3212              3        smart           0.00         0.00        600.00   \n",
       "3213              3        smart           0.00         0.00        400.00   \n",
       "\n",
       "      used_gb  gb_excess  total_revenue  \n",
       "0        3.00       0.00        1950.00  \n",
       "1       23.00       0.00        1950.00  \n",
       "2       14.00       0.00        1950.00  \n",
       "3       14.00       0.00        1950.00  \n",
       "4       15.00       0.00        1950.00  \n",
       "...       ...        ...            ...  \n",
       "3209    11.00       0.00         550.00  \n",
       "3210    17.00       2.00         950.00  \n",
       "3211    20.00       5.00        1550.00  \n",
       "3212    18.00       3.00        1150.00  \n",
       "3213    17.00       2.00         950.00  \n",
       "\n",
       "[3214 rows x 28 columns]"
      ]
     },
     "execution_count": 54,
     "metadata": {},
     "output_type": "execute_result"
    }
   ],
   "source": [
    "full_table"
   ]
  },
  {
   "cell_type": "markdown",
   "id": "f97c1ed2",
   "metadata": {},
   "source": [
    "Используя данную таблицу можно получить различные данные с помощью сводных таблиц, например выручку компании по месяцам по каждому пользователю."
   ]
  },
  {
   "cell_type": "code",
   "execution_count": 55,
   "id": "1fca62bc",
   "metadata": {},
   "outputs": [
    {
     "data": {
      "text/html": [
       "<div>\n",
       "<style scoped>\n",
       "    .dataframe tbody tr th:only-of-type {\n",
       "        vertical-align: middle;\n",
       "    }\n",
       "\n",
       "    .dataframe tbody tr th {\n",
       "        vertical-align: top;\n",
       "    }\n",
       "\n",
       "    .dataframe thead th {\n",
       "        text-align: right;\n",
       "    }\n",
       "</style>\n",
       "<table border=\"1\" class=\"dataframe\">\n",
       "  <thead>\n",
       "    <tr style=\"text-align: right;\">\n",
       "      <th></th>\n",
       "      <th></th>\n",
       "      <th>total_revenue</th>\n",
       "    </tr>\n",
       "    <tr>\n",
       "      <th>user_id</th>\n",
       "      <th>month</th>\n",
       "      <th></th>\n",
       "    </tr>\n",
       "  </thead>\n",
       "  <tbody>\n",
       "    <tr>\n",
       "      <th rowspan=\"5\" valign=\"top\">1000</th>\n",
       "      <th>5.00</th>\n",
       "      <td>1950.00</td>\n",
       "    </tr>\n",
       "    <tr>\n",
       "      <th>6.00</th>\n",
       "      <td>1950.00</td>\n",
       "    </tr>\n",
       "    <tr>\n",
       "      <th>7.00</th>\n",
       "      <td>1950.00</td>\n",
       "    </tr>\n",
       "    <tr>\n",
       "      <th>8.00</th>\n",
       "      <td>1950.00</td>\n",
       "    </tr>\n",
       "    <tr>\n",
       "      <th>9.00</th>\n",
       "      <td>1950.00</td>\n",
       "    </tr>\n",
       "    <tr>\n",
       "      <th>...</th>\n",
       "      <th>...</th>\n",
       "      <td>...</td>\n",
       "    </tr>\n",
       "    <tr>\n",
       "      <th>1498</th>\n",
       "      <th>10.00</th>\n",
       "      <td>1750.00</td>\n",
       "    </tr>\n",
       "    <tr>\n",
       "      <th rowspan=\"4\" valign=\"top\">1499</th>\n",
       "      <th>9.00</th>\n",
       "      <td>550.00</td>\n",
       "    </tr>\n",
       "    <tr>\n",
       "      <th>10.00</th>\n",
       "      <td>1150.00</td>\n",
       "    </tr>\n",
       "    <tr>\n",
       "      <th>11.00</th>\n",
       "      <td>1513.00</td>\n",
       "    </tr>\n",
       "    <tr>\n",
       "      <th>12.00</th>\n",
       "      <td>598.00</td>\n",
       "    </tr>\n",
       "  </tbody>\n",
       "</table>\n",
       "<p>3214 rows × 1 columns</p>\n",
       "</div>"
      ],
      "text/plain": [
       "               total_revenue\n",
       "user_id month               \n",
       "1000    5.00         1950.00\n",
       "        6.00         1950.00\n",
       "        7.00         1950.00\n",
       "        8.00         1950.00\n",
       "        9.00         1950.00\n",
       "...                      ...\n",
       "1498    10.00        1750.00\n",
       "1499    9.00          550.00\n",
       "        10.00        1150.00\n",
       "        11.00        1513.00\n",
       "        12.00         598.00\n",
       "\n",
       "[3214 rows x 1 columns]"
      ]
     },
     "execution_count": 55,
     "metadata": {},
     "output_type": "execute_result"
    }
   ],
   "source": [
    "full_table.pivot_table(index=['user_id','month'], values='total_revenue',aggfunc='sum',)"
   ]
  },
  {
   "cell_type": "markdown",
   "id": "7cf5ce1e",
   "metadata": {},
   "source": [
    "## Исследовательский анализ"
   ]
  },
  {
   "cell_type": "markdown",
   "id": "26264d58",
   "metadata": {},
   "source": [
    "Построим сводную таблицу по двум тарифам, а так же по общей выручке и по отдельным услугам в отдельности и проанализируем показатели."
   ]
  },
  {
   "cell_type": "code",
   "execution_count": 56,
   "id": "3510da42",
   "metadata": {},
   "outputs": [
    {
     "data": {
      "text/html": [
       "<div>\n",
       "<style scoped>\n",
       "    .dataframe tbody tr th:only-of-type {\n",
       "        vertical-align: middle;\n",
       "    }\n",
       "\n",
       "    .dataframe tbody tr th {\n",
       "        vertical-align: top;\n",
       "    }\n",
       "\n",
       "    .dataframe thead tr th {\n",
       "        text-align: left;\n",
       "    }\n",
       "\n",
       "    .dataframe thead tr:last-of-type th {\n",
       "        text-align: right;\n",
       "    }\n",
       "</style>\n",
       "<table border=\"1\" class=\"dataframe\">\n",
       "  <thead>\n",
       "    <tr>\n",
       "      <th></th>\n",
       "      <th colspan=\"4\" halign=\"left\">sum</th>\n",
       "    </tr>\n",
       "    <tr>\n",
       "      <th></th>\n",
       "      <th>calls_revenue</th>\n",
       "      <th>inet_revenue</th>\n",
       "      <th>sms_revenue</th>\n",
       "      <th>total_revenue</th>\n",
       "    </tr>\n",
       "    <tr>\n",
       "      <th>tariff_name</th>\n",
       "      <th></th>\n",
       "      <th></th>\n",
       "      <th></th>\n",
       "      <th></th>\n",
       "    </tr>\n",
       "  </thead>\n",
       "  <tbody>\n",
       "    <tr>\n",
       "      <th>smart</th>\n",
       "      <td>278217.00</td>\n",
       "      <td>1332400.00</td>\n",
       "      <td>38784.00</td>\n",
       "      <td>2875351.00</td>\n",
       "    </tr>\n",
       "    <tr>\n",
       "      <th>ultra</th>\n",
       "      <td>0.00</td>\n",
       "      <td>118350.00</td>\n",
       "      <td>0.00</td>\n",
       "      <td>2039100.00</td>\n",
       "    </tr>\n",
       "  </tbody>\n",
       "</table>\n",
       "</div>"
      ],
      "text/plain": [
       "                      sum                                       \n",
       "            calls_revenue inet_revenue sms_revenue total_revenue\n",
       "tariff_name                                                     \n",
       "smart           278217.00   1332400.00    38784.00    2875351.00\n",
       "ultra                0.00    118350.00        0.00    2039100.00"
      ]
     },
     "execution_count": 56,
     "metadata": {},
     "output_type": "execute_result"
    }
   ],
   "source": [
    "full_table.pivot_table(index = ['tariff_name'], values = ['calls_revenue', 'sms_revenue', 'inet_revenue', 'total_revenue'], aggfunc=['sum'])"
   ]
  },
  {
   "cell_type": "markdown",
   "id": "73c0bfb9",
   "metadata": {},
   "source": [
    "Как видим из таблицы:\n",
    "* пользователи тарифа Ультра не превышают лимиты по тарифу по количеству минут и смс\n",
    "* пользователи тарифа Смарт приносят больше выручки по всем показателям\n",
    "* самой прибыльной частью тарифов является интернет"
   ]
  },
  {
   "cell_type": "markdown",
   "id": "5479ab71",
   "metadata": {},
   "source": [
    "### Сравнение пользователей тарифов Смарт и Ультра"
   ]
  },
  {
   "cell_type": "markdown",
   "id": "9f3f1ab7",
   "metadata": {},
   "source": [
    "Выделим в отдельные датасеты пользователей тарифов Смарт и Ультра"
   ]
  },
  {
   "cell_type": "code",
   "execution_count": 57,
   "id": "6b70e9c4",
   "metadata": {},
   "outputs": [
    {
     "name": "stdout",
     "output_type": "stream",
     "text": [
      "Количество абонентов тарифа Смарт =  350 Доля пользователей 70.28112449799197\n",
      "Количество абонентов тарифа Ультра =  148\n"
     ]
    }
   ],
   "source": [
    "smart_users = full_table[full_table['tariff_name'] == 'smart']\n",
    "ultra_users = full_table[full_table['tariff_name'] == 'ultra']\n",
    "\n",
    "print ('Количество абонентов тарифа Смарт = ', len(smart_users['user_id'].unique()), 'Доля пользователей', len(smart_users['user_id'].unique())/len(full_table['user_id'].unique())*100)\n",
    "print ('Количество абонентов тарифа Ультра = ', len(ultra_users['user_id'].unique()))"
   ]
  },
  {
   "cell_type": "markdown",
   "id": "09c653c9",
   "metadata": {},
   "source": [
    "Посчитаем долю тарифов в выручке компании"
   ]
  },
  {
   "cell_type": "code",
   "execution_count": 58,
   "id": "1c52e657",
   "metadata": {},
   "outputs": [],
   "source": [
    "smart_percent_revenue = full_table.query('tariff_name==\"smart\"')['total_revenue'].sum() / full_table['total_revenue'].sum() "
   ]
  },
  {
   "cell_type": "code",
   "execution_count": 59,
   "id": "838451c9",
   "metadata": {},
   "outputs": [
    {
     "name": "stdout",
     "output_type": "stream",
     "text": [
      "Доля тарифа Смарт  58.5%  в выручке компании:\n",
      "Доля тарифа Ультра  41.5%  в выручке компании:\n"
     ]
    }
   ],
   "source": [
    "print ('Доля тарифа Смарт  {:.1%}  в выручке компании:'.format (smart_percent_revenue))\n",
    "print ('Доля тарифа Ультра  {:.1%}  в выручке компании:'.format (1 - smart_percent_revenue))"
   ]
  },
  {
   "cell_type": "markdown",
   "id": "3f41491a",
   "metadata": {},
   "source": [
    "Посмотрим какое количество телефонных звонков совершают пользователи обоих тарифов, отберем данные, в которых нет нулевых звонков и построим по ним гистограмму. Напомним про лимиты по тарифам :"
   ]
  },
  {
   "cell_type": "markdown",
   "id": "d828aadf",
   "metadata": {},
   "source": [
    "Тариф Смарт - Включено 500 минут разговора, 50 сообщений и 15 Гб интернет-трафика"
   ]
  },
  {
   "cell_type": "markdown",
   "id": "ef8799d6",
   "metadata": {},
   "source": [
    "Тарифа Ультра - Включено 3000 минут разговора, 1000 сообщений и 30 Гб интернет-трафика"
   ]
  },
  {
   "cell_type": "code",
   "execution_count": 60,
   "id": "ff3ef103",
   "metadata": {},
   "outputs": [],
   "source": [
    "not_null_calls = full_table[full_table['sum_call']!=0]"
   ]
  },
  {
   "cell_type": "code",
   "execution_count": 61,
   "id": "28a5f398",
   "metadata": {},
   "outputs": [
    {
     "data": {
      "text/plain": [
       "Text(7.518576388888896, 0.5, 'количество пользователей')"
      ]
     },
     "execution_count": 61,
     "metadata": {},
     "output_type": "execute_result"
    },
    {
     "data": {
      "image/png": "[encoded data removed]",
      "text/plain": [
       "<Figure size 641.5x576 with 1 Axes>"
      ]
     },
     "metadata": {
      "needs_background": "light"
     },
     "output_type": "display_data"
    }
   ],
   "source": [
    "sns.displot(not_null_calls , x = 'sum_call',hue='tariff_name', kind='hist', fill=True, height=8, aspect=1, label='234')\n",
    "plt.title('Продолжительность звонков по тарифам', fontsize=18)\n",
    "plt.xlabel('продолжительность звонков', fontsize=16)\n",
    "plt.ylabel('количество пользователей', fontsize=16)"
   ]
  },
  {
   "cell_type": "markdown",
   "id": "00ae7761",
   "metadata": {},
   "source": [
    "Как видно из графика, количество пользователей тарифа Смарт намного больше чем Ультра, однако пользователей, разговаривающих больше 750 минут на тарифе Ультра больше. Большинство абонентов тарифа Смарт разговаривают от 200 до 700 минут, и это при лимите в 500 минут, значительное количество польлзователей тарифа превышает лимиты звонков"
   ]
  },
  {
   "cell_type": "markdown",
   "id": "6925150f",
   "metadata": {},
   "source": [
    "Проанализируем абонентов с точки зрения количества отправляемых сообщений разных тарифов. Так же уберем абонентов с нулевыми значениями в сообщениях"
   ]
  },
  {
   "cell_type": "code",
   "execution_count": 62,
   "id": "95890ff6",
   "metadata": {},
   "outputs": [],
   "source": [
    "not_null_sms = full_table[full_table['sms_count']!=0]"
   ]
  },
  {
   "cell_type": "code",
   "execution_count": 63,
   "id": "6bf0b2a3",
   "metadata": {},
   "outputs": [
    {
     "data": {
      "text/plain": [
       "Text(7.518576388888896, 0.5, 'количество пользователей')"
      ]
     },
     "execution_count": 63,
     "metadata": {},
     "output_type": "execute_result"
    },
    {
     "data": {
      "image/png": "[encoded data removed]",
      "text/plain": [
       "<Figure size 641.5x576 with 1 Axes>"
      ]
     },
     "metadata": {
      "needs_background": "light"
     },
     "output_type": "display_data"
    }
   ],
   "source": [
    "sns.displot(not_null_sms , x = 'sms_count',hue='tariff_name', kind='hist', fill=True, height=8, aspect=1)\n",
    "plt.title('Количество сообщений  по тарифам', fontsize=18)\n",
    "plt.xlabel('количество сообщений ', fontsize=16)\n",
    "plt.ylabel('количество пользователей', fontsize=16)"
   ]
  },
  {
   "cell_type": "markdown",
   "id": "89f423a9",
   "metadata": {},
   "source": [
    "По графику видим что абоненты тарифа Смарт так же превышают лимиты количества сообщений в 50 штук, а пользователей тарифа Ультра, отправляющих более 120 сообщений больше чем абонентов Смарт тарифа."
   ]
  },
  {
   "cell_type": "markdown",
   "id": "ed88437b",
   "metadata": {},
   "source": [
    "Повторим аналогичное исследование по показателю использования интернета."
   ]
  },
  {
   "cell_type": "code",
   "execution_count": 64,
   "id": "daa72a23",
   "metadata": {},
   "outputs": [
    {
     "data": {
      "text/plain": [
       "Text(6.237384259259272, 0.5, 'количество пользователей')"
      ]
     },
     "execution_count": 64,
     "metadata": {},
     "output_type": "execute_result"
    },
    {
     "data": {
      "image/png": "[encoded data removed]",
      "text/plain": [
       "<Figure size 929.5x576 with 1 Axes>"
      ]
     },
     "metadata": {
      "needs_background": "light"
     },
     "output_type": "display_data"
    }
   ],
   "source": [
    "not_null_mb = full_table[full_table['mb_used']!=0]\n",
    "sns.displot(not_null_mb , x = 'mb_used',hue='tariff_name', kind='hist', fill=True,  height=8, aspect=1.5, bins = 50)\n",
    "plt.title('Потребление трафика по тарифам', fontsize=18)\n",
    "plt.xlabel('использовано мегабайт', fontsize=16)\n",
    "plt.ylabel('количество пользователей', fontsize=16)"
   ]
  },
  {
   "cell_type": "markdown",
   "id": "2603479c",
   "metadata": {},
   "source": [
    "Видим, что пользователи тарифа Смарт, пользующиеся интернетом в большинстве своем превышают лимиты тарифа, однако количество абонентов тарифа Ультра достаточно мало - превышающих 30 Гб лимита.\n",
    "\n"
   ]
  },
  {
   "cell_type": "markdown",
   "id": "da173187",
   "metadata": {},
   "source": [
    "Добавим гистограмму с превышениями потребления интернета в Гб по тарифам, убрав при этом нулевые значения"
   ]
  },
  {
   "cell_type": "code",
   "execution_count": 65,
   "id": "743a5401",
   "metadata": {},
   "outputs": [
    {
     "data": {
      "text/plain": [
       "Text(7.518576388888896, 0.5, 'количество пользователей')"
      ]
     },
     "execution_count": 65,
     "metadata": {},
     "output_type": "execute_result"
    },
    {
     "data": {
      "image/png": "[encoded data removed]",
      "text/plain": [
       "<Figure size 641.5x576 with 1 Axes>"
      ]
     },
     "metadata": {
      "needs_background": "light"
     },
     "output_type": "display_data"
    }
   ],
   "source": [
    "not_null_gb = full_table[full_table['gb_excess']!=0]\n",
    "sns.displot(not_null_gb, x = 'gb_excess',hue='tariff_name', kind='hist', fill=True,  height=8, aspect=1, bins=22)\n",
    "plt.title('Превышение Гб по тарифам', fontsize=18)\n",
    "plt.xlabel('Гб превышено сверх лимита', fontsize=16)\n",
    "plt.ylabel('количество пользователей', fontsize=16)"
   ]
  },
  {
   "cell_type": "markdown",
   "id": "40312e3e",
   "metadata": {},
   "source": [
    "Количество пользователей, превышающих лимиты своего тарифа по интернету намного больше на тарифе Смарт"
   ]
  },
  {
   "cell_type": "markdown",
   "id": "7beaab4f",
   "metadata": {},
   "source": [
    "Построим таблицу где отразим среднее, стандартное отклонение и дисперсию для данных по потребленному трафику в Гб и превышению лимитов трафика в Гб  "
   ]
  },
  {
   "cell_type": "code",
   "execution_count": 66,
   "id": "ce1510fb",
   "metadata": {},
   "outputs": [
    {
     "data": {
      "text/html": [
       "<div>\n",
       "<style scoped>\n",
       "    .dataframe tbody tr th:only-of-type {\n",
       "        vertical-align: middle;\n",
       "    }\n",
       "\n",
       "    .dataframe tbody tr th {\n",
       "        vertical-align: top;\n",
       "    }\n",
       "\n",
       "    .dataframe thead tr th {\n",
       "        text-align: left;\n",
       "    }\n",
       "\n",
       "    .dataframe thead tr:last-of-type th {\n",
       "        text-align: right;\n",
       "    }\n",
       "</style>\n",
       "<table border=\"1\" class=\"dataframe\">\n",
       "  <thead>\n",
       "    <tr>\n",
       "      <th></th>\n",
       "      <th colspan=\"2\" halign=\"left\">mean</th>\n",
       "      <th colspan=\"2\" halign=\"left\">std</th>\n",
       "      <th colspan=\"2\" halign=\"left\">var</th>\n",
       "    </tr>\n",
       "    <tr>\n",
       "      <th></th>\n",
       "      <th>gb_excess</th>\n",
       "      <th>used_gb</th>\n",
       "      <th>gb_excess</th>\n",
       "      <th>used_gb</th>\n",
       "      <th>gb_excess</th>\n",
       "      <th>used_gb</th>\n",
       "    </tr>\n",
       "    <tr>\n",
       "      <th>tariff_name</th>\n",
       "      <th></th>\n",
       "      <th></th>\n",
       "      <th></th>\n",
       "      <th></th>\n",
       "      <th></th>\n",
       "      <th></th>\n",
       "    </tr>\n",
       "  </thead>\n",
       "  <tbody>\n",
       "    <tr>\n",
       "      <th>smart</th>\n",
       "      <td>2.99</td>\n",
       "      <td>16.33</td>\n",
       "      <td>3.68</td>\n",
       "      <td>5.75</td>\n",
       "      <td>13.56</td>\n",
       "      <td>33.03</td>\n",
       "    </tr>\n",
       "    <tr>\n",
       "      <th>ultra</th>\n",
       "      <td>0.80</td>\n",
       "      <td>19.49</td>\n",
       "      <td>2.51</td>\n",
       "      <td>9.85</td>\n",
       "      <td>6.29</td>\n",
       "      <td>97.09</td>\n",
       "    </tr>\n",
       "  </tbody>\n",
       "</table>\n",
       "</div>"
      ],
      "text/plain": [
       "                 mean               std               var        \n",
       "            gb_excess used_gb gb_excess used_gb gb_excess used_gb\n",
       "tariff_name                                                      \n",
       "smart            2.99   16.33      3.68    5.75     13.56   33.03\n",
       "ultra            0.80   19.49      2.51    9.85      6.29   97.09"
      ]
     },
     "execution_count": 66,
     "metadata": {},
     "output_type": "execute_result"
    }
   ],
   "source": [
    "full_table.pivot_table(index = ['tariff_name'], values = ['gb_excess','used_gb'], aggfunc=['mean','std','var'])"
   ]
  },
  {
   "cell_type": "markdown",
   "id": "4eea50fb",
   "metadata": {},
   "source": [
    "Как видим среднее использование трафика по тарифу Ультра больше (19.49) чем у Смарт - однако абоненты тарифа Смарт превышают свои лимиты в среднем на 3 Гб, в отличии от абонентов Ультра у которых среднее превышение 0.8 Гб.   "
   ]
  },
  {
   "cell_type": "markdown",
   "id": "7f71b16b",
   "metadata": {},
   "source": [
    "Построим гистограмму полной выручки с абонентов по тарифам."
   ]
  },
  {
   "cell_type": "code",
   "execution_count": 67,
   "id": "29a6b0e0",
   "metadata": {},
   "outputs": [
    {
     "data": {
      "text/plain": [
       "<seaborn.axisgrid.FacetGrid at 0x7fe6b8409eb0>"
      ]
     },
     "execution_count": 67,
     "metadata": {},
     "output_type": "execute_result"
    },
    {
     "data": {
      "image/png": "[encoded data removed]",
      "text/plain": [
       "<Figure size 929.5x576 with 1 Axes>"
      ]
     },
     "metadata": {
      "needs_background": "light"
     },
     "output_type": "display_data"
    }
   ],
   "source": [
    "\n",
    "sns.displot(full_table, x = 'total_revenue',hue='tariff_name', kind='hist', fill=True,  height=8, aspect=1.5, bins = 50)"
   ]
  },
  {
   "cell_type": "markdown",
   "id": "83a00791",
   "metadata": {},
   "source": [
    "Как видно из гистограмы - количество пользователей, которые укладываются в лимиты по тарифам (550 и 1950 рублей)примерно одинаковое, однако пользователи тарифа Смарт намного больше превышают лимиты своего тарифа - соответственно и больше приносят выручки, с другой стороны количество пользователей тарифа Смарт в выборке более чем в 2 раза больше чем Ультра. Для более точных утверждений необходимо проанализировать показатели средних этих двух выборок."
   ]
  },
  {
   "cell_type": "code",
   "execution_count": 68,
   "id": "0bef832e",
   "metadata": {},
   "outputs": [
    {
     "data": {
      "image/png": "[encoded data removed]",
      "text/plain": [
       "<Figure size 864x144 with 1 Axes>"
      ]
     },
     "metadata": {
      "needs_background": "light"
     },
     "output_type": "display_data"
    },
    {
     "data": {
      "image/png": "[encoded data removed]",
      "text/plain": [
       "<Figure size 864x144 with 1 Axes>"
      ]
     },
     "metadata": {
      "needs_background": "light"
     },
     "output_type": "display_data"
    },
    {
     "data": {
      "image/png": "[encoded data removed]",
      "text/plain": [
       "<Figure size 864x144 with 1 Axes>"
      ]
     },
     "metadata": {
      "needs_background": "light"
     },
     "output_type": "display_data"
    },
    {
     "data": {
      "image/png": "[encoded data removed]",
      "text/plain": [
       "<Figure size 864x144 with 1 Axes>"
      ]
     },
     "metadata": {
      "needs_background": "light"
     },
     "output_type": "display_data"
    },
    {
     "data": {
      "image/png": "[encoded data removed]",
      "text/plain": [
       "<Figure size 864x144 with 1 Axes>"
      ]
     },
     "metadata": {
      "needs_background": "light"
     },
     "output_type": "display_data"
    }
   ],
   "source": [
    "for column in ['sum_call', 'count_call', 'mb_used', 'sms_count',\n",
    "        'total_revenue']:    \n",
    "    g = sns.catplot(y='tariff', x=column, kind=\"box\", data=full_table, orient='h', palette = 'pastel')\n",
    "    g.fig.set_figwidth(12)\n",
    "    g.fig.set_figheight(2)"
   ]
  },
  {
   "cell_type": "code",
   "execution_count": 69,
   "id": "29b58b27",
   "metadata": {},
   "outputs": [
    {
     "data": {
      "image/png": "[encoded data removed]",
      "text/plain": [
       "<Figure size 720x288 with 1 Axes>"
      ]
     },
     "metadata": {
      "needs_background": "light"
     },
     "output_type": "display_data"
    }
   ],
   "source": [
    "(full_table\n",
    " .pivot_table(index='tariff', columns='month', values='user_id', aggfunc='count')\n",
    " .T\n",
    " .plot(kind='line', figsize=(10,4),  style = 'o-')\n",
    ")\n",
    "plt.title('Рост кол-ва клиентов по 2-м тарифам за год'+ \"\\n\")\n",
    "plt.xlabel('Месяц')\n",
    "plt.ylabel('кол-во');"
   ]
  },
  {
   "cell_type": "code",
   "execution_count": 70,
   "id": "89fa0f4e",
   "metadata": {},
   "outputs": [
    {
     "data": {
      "image/png": "[encoded data removed]",
      "text/plain": [
       "<Figure size 720x288 with 1 Axes>"
      ]
     },
     "metadata": {
      "needs_background": "light"
     },
     "output_type": "display_data"
    }
   ],
   "source": [
    "(full_table\n",
    " .pivot_table(index='tariff', columns='month', values='total_revenue', aggfunc='mean')\n",
    " .T\n",
    " .plot(kind='line', figsize=(10,4),  style = 'o-')\n",
    ")\n",
    "plt.title('Средняя ежемесячная выручка от одного абонента'+ \"\\n\")\n",
    "plt.xlabel('Месяц')\n",
    "plt.ylabel('Рубли');"
   ]
  },
  {
   "cell_type": "code",
   "execution_count": 71,
   "id": "62addd95",
   "metadata": {},
   "outputs": [
    {
     "data": {
      "image/png": "[encoded data removed]",
      "text/plain": [
       "<Figure size 720x288 with 1 Axes>"
      ]
     },
     "metadata": {
      "needs_background": "light"
     },
     "output_type": "display_data"
    }
   ],
   "source": [
    "(full_table\n",
    " .pivot_table(index='tariff', columns='month', values='total_revenue', aggfunc='sum')\n",
    " .T\n",
    " .plot(kind='line', figsize=(10,4),  style = 'o-')\n",
    ")\n",
    "plt.title('Суммарная ежемесячная выручка по 2-м тарифам'+ \"\\n\")\n",
    "plt.xlabel('Месяц')\n",
    "plt.ylabel('Рубли');"
   ]
  },
  {
   "cell_type": "markdown",
   "id": "b8fce854",
   "metadata": {},
   "source": [
    "### Средняя, дисперсия и стандартное отклонение"
   ]
  },
  {
   "cell_type": "markdown",
   "id": "869a036a",
   "metadata": {},
   "source": [
    "Посчитаем среднее количество, дисперсию и стандартное отклонение с помощью сводной таблицы по двум тарифам. "
   ]
  },
  {
   "cell_type": "code",
   "execution_count": 72,
   "id": "1017a4d0",
   "metadata": {},
   "outputs": [
    {
     "data": {
      "text/html": [
       "<div>\n",
       "<style scoped>\n",
       "    .dataframe tbody tr th:only-of-type {\n",
       "        vertical-align: middle;\n",
       "    }\n",
       "\n",
       "    .dataframe tbody tr th {\n",
       "        vertical-align: top;\n",
       "    }\n",
       "\n",
       "    .dataframe thead tr th {\n",
       "        text-align: left;\n",
       "    }\n",
       "\n",
       "    .dataframe thead tr:last-of-type th {\n",
       "        text-align: right;\n",
       "    }\n",
       "</style>\n",
       "<table border=\"1\" class=\"dataframe\">\n",
       "  <thead>\n",
       "    <tr>\n",
       "      <th></th>\n",
       "      <th colspan=\"4\" halign=\"left\">mean</th>\n",
       "      <th colspan=\"4\" halign=\"left\">std</th>\n",
       "      <th colspan=\"4\" halign=\"left\">var</th>\n",
       "    </tr>\n",
       "    <tr>\n",
       "      <th></th>\n",
       "      <th>mb_used</th>\n",
       "      <th>sms_count</th>\n",
       "      <th>sum_call</th>\n",
       "      <th>total_revenue</th>\n",
       "      <th>mb_used</th>\n",
       "      <th>sms_count</th>\n",
       "      <th>sum_call</th>\n",
       "      <th>total_revenue</th>\n",
       "      <th>mb_used</th>\n",
       "      <th>sms_count</th>\n",
       "      <th>sum_call</th>\n",
       "      <th>total_revenue</th>\n",
       "    </tr>\n",
       "    <tr>\n",
       "      <th>tariff_name</th>\n",
       "      <th></th>\n",
       "      <th></th>\n",
       "      <th></th>\n",
       "      <th></th>\n",
       "      <th></th>\n",
       "      <th></th>\n",
       "      <th></th>\n",
       "      <th></th>\n",
       "      <th></th>\n",
       "      <th></th>\n",
       "      <th></th>\n",
       "      <th></th>\n",
       "    </tr>\n",
       "  </thead>\n",
       "  <tbody>\n",
       "    <tr>\n",
       "      <th>smart</th>\n",
       "      <td>16208.39</td>\n",
       "      <td>33.38</td>\n",
       "      <td>417.93</td>\n",
       "      <td>1289.97</td>\n",
       "      <td>5870.48</td>\n",
       "      <td>28.23</td>\n",
       "      <td>190.31</td>\n",
       "      <td>818.40</td>\n",
       "      <td>34462496.46</td>\n",
       "      <td>796.81</td>\n",
       "      <td>36219.32</td>\n",
       "      <td>669785.71</td>\n",
       "    </tr>\n",
       "    <tr>\n",
       "      <th>ultra</th>\n",
       "      <td>19468.81</td>\n",
       "      <td>49.36</td>\n",
       "      <td>526.62</td>\n",
       "      <td>2070.15</td>\n",
       "      <td>10087.17</td>\n",
       "      <td>47.80</td>\n",
       "      <td>317.61</td>\n",
       "      <td>376.19</td>\n",
       "      <td>101751013.78</td>\n",
       "      <td>2285.27</td>\n",
       "      <td>100873.63</td>\n",
       "      <td>141516.75</td>\n",
       "    </tr>\n",
       "  </tbody>\n",
       "</table>\n",
       "</div>"
      ],
      "text/plain": [
       "                mean                                       std            \\\n",
       "             mb_used sms_count sum_call total_revenue  mb_used sms_count   \n",
       "tariff_name                                                                \n",
       "smart       16208.39     33.38   417.93       1289.97  5870.48     28.23   \n",
       "ultra       19468.81     49.36   526.62       2070.15 10087.17     47.80   \n",
       "\n",
       "                                            var                      \\\n",
       "            sum_call total_revenue      mb_used sms_count  sum_call   \n",
       "tariff_name                                                           \n",
       "smart         190.31        818.40  34462496.46    796.81  36219.32   \n",
       "ultra         317.61        376.19 101751013.78   2285.27 100873.63   \n",
       "\n",
       "                           \n",
       "            total_revenue  \n",
       "tariff_name                \n",
       "smart           669785.71  \n",
       "ultra           141516.75  "
      ]
     },
     "execution_count": 72,
     "metadata": {},
     "output_type": "execute_result"
    }
   ],
   "source": [
    "full_table.pivot_table(index = ['tariff_name'], values = ['mb_used','sum_call', 'sms_count','total_revenue'], aggfunc=['mean','std','var'])\n"
   ]
  },
  {
   "cell_type": "markdown",
   "id": "c16e5adb",
   "metadata": {},
   "source": [
    "Абоненты тарифа Ультра в среднем совершают больше звонков, отправляют сообщений и больше пользуются интернетом, чем абоненты Смарта. Однако стандартное отклонение по всем параметрам у абонентов Ультра больше чем у пользователей Смарта - склоны распределения  являются более пологими и длиннее «хвосты» длиннее. Так же видим - что хоть абонентов Ультра в 2 раза меньше, а абоненты Смарт превышают лимиты намного чаще - средняя выручка по абонентам Ультра больше и составляет 2059.86 против 1230.44"
   ]
  },
  {
   "cell_type": "markdown",
   "id": "8689ad37",
   "metadata": {},
   "source": [
    "Опишем типы распределения данных  "
   ]
  },
  {
   "cell_type": "markdown",
   "id": "f2707fa9",
   "metadata": {},
   "source": [
    "Гистограмма продолжительности звонков по тарифу Смарт имеет вид нормального распределения, достаточно симметричная форма с пиком в центре интервала в отличии от тарифа Ультра, гистограмма которого имеет вид плато, в котором  средние значения нескольких распределений отличаются незначительно. Имеется несколько выбросов в данных"
   ]
  },
  {
   "cell_type": "markdown",
   "id": "1a7d69a7",
   "metadata": {},
   "source": [
    "Гистограмма количества сообщений по обоим тарифам имеет форму усеченного распределения с обрывом слева, среднее арифметическое гистограммы локализовано справа от центра размаха"
   ]
  },
  {
   "cell_type": "markdown",
   "id": "9de28e01",
   "metadata": {},
   "source": [
    "Гистограмма потребления трафика по тарифам имеет вид нормального распределения, у абонентов тарифа Смарт чертковыраженный пик в центре распределения, поэтому стардартное отклонение у пользователей Смарт меньше нежели у абонентов Ультра, у которых нет ярко выраженного пика и по этому стандартное отклонение больше"
   ]
  },
  {
   "cell_type": "markdown",
   "id": "cb5c4f14",
   "metadata": {},
   "source": [
    "## Проверка гипотезы отличий средней выручки"
   ]
  },
  {
   "cell_type": "markdown",
   "id": "1af27fe8",
   "metadata": {},
   "source": [
    "Проверка гипотезы, что средняя выручка пользователей тарифов «Ультра» и «Смарт» различается"
   ]
  },
  {
   "cell_type": "markdown",
   "id": "ce8e3113",
   "metadata": {},
   "source": [
    "Нулевой гипотезой возьмем гипотезу о том, что средние наших выборок равны. Альтернативной гипотезой будет наша гипотеза \"Средняя выручка пользователей тарифов «Ультра» и «Смарт» различается\".\n",
    "\n",
    "Используем метод scipy.stats.ttest_ind (array1, array2, equal_var = False). Который используется для проверки гипотез равенства средних двух  совокупностей по взятым из них выборкам.\n",
    " False, потому что дисперсии наших выборок отличаются.\n",
    "Критический уровень значимости возьмем 0.05"
   ]
  },
  {
   "cell_type": "code",
   "execution_count": 73,
   "id": "37f6f6c3",
   "metadata": {},
   "outputs": [],
   "source": [
    "alpha = 0.05"
   ]
  },
  {
   "cell_type": "code",
   "execution_count": 74,
   "id": "34bbb891",
   "metadata": {},
   "outputs": [
    {
     "name": "stdout",
     "output_type": "stream",
     "text": [
      "Среднее значение выручки абонентов Смарт: 1289.9735307312696\n",
      "Среднее значение выручки абонентов Ультра: 2070.1522842639592\n",
      "p-значение: 4.2606313931076085e-250\n"
     ]
    }
   ],
   "source": [
    "mean_smart = smart_users['total_revenue']\n",
    "mean_ultra = ultra_users['total_revenue']\n",
    "print ('Среднее значение выручки абонентов Смарт:',mean_smart.mean() )\n",
    "print  ('Среднее значение выручки абонентов Ультра:',mean_ultra.mean())\n",
    "\n",
    "result = st.ttest_ind(mean_smart, mean_ultra,equal_var = False)\n",
    "print ('p-значение:', result.pvalue)"
   ]
  },
  {
   "cell_type": "code",
   "execution_count": 75,
   "id": "bd82b7cb",
   "metadata": {},
   "outputs": [
    {
     "name": "stdout",
     "output_type": "stream",
     "text": [
      "Отвергаем нулевую гипотезу\n"
     ]
    }
   ],
   "source": [
    "if (result.pvalue < alpha):\n",
    "    print(\"Отвергаем нулевую гипотезу\")\n",
    "else:\n",
    "    print(\"Не получилось отвергнуть нулевую гипотезу\")"
   ]
  },
  {
   "cell_type": "markdown",
   "id": "97700160",
   "metadata": {},
   "source": [
    "Гипотезу о равенстве средних значений тарифов выборок отклоняем - так как значение pvalue меньше критического уровня значимости. Вероятность случайного совпадения средних выборок тарифов очень маленькая. Среднее значение выручки абонентов Ультра больше среднего выручки абонентов Смарт.\n"
   ]
  },
  {
   "cell_type": "markdown",
   "id": "06af49af",
   "metadata": {},
   "source": [
    "## Проверка гипотезы что средняя выручка пользователей из Москвы отличается от выручки пользователей из других регионов."
   ]
  },
  {
   "cell_type": "markdown",
   "id": "e7874215",
   "metadata": {},
   "source": [
    "Нулевой гипотезой возьмем гипотезу о том, что средния выручка абонентов из Москвы равна средней выручке всех остальных абоненов выборки . Альтернативной гипотезой будет наша гипотеза о неравенстве средних выручек."
   ]
  },
  {
   "cell_type": "code",
   "execution_count": 76,
   "id": "dfd78932",
   "metadata": {},
   "outputs": [],
   "source": [
    "moscow_table = full_table[full_table['city'] == 'Москва']"
   ]
  },
  {
   "cell_type": "code",
   "execution_count": 77,
   "id": "ad03e2c8",
   "metadata": {},
   "outputs": [],
   "source": [
    "not_moscow_table = full_table[full_table['city'] != 'Москва']"
   ]
  },
  {
   "cell_type": "code",
   "execution_count": 78,
   "id": "4db63fbd",
   "metadata": {},
   "outputs": [
    {
     "name": "stdout",
     "output_type": "stream",
     "text": [
      "Среднее значение выручки абонентов из Москвы: 1546.7135842880523\n",
      "Среднее значение выручки не Московских абонентов : 1524.9362274298885\n"
     ]
    }
   ],
   "source": [
    "mean_moscow = moscow_table['total_revenue']\n",
    "mean_not_moscow = not_moscow_table['total_revenue']\n",
    "\n",
    "print ('Среднее значение выручки абонентов из Москвы:',mean_moscow.mean() )\n",
    "print  ('Среднее значение выручки не Московских абонентов :',mean_not_moscow.mean())"
   ]
  },
  {
   "cell_type": "code",
   "execution_count": 79,
   "id": "0c293e1f",
   "metadata": {},
   "outputs": [
    {
     "name": "stdout",
     "output_type": "stream",
     "text": [
      "p-значение: 0.5257376663729298\n",
      "Не получилось отвергнуть нулевую гипотезу\n"
     ]
    }
   ],
   "source": [
    "result = st.ttest_ind(mean_moscow, mean_not_moscow,equal_var = False)\n",
    "print ('p-значение:', result.pvalue)\n",
    "if (result.pvalue < alpha):\n",
    "    print(\"Отвергаем нулевую гипотезу\")\n",
    "else:\n",
    "    print(\"Не получилось отвергнуть нулевую гипотезу\")"
   ]
  },
  {
   "cell_type": "markdown",
   "id": "163836be",
   "metadata": {},
   "source": [
    "Так как pvalue больше критического уровня значимости мы не можем отвергнуть нулевую гипотезу о равенстве средних выручек абонентов из Москвы и всех остальных."
   ]
  },
  {
   "cell_type": "markdown",
   "id": "0780a360",
   "metadata": {},
   "source": [
    "## Общие выводы анализа перспективного тарифа для телеком компании"
   ]
  },
  {
   "cell_type": "markdown",
   "id": "b77f2c2d",
   "metadata": {},
   "source": [
    "Мы обработали все датасеты, сделали сводные таблицы по месяцам и каждому пользователю, объединили их в один датасет, добавили в него информацию о превышениях по тарифам по каждой услуге и по каждому пользователю, а так же посчитали итоговую выручку по пользователям. Проанализировали данные и получили следующие результаты:\n",
    "* Пользователи тарифа Ультра не превышают лимитов по звонкам и смс - однако превышают по мегабайтам\n",
    "* Много абонентов тарифа Смарт превышают лимиты по всем услугам - смс, звонкам и интернету\n",
    "* Среднее количество мегабайт потребления по обоим тарифам примерно одинаковое \n",
    "* Общая выручка абонентов тарифа Смарт по датасету больше на треть чем выручка по абонентам Ультра\n",
    "* Но средняя выручка по пользователям тарифа Ультра выше чем Смарт, все из-за высокой абонентской платы, которая выше почти в 4 раза, хоть абоненты тарифа и не превышают лимиты по смс и звонкам\n",
    "* Гипотезу о том, что средние выручки по тарифам равны мы отклонили из-за низкого pvalue \n",
    "* Гипотезу о равенстве средних выручек пользователей тарифа из Москвы и остальных абонентов мы не отклоняли, 45% это слишком большая вероятность чтобы сделать вывод о значимом различии средних выручек \n",
    "* Доля пользователей тарифа Смарт составляет 70%\n",
    "* Пользователи тарифа Смарт приносят 58%  от всего дохода компании, несмотря на то, что абонентская плата у них дешевле, объем включенных в тариф лимитов меньше, чем в тарифе Ультра. Абоненты Смарт чаще превышают лимиты по интернету ( в среднем на 3 Гб) - основная доля дохода от тарифа - это превышения по интернету\n",
    "* Абоненты тарифа Ультра не превышают установленных лимитов по смс и включенным минутам разговоров, но так же превышают установленные лимиты по интернету (в среднем 0.8 Гб) \n",
    "* Абоненты тарифа Ультра приносят 42% выручки в основном за счет более высокой абонентской платы тарифа (в 3,5) раза больше чем Смарт.\n",
    "* Годовая выручка по абонентам Смарт составляет 2.8 млн. руб.\n",
    "* Годовая выручка по абонентам Ультра составляет 2.0 млн. руб.\n",
    "* Тариф Смарт выгоднее для компании, он пользуется большей популярностью у абонентов, по нему больше доходы."
   ]
  }
 ],
 "metadata": {
  "ExecuteTimeLog": [
   {
    "duration": 75,
    "start_time": "2022-05-12T10:28:52.889Z"
   },
   {
    "duration": 1516,
    "start_time": "2022-05-12T10:29:13.093Z"
   },
   {
    "duration": 432,
    "start_time": "2022-05-12T10:29:14.613Z"
   },
   {
    "duration": 0,
    "start_time": "2022-05-12T10:29:15.057Z"
   },
   {
    "duration": 0,
    "start_time": "2022-05-12T10:29:15.060Z"
   },
   {
    "duration": 0,
    "start_time": "2022-05-12T10:29:15.062Z"
   },
   {
    "duration": 0,
    "start_time": "2022-05-12T10:29:15.065Z"
   },
   {
    "duration": 0,
    "start_time": "2022-05-12T10:29:15.067Z"
   },
   {
    "duration": 0,
    "start_time": "2022-05-12T10:29:15.070Z"
   },
   {
    "duration": 0,
    "start_time": "2022-05-12T10:29:15.072Z"
   },
   {
    "duration": 0,
    "start_time": "2022-05-12T10:29:15.074Z"
   },
   {
    "duration": 0,
    "start_time": "2022-05-12T10:29:15.076Z"
   },
   {
    "duration": 0,
    "start_time": "2022-05-12T10:29:15.079Z"
   },
   {
    "duration": 0,
    "start_time": "2022-05-12T10:29:15.082Z"
   },
   {
    "duration": 0,
    "start_time": "2022-05-12T10:29:15.084Z"
   },
   {
    "duration": 0,
    "start_time": "2022-05-12T10:29:15.086Z"
   },
   {
    "duration": 0,
    "start_time": "2022-05-12T10:29:15.089Z"
   },
   {
    "duration": 0,
    "start_time": "2022-05-12T10:29:15.091Z"
   },
   {
    "duration": 0,
    "start_time": "2022-05-12T10:29:15.093Z"
   },
   {
    "duration": 0,
    "start_time": "2022-05-12T10:29:15.095Z"
   },
   {
    "duration": 0,
    "start_time": "2022-05-12T10:29:15.097Z"
   },
   {
    "duration": 0,
    "start_time": "2022-05-12T10:29:15.100Z"
   },
   {
    "duration": 0,
    "start_time": "2022-05-12T10:29:15.102Z"
   },
   {
    "duration": 0,
    "start_time": "2022-05-12T10:29:15.104Z"
   },
   {
    "duration": 0,
    "start_time": "2022-05-12T10:29:15.151Z"
   },
   {
    "duration": 0,
    "start_time": "2022-05-12T10:29:15.153Z"
   },
   {
    "duration": 0,
    "start_time": "2022-05-12T10:29:15.155Z"
   },
   {
    "duration": 0,
    "start_time": "2022-05-12T10:29:15.159Z"
   },
   {
    "duration": 0,
    "start_time": "2022-05-12T10:29:15.161Z"
   },
   {
    "duration": 0,
    "start_time": "2022-05-12T10:29:15.163Z"
   },
   {
    "duration": 0,
    "start_time": "2022-05-12T10:29:15.165Z"
   },
   {
    "duration": 0,
    "start_time": "2022-05-12T10:29:15.167Z"
   },
   {
    "duration": 0,
    "start_time": "2022-05-12T10:29:15.169Z"
   },
   {
    "duration": 0,
    "start_time": "2022-05-12T10:29:15.171Z"
   },
   {
    "duration": 0,
    "start_time": "2022-05-12T10:29:15.173Z"
   },
   {
    "duration": 0,
    "start_time": "2022-05-12T10:29:15.175Z"
   },
   {
    "duration": 1,
    "start_time": "2022-05-12T10:29:15.177Z"
   },
   {
    "duration": 0,
    "start_time": "2022-05-12T10:29:15.180Z"
   },
   {
    "duration": 0,
    "start_time": "2022-05-12T10:29:15.182Z"
   },
   {
    "duration": 0,
    "start_time": "2022-05-12T10:29:15.184Z"
   },
   {
    "duration": 0,
    "start_time": "2022-05-12T10:29:15.186Z"
   },
   {
    "duration": 0,
    "start_time": "2022-05-12T10:29:15.188Z"
   },
   {
    "duration": 0,
    "start_time": "2022-05-12T10:29:15.190Z"
   },
   {
    "duration": 0,
    "start_time": "2022-05-12T10:29:15.192Z"
   },
   {
    "duration": 1,
    "start_time": "2022-05-12T10:29:15.194Z"
   },
   {
    "duration": 0,
    "start_time": "2022-05-12T10:29:15.197Z"
   },
   {
    "duration": 0,
    "start_time": "2022-05-12T10:29:15.252Z"
   },
   {
    "duration": 0,
    "start_time": "2022-05-12T10:29:15.254Z"
   },
   {
    "duration": 0,
    "start_time": "2022-05-12T10:29:15.256Z"
   },
   {
    "duration": 0,
    "start_time": "2022-05-12T10:29:15.258Z"
   },
   {
    "duration": 0,
    "start_time": "2022-05-12T10:29:15.260Z"
   },
   {
    "duration": 0,
    "start_time": "2022-05-12T10:29:15.262Z"
   },
   {
    "duration": 0,
    "start_time": "2022-05-12T10:29:15.264Z"
   },
   {
    "duration": 0,
    "start_time": "2022-05-12T10:29:15.266Z"
   },
   {
    "duration": 0,
    "start_time": "2022-05-12T10:29:15.268Z"
   },
   {
    "duration": 0,
    "start_time": "2022-05-12T10:29:15.270Z"
   },
   {
    "duration": 0,
    "start_time": "2022-05-12T10:29:15.272Z"
   },
   {
    "duration": 0,
    "start_time": "2022-05-12T10:29:15.274Z"
   },
   {
    "duration": 0,
    "start_time": "2022-05-12T10:29:15.276Z"
   },
   {
    "duration": 0,
    "start_time": "2022-05-12T10:29:15.278Z"
   },
   {
    "duration": 0,
    "start_time": "2022-05-12T10:29:15.280Z"
   },
   {
    "duration": 0,
    "start_time": "2022-05-12T10:29:15.282Z"
   },
   {
    "duration": 0,
    "start_time": "2022-05-12T10:29:15.284Z"
   },
   {
    "duration": 0,
    "start_time": "2022-05-12T10:29:15.286Z"
   },
   {
    "duration": 0,
    "start_time": "2022-05-12T10:29:15.288Z"
   },
   {
    "duration": 0,
    "start_time": "2022-05-12T10:29:15.289Z"
   },
   {
    "duration": 0,
    "start_time": "2022-05-12T10:29:15.292Z"
   },
   {
    "duration": 0,
    "start_time": "2022-05-12T10:29:15.294Z"
   },
   {
    "duration": 0,
    "start_time": "2022-05-12T10:29:15.296Z"
   },
   {
    "duration": 0,
    "start_time": "2022-05-12T10:29:15.298Z"
   },
   {
    "duration": 932,
    "start_time": "2022-05-12T10:31:50.890Z"
   },
   {
    "duration": 658,
    "start_time": "2022-05-12T10:31:51.824Z"
   },
   {
    "duration": 40,
    "start_time": "2022-05-12T10:31:52.485Z"
   },
   {
    "duration": 60,
    "start_time": "2022-05-12T10:31:52.528Z"
   },
   {
    "duration": 29,
    "start_time": "2022-05-12T10:31:52.592Z"
   },
   {
    "duration": 214,
    "start_time": "2022-05-12T10:31:52.624Z"
   },
   {
    "duration": 53,
    "start_time": "2022-05-12T10:31:52.840Z"
   },
   {
    "duration": 23,
    "start_time": "2022-05-12T10:31:52.896Z"
   },
   {
    "duration": 71,
    "start_time": "2022-05-12T10:31:52.921Z"
   },
   {
    "duration": 154,
    "start_time": "2022-05-12T10:31:52.994Z"
   },
   {
    "duration": 36,
    "start_time": "2022-05-12T10:31:53.150Z"
   },
   {
    "duration": 30,
    "start_time": "2022-05-12T10:31:53.190Z"
   },
   {
    "duration": 167,
    "start_time": "2022-05-12T10:31:53.223Z"
   },
   {
    "duration": 15,
    "start_time": "2022-05-12T10:31:53.397Z"
   },
   {
    "duration": 14,
    "start_time": "2022-05-12T10:31:53.415Z"
   },
   {
    "duration": 33,
    "start_time": "2022-05-12T10:31:53.451Z"
   },
   {
    "duration": 26,
    "start_time": "2022-05-12T10:31:53.487Z"
   },
   {
    "duration": 13,
    "start_time": "2022-05-12T10:31:53.516Z"
   },
   {
    "duration": 113,
    "start_time": "2022-05-12T10:31:53.531Z"
   },
   {
    "duration": 90,
    "start_time": "2022-05-12T10:31:53.646Z"
   },
   {
    "duration": 84,
    "start_time": "2022-05-12T10:31:53.739Z"
   },
   {
    "duration": 6,
    "start_time": "2022-05-12T10:31:53.825Z"
   },
   {
    "duration": 27,
    "start_time": "2022-05-12T10:31:53.833Z"
   },
   {
    "duration": 59,
    "start_time": "2022-05-12T10:31:53.863Z"
   },
   {
    "duration": 23,
    "start_time": "2022-05-12T10:31:53.925Z"
   },
   {
    "duration": 28,
    "start_time": "2022-05-12T10:31:53.956Z"
   },
   {
    "duration": 8,
    "start_time": "2022-05-12T10:31:53.987Z"
   },
   {
    "duration": 9,
    "start_time": "2022-05-12T10:31:53.997Z"
   },
   {
    "duration": 53,
    "start_time": "2022-05-12T10:31:54.009Z"
   },
   {
    "duration": 235,
    "start_time": "2022-05-12T10:31:54.070Z"
   },
   {
    "duration": 18,
    "start_time": "2022-05-12T10:31:54.307Z"
   },
   {
    "duration": 154,
    "start_time": "2022-05-12T10:31:54.328Z"
   },
   {
    "duration": 120,
    "start_time": "2022-05-12T10:31:54.485Z"
   },
   {
    "duration": 27,
    "start_time": "2022-05-12T10:31:54.608Z"
   },
   {
    "duration": 5,
    "start_time": "2022-05-12T10:31:54.653Z"
   },
   {
    "duration": 38,
    "start_time": "2022-05-12T10:31:54.661Z"
   },
   {
    "duration": 13,
    "start_time": "2022-05-12T10:31:54.702Z"
   },
   {
    "duration": 14,
    "start_time": "2022-05-12T10:31:54.718Z"
   },
   {
    "duration": 73,
    "start_time": "2022-05-12T10:31:54.735Z"
   },
   {
    "duration": 15,
    "start_time": "2022-05-12T10:31:54.810Z"
   },
   {
    "duration": 52,
    "start_time": "2022-05-12T10:31:54.834Z"
   },
   {
    "duration": 10,
    "start_time": "2022-05-12T10:31:54.889Z"
   },
   {
    "duration": 22,
    "start_time": "2022-05-12T10:31:54.901Z"
   },
   {
    "duration": 43,
    "start_time": "2022-05-12T10:31:54.926Z"
   },
   {
    "duration": 20,
    "start_time": "2022-05-12T10:31:54.972Z"
   },
   {
    "duration": 43,
    "start_time": "2022-05-12T10:31:54.994Z"
   },
   {
    "duration": 40,
    "start_time": "2022-05-12T10:31:55.039Z"
   },
   {
    "duration": 9,
    "start_time": "2022-05-12T10:31:55.082Z"
   },
   {
    "duration": 63,
    "start_time": "2022-05-12T10:31:55.093Z"
   },
   {
    "duration": 44,
    "start_time": "2022-05-12T10:31:55.159Z"
   },
   {
    "duration": 6,
    "start_time": "2022-05-12T10:31:55.206Z"
   },
   {
    "duration": 65,
    "start_time": "2022-05-12T10:31:55.214Z"
   },
   {
    "duration": 14,
    "start_time": "2022-05-12T10:31:55.283Z"
   },
   {
    "duration": 932,
    "start_time": "2022-05-12T10:31:55.300Z"
   },
   {
    "duration": 7,
    "start_time": "2022-05-12T10:31:56.235Z"
   },
   {
    "duration": 1118,
    "start_time": "2022-05-12T10:31:56.252Z"
   },
   {
    "duration": 7,
    "start_time": "2022-05-12T10:31:57.375Z"
   },
   {
    "duration": 984,
    "start_time": "2022-05-12T10:31:57.385Z"
   },
   {
    "duration": 1166,
    "start_time": "2022-05-12T10:31:58.372Z"
   },
   {
    "duration": 1238,
    "start_time": "2022-05-12T10:31:59.540Z"
   },
   {
    "duration": 80,
    "start_time": "2022-05-12T10:32:00.781Z"
   },
   {
    "duration": 5,
    "start_time": "2022-05-12T10:32:00.864Z"
   },
   {
    "duration": 19,
    "start_time": "2022-05-12T10:32:00.872Z"
   },
   {
    "duration": 18,
    "start_time": "2022-05-12T10:32:00.894Z"
   },
   {
    "duration": 8,
    "start_time": "2022-05-12T10:32:00.915Z"
   },
   {
    "duration": 34,
    "start_time": "2022-05-12T10:32:00.925Z"
   },
   {
    "duration": 45,
    "start_time": "2022-05-12T10:32:00.961Z"
   },
   {
    "duration": 24,
    "start_time": "2022-05-12T10:32:01.009Z"
   },
   {
    "duration": 24,
    "start_time": "2022-05-12T10:32:01.036Z"
   },
   {
    "duration": 16,
    "start_time": "2022-05-12T10:32:40.479Z"
   },
   {
    "duration": 6,
    "start_time": "2022-05-12T10:32:45.529Z"
   },
   {
    "duration": 8,
    "start_time": "2022-05-12T10:32:50.670Z"
   },
   {
    "duration": 9,
    "start_time": "2022-05-12T10:45:45.138Z"
   },
   {
    "duration": 12,
    "start_time": "2022-05-12T10:48:36.353Z"
   },
   {
    "duration": 885,
    "start_time": "2022-05-12T10:54:00.565Z"
   },
   {
    "duration": 529,
    "start_time": "2022-05-12T10:54:01.457Z"
   },
   {
    "duration": 35,
    "start_time": "2022-05-12T10:54:01.989Z"
   },
   {
    "duration": 51,
    "start_time": "2022-05-12T10:54:02.027Z"
   },
   {
    "duration": 26,
    "start_time": "2022-05-12T10:54:02.082Z"
   },
   {
    "duration": 172,
    "start_time": "2022-05-12T10:54:02.111Z"
   },
   {
    "duration": 28,
    "start_time": "2022-05-12T10:54:02.285Z"
   },
   {
    "duration": 38,
    "start_time": "2022-05-12T10:54:02.315Z"
   },
   {
    "duration": 40,
    "start_time": "2022-05-12T10:54:02.356Z"
   },
   {
    "duration": 144,
    "start_time": "2022-05-12T10:54:02.398Z"
   },
   {
    "duration": 34,
    "start_time": "2022-05-12T10:54:02.545Z"
   },
   {
    "duration": 18,
    "start_time": "2022-05-12T10:54:02.581Z"
   },
   {
    "duration": 134,
    "start_time": "2022-05-12T10:54:02.602Z"
   },
   {
    "duration": 29,
    "start_time": "2022-05-12T10:54:02.743Z"
   },
   {
    "duration": 13,
    "start_time": "2022-05-12T10:54:02.774Z"
   },
   {
    "duration": 19,
    "start_time": "2022-05-12T10:54:02.789Z"
   },
   {
    "duration": 17,
    "start_time": "2022-05-12T10:54:02.809Z"
   },
   {
    "duration": 11,
    "start_time": "2022-05-12T10:54:02.860Z"
   },
   {
    "duration": 91,
    "start_time": "2022-05-12T10:54:02.873Z"
   },
   {
    "duration": 54,
    "start_time": "2022-05-12T10:54:02.967Z"
   },
   {
    "duration": 67,
    "start_time": "2022-05-12T10:54:03.024Z"
   },
   {
    "duration": 5,
    "start_time": "2022-05-12T10:54:03.093Z"
   },
   {
    "duration": 9,
    "start_time": "2022-05-12T10:54:03.101Z"
   },
   {
    "duration": 52,
    "start_time": "2022-05-12T10:54:03.112Z"
   },
   {
    "duration": 24,
    "start_time": "2022-05-12T10:54:03.167Z"
   },
   {
    "duration": 21,
    "start_time": "2022-05-12T10:54:03.193Z"
   },
   {
    "duration": 4,
    "start_time": "2022-05-12T10:54:03.217Z"
   },
   {
    "duration": 37,
    "start_time": "2022-05-12T10:54:03.223Z"
   },
   {
    "duration": 35,
    "start_time": "2022-05-12T10:54:03.263Z"
   },
   {
    "duration": 217,
    "start_time": "2022-05-12T10:54:03.300Z"
   },
   {
    "duration": 20,
    "start_time": "2022-05-12T10:54:03.519Z"
   },
   {
    "duration": 145,
    "start_time": "2022-05-12T10:54:03.552Z"
   },
   {
    "duration": 109,
    "start_time": "2022-05-12T10:54:03.699Z"
   },
   {
    "duration": 23,
    "start_time": "2022-05-12T10:54:03.811Z"
   },
   {
    "duration": 23,
    "start_time": "2022-05-12T10:54:03.836Z"
   },
   {
    "duration": 12,
    "start_time": "2022-05-12T10:54:03.862Z"
   },
   {
    "duration": 12,
    "start_time": "2022-05-12T10:54:03.877Z"
   },
   {
    "duration": 10,
    "start_time": "2022-05-12T10:54:03.892Z"
   },
   {
    "duration": 70,
    "start_time": "2022-05-12T10:54:03.905Z"
   },
   {
    "duration": 11,
    "start_time": "2022-05-12T10:54:03.977Z"
   },
   {
    "duration": 24,
    "start_time": "2022-05-12T10:54:03.994Z"
   },
   {
    "duration": 8,
    "start_time": "2022-05-12T10:54:04.020Z"
   },
   {
    "duration": 17,
    "start_time": "2022-05-12T10:54:04.052Z"
   },
   {
    "duration": 7,
    "start_time": "2022-05-12T10:54:04.071Z"
   },
   {
    "duration": 15,
    "start_time": "2022-05-12T10:54:04.080Z"
   },
   {
    "duration": 59,
    "start_time": "2022-05-12T10:54:04.097Z"
   },
   {
    "duration": 19,
    "start_time": "2022-05-12T10:54:04.159Z"
   },
   {
    "duration": 11,
    "start_time": "2022-05-12T10:54:04.180Z"
   },
   {
    "duration": 76,
    "start_time": "2022-05-12T10:54:04.193Z"
   },
   {
    "duration": 30,
    "start_time": "2022-05-12T10:54:04.271Z"
   },
   {
    "duration": 6,
    "start_time": "2022-05-12T10:54:04.303Z"
   },
   {
    "duration": 58,
    "start_time": "2022-05-12T10:54:04.311Z"
   },
   {
    "duration": 13,
    "start_time": "2022-05-12T10:54:04.372Z"
   },
   {
    "duration": 696,
    "start_time": "2022-05-12T10:54:04.387Z"
   },
   {
    "duration": 6,
    "start_time": "2022-05-12T10:54:05.085Z"
   },
   {
    "duration": 1075,
    "start_time": "2022-05-12T10:54:05.093Z"
   },
   {
    "duration": 7,
    "start_time": "2022-05-12T10:54:06.170Z"
   },
   {
    "duration": 951,
    "start_time": "2022-05-12T10:54:06.179Z"
   },
   {
    "duration": 1059,
    "start_time": "2022-05-12T10:54:07.133Z"
   },
   {
    "duration": 1102,
    "start_time": "2022-05-12T10:54:08.194Z"
   },
   {
    "duration": 68,
    "start_time": "2022-05-12T10:54:09.299Z"
   },
   {
    "duration": 4,
    "start_time": "2022-05-12T10:54:09.370Z"
   },
   {
    "duration": 7,
    "start_time": "2022-05-12T10:54:09.376Z"
   },
   {
    "duration": 12,
    "start_time": "2022-05-12T10:54:09.385Z"
   },
   {
    "duration": 13,
    "start_time": "2022-05-12T10:54:09.399Z"
   },
   {
    "duration": 11,
    "start_time": "2022-05-12T10:54:09.414Z"
   },
   {
    "duration": 32,
    "start_time": "2022-05-12T10:54:09.427Z"
   },
   {
    "duration": 10,
    "start_time": "2022-05-12T10:54:09.463Z"
   },
   {
    "duration": 10,
    "start_time": "2022-05-12T10:54:09.476Z"
   },
   {
    "duration": 1372,
    "start_time": "2022-05-13T06:17:55.587Z"
   },
   {
    "duration": 396,
    "start_time": "2022-05-13T06:17:57.328Z"
   },
   {
    "duration": 24,
    "start_time": "2022-05-13T06:18:02.810Z"
   },
   {
    "duration": 40,
    "start_time": "2022-05-13T06:18:03.578Z"
   },
   {
    "duration": 28,
    "start_time": "2022-05-13T06:18:04.580Z"
   },
   {
    "duration": 118,
    "start_time": "2022-05-13T06:18:05.356Z"
   },
   {
    "duration": 21,
    "start_time": "2022-05-13T06:18:06.508Z"
   },
   {
    "duration": 16,
    "start_time": "2022-05-13T06:18:07.510Z"
   },
   {
    "duration": 28,
    "start_time": "2022-05-13T06:18:08.523Z"
   },
   {
    "duration": 84,
    "start_time": "2022-05-13T06:18:08.901Z"
   },
   {
    "duration": 18,
    "start_time": "2022-05-13T06:18:09.729Z"
   },
   {
    "duration": 14,
    "start_time": "2022-05-13T06:18:10.816Z"
   },
   {
    "duration": 74,
    "start_time": "2022-05-13T06:18:11.196Z"
   },
   {
    "duration": 9,
    "start_time": "2022-05-13T06:18:11.941Z"
   },
   {
    "duration": 9,
    "start_time": "2022-05-13T06:18:13.081Z"
   },
   {
    "duration": 11,
    "start_time": "2022-05-13T06:18:14.276Z"
   },
   {
    "duration": 12,
    "start_time": "2022-05-13T06:18:15.455Z"
   },
   {
    "duration": 7,
    "start_time": "2022-05-13T06:18:16.132Z"
   },
   {
    "duration": 285,
    "start_time": "2022-05-13T06:18:50.613Z"
   },
   {
    "duration": 183,
    "start_time": "2022-05-13T06:19:11.924Z"
   },
   {
    "duration": 230,
    "start_time": "2022-05-13T06:19:23.979Z"
   },
   {
    "duration": 164,
    "start_time": "2022-05-13T06:20:27.925Z"
   },
   {
    "duration": 9,
    "start_time": "2022-05-13T06:21:05.481Z"
   },
   {
    "duration": 16,
    "start_time": "2022-05-13T06:21:17.728Z"
   },
   {
    "duration": 15,
    "start_time": "2022-05-13T06:21:35.450Z"
   },
   {
    "duration": 261,
    "start_time": "2022-05-13T06:26:00.270Z"
   },
   {
    "duration": 255,
    "start_time": "2022-05-13T06:32:54.195Z"
   },
   {
    "duration": 7,
    "start_time": "2022-05-13T06:33:30.009Z"
   },
   {
    "duration": 5,
    "start_time": "2022-05-13T06:33:39.692Z"
   },
   {
    "duration": 6,
    "start_time": "2022-05-13T06:33:47.383Z"
   },
   {
    "duration": 4,
    "start_time": "2022-05-13T06:33:58.245Z"
   },
   {
    "duration": 5,
    "start_time": "2022-05-13T06:34:01.252Z"
   },
   {
    "duration": 5,
    "start_time": "2022-05-13T06:34:17.803Z"
   },
   {
    "duration": 17,
    "start_time": "2022-05-13T06:34:23.946Z"
   },
   {
    "duration": 18,
    "start_time": "2022-05-13T06:34:39.479Z"
   },
   {
    "duration": 4,
    "start_time": "2022-05-13T06:38:04.170Z"
   },
   {
    "duration": 6,
    "start_time": "2022-05-13T06:38:07.574Z"
   },
   {
    "duration": 7,
    "start_time": "2022-05-13T06:38:40.571Z"
   },
   {
    "duration": 4,
    "start_time": "2022-05-13T06:38:47.218Z"
   },
   {
    "duration": 6,
    "start_time": "2022-05-13T06:39:17.831Z"
   },
   {
    "duration": 5,
    "start_time": "2022-05-13T06:39:24.704Z"
   },
   {
    "duration": 8,
    "start_time": "2022-05-13T06:39:31.033Z"
   },
   {
    "duration": 9,
    "start_time": "2022-05-13T06:39:32.535Z"
   },
   {
    "duration": 6,
    "start_time": "2022-05-13T06:39:33.706Z"
   },
   {
    "duration": 104,
    "start_time": "2022-05-13T06:39:56.794Z"
   },
   {
    "duration": 9,
    "start_time": "2022-05-13T06:43:29.641Z"
   },
   {
    "duration": 307,
    "start_time": "2022-05-13T06:43:56.005Z"
   },
   {
    "duration": 11,
    "start_time": "2022-05-13T06:44:08.870Z"
   },
   {
    "duration": 9,
    "start_time": "2022-05-13T06:46:00.217Z"
   },
   {
    "duration": 4,
    "start_time": "2022-05-13T06:47:46.699Z"
   },
   {
    "duration": 9,
    "start_time": "2022-05-13T06:47:58.079Z"
   },
   {
    "duration": 112,
    "start_time": "2022-05-13T06:48:50.223Z"
   },
   {
    "duration": 12,
    "start_time": "2022-05-13T06:48:55.255Z"
   },
   {
    "duration": 14,
    "start_time": "2022-05-13T06:49:11.186Z"
   },
   {
    "duration": 15,
    "start_time": "2022-05-13T06:51:39.161Z"
   },
   {
    "duration": 10,
    "start_time": "2022-05-13T06:52:07.998Z"
   },
   {
    "duration": 120,
    "start_time": "2022-05-13T06:52:20.510Z"
   },
   {
    "duration": 14,
    "start_time": "2022-05-13T06:52:23.793Z"
   },
   {
    "duration": 9,
    "start_time": "2022-05-13T06:52:32.302Z"
   },
   {
    "duration": 10,
    "start_time": "2022-05-13T06:52:41.797Z"
   },
   {
    "duration": 9,
    "start_time": "2022-05-13T06:52:50.422Z"
   },
   {
    "duration": 59,
    "start_time": "2022-05-13T06:54:45.818Z"
   },
   {
    "duration": 36,
    "start_time": "2022-05-13T06:54:46.594Z"
   },
   {
    "duration": 41,
    "start_time": "2022-05-13T06:54:47.338Z"
   },
   {
    "duration": 4,
    "start_time": "2022-05-13T06:54:48.043Z"
   },
   {
    "duration": 5,
    "start_time": "2022-05-13T06:56:01.894Z"
   },
   {
    "duration": 21,
    "start_time": "2022-05-13T06:56:13.685Z"
   },
   {
    "duration": 2,
    "start_time": "2022-05-13T06:57:17.022Z"
   },
   {
    "duration": 4,
    "start_time": "2022-05-13T06:57:24.448Z"
   },
   {
    "duration": 15,
    "start_time": "2022-05-13T07:04:14.575Z"
   },
   {
    "duration": 11,
    "start_time": "2022-05-13T07:04:24.497Z"
   },
   {
    "duration": 14,
    "start_time": "2022-05-13T07:04:32.798Z"
   },
   {
    "duration": 8,
    "start_time": "2022-05-13T07:04:43.555Z"
   },
   {
    "duration": 12,
    "start_time": "2022-05-13T07:04:48.258Z"
   },
   {
    "duration": 15,
    "start_time": "2022-05-13T07:11:57.386Z"
   },
   {
    "duration": 12,
    "start_time": "2022-05-13T07:16:29.169Z"
   },
   {
    "duration": 11,
    "start_time": "2022-05-13T07:16:29.502Z"
   },
   {
    "duration": 23,
    "start_time": "2022-05-13T07:16:30.654Z"
   },
   {
    "duration": 14,
    "start_time": "2022-05-13T07:16:31.138Z"
   },
   {
    "duration": 14,
    "start_time": "2022-05-13T07:16:31.594Z"
   },
   {
    "duration": 4,
    "start_time": "2022-05-13T07:16:32.080Z"
   },
   {
    "duration": 3,
    "start_time": "2022-05-13T07:16:33.118Z"
   },
   {
    "duration": 4,
    "start_time": "2022-05-13T07:16:34.789Z"
   },
   {
    "duration": 21,
    "start_time": "2022-05-13T07:16:35.145Z"
   },
   {
    "duration": 16,
    "start_time": "2022-05-13T07:16:36.712Z"
   },
   {
    "duration": 15,
    "start_time": "2022-05-13T07:16:37.131Z"
   },
   {
    "duration": 2,
    "start_time": "2022-05-13T07:16:37.830Z"
   },
   {
    "duration": 3,
    "start_time": "2022-05-13T07:16:38.219Z"
   },
   {
    "duration": 14,
    "start_time": "2022-05-13T07:16:39.075Z"
   },
   {
    "duration": 115,
    "start_time": "2022-05-13T07:16:44.737Z"
   },
   {
    "duration": 11,
    "start_time": "2022-05-13T07:16:45.409Z"
   },
   {
    "duration": 75,
    "start_time": "2022-05-13T07:16:48.635Z"
   },
   {
    "duration": 61,
    "start_time": "2022-05-13T07:16:51.952Z"
   },
   {
    "duration": 19,
    "start_time": "2022-05-13T07:16:52.183Z"
   },
   {
    "duration": 3,
    "start_time": "2022-05-13T07:16:55.672Z"
   },
   {
    "duration": 6,
    "start_time": "2022-05-13T07:16:56.146Z"
   },
   {
    "duration": 12,
    "start_time": "2022-05-13T07:16:56.630Z"
   },
   {
    "duration": 12,
    "start_time": "2022-05-13T07:16:57.266Z"
   },
   {
    "duration": 22,
    "start_time": "2022-05-13T07:16:58.502Z"
   },
   {
    "duration": 8,
    "start_time": "2022-05-13T07:17:02.196Z"
   },
   {
    "duration": 13,
    "start_time": "2022-05-13T07:17:03.014Z"
   },
   {
    "duration": 5,
    "start_time": "2022-05-13T07:17:06.948Z"
   },
   {
    "duration": 7,
    "start_time": "2022-05-13T07:17:07.754Z"
   },
   {
    "duration": 6,
    "start_time": "2022-05-13T07:17:31.209Z"
   },
   {
    "duration": 8,
    "start_time": "2022-05-13T07:17:32.079Z"
   },
   {
    "duration": 19,
    "start_time": "2022-05-13T07:17:32.438Z"
   },
   {
    "duration": 11,
    "start_time": "2022-05-13T07:20:48.595Z"
   },
   {
    "duration": 7,
    "start_time": "2022-05-13T07:21:14.338Z"
   },
   {
    "duration": 26,
    "start_time": "2022-05-13T07:21:25.300Z"
   },
   {
    "duration": 6,
    "start_time": "2022-05-13T07:22:36.835Z"
   },
   {
    "duration": 28,
    "start_time": "2022-05-13T07:22:37.622Z"
   },
   {
    "duration": 6,
    "start_time": "2022-05-13T07:28:47.371Z"
   },
   {
    "duration": 43,
    "start_time": "2022-05-13T07:28:47.965Z"
   },
   {
    "duration": 21,
    "start_time": "2022-05-13T07:28:49.400Z"
   },
   {
    "duration": 5,
    "start_time": "2022-05-13T07:28:50.054Z"
   },
   {
    "duration": 16,
    "start_time": "2022-05-13T07:28:51.433Z"
   },
   {
    "duration": 9,
    "start_time": "2022-05-13T07:28:56.031Z"
   },
   {
    "duration": 2,
    "start_time": "2022-05-13T07:29:00.743Z"
   },
   {
    "duration": 5,
    "start_time": "2022-05-13T07:29:03.143Z"
   },
   {
    "duration": 883,
    "start_time": "2022-05-13T07:29:04.661Z"
   },
   {
    "duration": 101,
    "start_time": "2022-05-13T07:29:55.853Z"
   },
   {
    "duration": 100,
    "start_time": "2022-05-13T07:30:02.482Z"
   },
   {
    "duration": 618,
    "start_time": "2022-05-13T07:31:23.182Z"
   },
   {
    "duration": 694,
    "start_time": "2022-05-13T07:32:07.302Z"
   },
   {
    "duration": 241,
    "start_time": "2022-05-13T07:34:23.787Z"
   },
   {
    "duration": 604,
    "start_time": "2022-05-13T07:34:38.201Z"
   },
   {
    "duration": 609,
    "start_time": "2022-05-13T07:35:44.392Z"
   },
   {
    "duration": 639,
    "start_time": "2022-05-13T07:36:02.071Z"
   },
   {
    "duration": 723,
    "start_time": "2022-05-13T07:36:37.241Z"
   },
   {
    "duration": 767,
    "start_time": "2022-05-13T07:37:55.943Z"
   },
   {
    "duration": 778,
    "start_time": "2022-05-13T07:39:07.986Z"
   },
   {
    "duration": 660,
    "start_time": "2022-05-13T07:39:56.960Z"
   },
   {
    "duration": 629,
    "start_time": "2022-05-13T07:49:15.086Z"
   },
   {
    "duration": 672,
    "start_time": "2022-05-13T07:52:17.445Z"
   },
   {
    "duration": 10,
    "start_time": "2022-05-13T07:53:06.441Z"
   },
   {
    "duration": 4,
    "start_time": "2022-05-13T07:53:14.970Z"
   },
   {
    "duration": 780,
    "start_time": "2022-05-13T07:53:15.334Z"
   },
   {
    "duration": 704,
    "start_time": "2022-05-13T07:56:02.744Z"
   },
   {
    "duration": 907,
    "start_time": "2022-05-13T07:56:19.220Z"
   },
   {
    "duration": 3,
    "start_time": "2022-05-13T07:57:33.941Z"
   },
   {
    "duration": 4,
    "start_time": "2022-05-13T07:57:34.664Z"
   },
   {
    "duration": 374,
    "start_time": "2022-05-13T07:57:37.186Z"
   },
   {
    "duration": 3,
    "start_time": "2022-05-13T08:12:25.927Z"
   },
   {
    "duration": 10,
    "start_time": "2022-05-13T08:12:26.261Z"
   },
   {
    "duration": 459,
    "start_time": "2022-05-13T08:12:27.082Z"
   },
   {
    "duration": 32,
    "start_time": "2022-05-13T08:12:28.674Z"
   },
   {
    "duration": 31,
    "start_time": "2022-05-13T08:12:29.097Z"
   },
   {
    "duration": 32,
    "start_time": "2022-05-13T08:12:29.637Z"
   },
   {
    "duration": 154,
    "start_time": "2022-05-13T08:12:30.292Z"
   },
   {
    "duration": 26,
    "start_time": "2022-05-13T08:12:30.754Z"
   },
   {
    "duration": 18,
    "start_time": "2022-05-13T08:12:31.207Z"
   },
   {
    "duration": 41,
    "start_time": "2022-05-13T08:12:31.637Z"
   },
   {
    "duration": 101,
    "start_time": "2022-05-13T08:12:31.850Z"
   },
   {
    "duration": 30,
    "start_time": "2022-05-13T08:12:32.588Z"
   },
   {
    "duration": 15,
    "start_time": "2022-05-13T08:12:33.014Z"
   },
   {
    "duration": 69,
    "start_time": "2022-05-13T08:12:33.237Z"
   },
   {
    "duration": 11,
    "start_time": "2022-05-13T08:12:33.627Z"
   },
   {
    "duration": 8,
    "start_time": "2022-05-13T08:12:34.000Z"
   },
   {
    "duration": 17,
    "start_time": "2022-05-13T08:12:34.378Z"
   },
   {
    "duration": 17,
    "start_time": "2022-05-13T08:12:34.729Z"
   },
   {
    "duration": 5,
    "start_time": "2022-05-13T08:12:35.119Z"
   },
   {
    "duration": 435,
    "start_time": "2022-05-13T08:12:36.001Z"
   },
   {
    "duration": 10,
    "start_time": "2022-05-13T08:12:36.439Z"
   },
   {
    "duration": 16,
    "start_time": "2022-05-13T08:12:36.560Z"
   },
   {
    "duration": 70,
    "start_time": "2022-05-13T08:12:37.151Z"
   },
   {
    "duration": 39,
    "start_time": "2022-05-13T08:12:37.529Z"
   },
   {
    "duration": 56,
    "start_time": "2022-05-13T08:12:38.086Z"
   },
   {
    "duration": 12,
    "start_time": "2022-05-13T08:12:38.266Z"
   },
   {
    "duration": 4,
    "start_time": "2022-05-13T08:12:39.112Z"
   },
   {
    "duration": 5,
    "start_time": "2022-05-13T08:12:39.746Z"
   },
   {
    "duration": 30,
    "start_time": "2022-05-13T08:12:39.944Z"
   },
   {
    "duration": 17,
    "start_time": "2022-05-13T08:12:40.726Z"
   },
   {
    "duration": 14,
    "start_time": "2022-05-13T08:12:41.133Z"
   },
   {
    "duration": 3,
    "start_time": "2022-05-13T08:12:41.498Z"
   },
   {
    "duration": 4,
    "start_time": "2022-05-13T08:12:41.691Z"
   },
   {
    "duration": 16,
    "start_time": "2022-05-13T08:12:41.903Z"
   },
   {
    "duration": 118,
    "start_time": "2022-05-13T08:12:42.541Z"
   },
   {
    "duration": 12,
    "start_time": "2022-05-13T08:12:42.910Z"
   },
   {
    "duration": 69,
    "start_time": "2022-05-13T08:12:43.338Z"
   },
   {
    "duration": 62,
    "start_time": "2022-05-13T08:12:43.750Z"
   },
   {
    "duration": 17,
    "start_time": "2022-05-13T08:12:43.989Z"
   },
   {
    "duration": 3,
    "start_time": "2022-05-13T08:12:44.418Z"
   },
   {
    "duration": 7,
    "start_time": "2022-05-13T08:12:44.970Z"
   },
   {
    "duration": 9,
    "start_time": "2022-05-13T08:12:45.454Z"
   },
   {
    "duration": 8,
    "start_time": "2022-05-13T08:12:46.102Z"
   },
   {
    "duration": 27,
    "start_time": "2022-05-13T08:12:46.554Z"
   },
   {
    "duration": 8,
    "start_time": "2022-05-13T08:12:47.660Z"
   },
   {
    "duration": 20,
    "start_time": "2022-05-13T08:12:48.073Z"
   },
   {
    "duration": 7,
    "start_time": "2022-05-13T08:12:48.470Z"
   },
   {
    "duration": 8,
    "start_time": "2022-05-13T08:12:48.852Z"
   },
   {
    "duration": 4,
    "start_time": "2022-05-13T08:12:49.255Z"
   },
   {
    "duration": 7,
    "start_time": "2022-05-13T08:12:49.679Z"
   },
   {
    "duration": 18,
    "start_time": "2022-05-13T08:12:49.897Z"
   },
   {
    "duration": 11,
    "start_time": "2022-05-13T08:12:50.574Z"
   },
   {
    "duration": 6,
    "start_time": "2022-05-13T08:12:53.692Z"
   },
   {
    "duration": 4,
    "start_time": "2022-05-13T08:12:55.033Z"
   },
   {
    "duration": 27,
    "start_time": "2022-05-13T08:12:55.255Z"
   },
   {
    "duration": 18,
    "start_time": "2022-05-13T08:12:55.705Z"
   },
   {
    "duration": 4,
    "start_time": "2022-05-13T08:12:56.419Z"
   },
   {
    "duration": 16,
    "start_time": "2022-05-13T08:12:57.300Z"
   },
   {
    "duration": 7,
    "start_time": "2022-05-13T08:18:22.675Z"
   },
   {
    "duration": 2,
    "start_time": "2022-05-13T08:18:23.293Z"
   },
   {
    "duration": 6,
    "start_time": "2022-05-13T08:18:29.470Z"
   },
   {
    "duration": 646,
    "start_time": "2022-05-13T08:18:30.665Z"
   },
   {
    "duration": 5,
    "start_time": "2022-05-13T08:18:37.058Z"
   },
   {
    "duration": 671,
    "start_time": "2022-05-13T08:18:37.649Z"
   },
   {
    "duration": 4,
    "start_time": "2022-05-13T08:41:04.634Z"
   },
   {
    "duration": 4,
    "start_time": "2022-05-13T08:41:06.892Z"
   },
   {
    "duration": 408,
    "start_time": "2022-05-13T08:41:07.737Z"
   },
   {
    "duration": 38,
    "start_time": "2022-05-13T08:41:09.310Z"
   },
   {
    "duration": 32,
    "start_time": "2022-05-13T08:41:09.681Z"
   },
   {
    "duration": 28,
    "start_time": "2022-05-13T08:41:10.009Z"
   },
   {
    "duration": 107,
    "start_time": "2022-05-13T08:41:10.341Z"
   },
   {
    "duration": 28,
    "start_time": "2022-05-13T08:41:10.688Z"
   },
   {
    "duration": 20,
    "start_time": "2022-05-13T08:41:11.029Z"
   },
   {
    "duration": 36,
    "start_time": "2022-05-13T08:41:11.375Z"
   },
   {
    "duration": 83,
    "start_time": "2022-05-13T08:41:11.582Z"
   },
   {
    "duration": 24,
    "start_time": "2022-05-13T08:41:11.885Z"
   },
   {
    "duration": 17,
    "start_time": "2022-05-13T08:41:12.234Z"
   },
   {
    "duration": 65,
    "start_time": "2022-05-13T08:41:12.400Z"
   },
   {
    "duration": 14,
    "start_time": "2022-05-13T08:41:12.753Z"
   },
   {
    "duration": 8,
    "start_time": "2022-05-13T08:41:13.097Z"
   },
   {
    "duration": 11,
    "start_time": "2022-05-13T08:41:13.613Z"
   },
   {
    "duration": 13,
    "start_time": "2022-05-13T08:41:13.863Z"
   },
   {
    "duration": 8,
    "start_time": "2022-05-13T08:41:14.241Z"
   },
   {
    "duration": 476,
    "start_time": "2022-05-13T08:41:15.215Z"
   },
   {
    "duration": 9,
    "start_time": "2022-05-13T08:41:15.694Z"
   },
   {
    "duration": 12,
    "start_time": "2022-05-13T08:41:18.124Z"
   },
   {
    "duration": 80,
    "start_time": "2022-05-13T08:41:20.287Z"
   },
   {
    "duration": 61,
    "start_time": "2022-05-13T08:41:20.956Z"
   },
   {
    "duration": 41,
    "start_time": "2022-05-13T08:41:24.539Z"
   },
   {
    "duration": 5,
    "start_time": "2022-05-13T08:41:25.407Z"
   },
   {
    "duration": 2,
    "start_time": "2022-05-13T08:41:26.635Z"
   },
   {
    "duration": 5,
    "start_time": "2022-05-13T08:41:28.797Z"
   },
   {
    "duration": 34,
    "start_time": "2022-05-13T08:41:29.149Z"
   },
   {
    "duration": 13,
    "start_time": "2022-05-13T08:41:31.945Z"
   },
   {
    "duration": 9,
    "start_time": "2022-05-13T08:45:56.986Z"
   },
   {
    "duration": 23,
    "start_time": "2022-05-13T08:46:10.724Z"
   },
   {
    "duration": 6,
    "start_time": "2022-05-13T08:46:32.139Z"
   },
   {
    "duration": 24,
    "start_time": "2022-05-13T08:46:32.942Z"
   },
   {
    "duration": 113,
    "start_time": "2022-05-13T08:47:00.352Z"
   },
   {
    "duration": 7,
    "start_time": "2022-05-13T08:47:19.989Z"
   },
   {
    "duration": 27,
    "start_time": "2022-05-13T08:47:22.947Z"
   },
   {
    "duration": 16,
    "start_time": "2022-05-13T08:48:21.415Z"
   },
   {
    "duration": 680,
    "start_time": "2022-05-13T08:49:08.367Z"
   },
   {
    "duration": 838,
    "start_time": "2022-05-13T08:50:10.999Z"
   },
   {
    "duration": 885,
    "start_time": "2022-05-13T08:51:46.834Z"
   },
   {
    "duration": 739,
    "start_time": "2022-05-13T08:52:14.916Z"
   },
   {
    "duration": 609,
    "start_time": "2022-05-13T08:53:50.681Z"
   },
   {
    "duration": 688,
    "start_time": "2022-05-13T08:53:59.056Z"
   },
   {
    "duration": 664,
    "start_time": "2022-05-13T08:54:05.586Z"
   },
   {
    "duration": 728,
    "start_time": "2022-05-13T08:54:10.976Z"
   },
   {
    "duration": 1038,
    "start_time": "2022-05-13T08:54:16.777Z"
   },
   {
    "duration": 655,
    "start_time": "2022-05-13T08:54:26.261Z"
   },
   {
    "duration": 797,
    "start_time": "2022-05-13T08:54:39.231Z"
   },
   {
    "duration": 750,
    "start_time": "2022-05-13T08:55:08.605Z"
   },
   {
    "duration": 863,
    "start_time": "2022-05-13T08:55:34.347Z"
   },
   {
    "duration": 672,
    "start_time": "2022-05-13T08:55:46.417Z"
   },
   {
    "duration": 833,
    "start_time": "2022-05-13T08:55:55.220Z"
   },
   {
    "duration": 777,
    "start_time": "2022-05-13T08:56:01.115Z"
   },
   {
    "duration": 532,
    "start_time": "2022-05-13T08:56:27.184Z"
   },
   {
    "duration": 763,
    "start_time": "2022-05-13T08:56:37.513Z"
   },
   {
    "duration": 646,
    "start_time": "2022-05-13T08:56:47.755Z"
   },
   {
    "duration": 745,
    "start_time": "2022-05-13T08:56:56.646Z"
   },
   {
    "duration": 862,
    "start_time": "2022-05-13T08:57:49.438Z"
   },
   {
    "duration": 31,
    "start_time": "2022-05-13T09:01:59.963Z"
   },
   {
    "duration": 28,
    "start_time": "2022-05-13T09:06:17.695Z"
   },
   {
    "duration": 27,
    "start_time": "2022-05-13T09:06:35.860Z"
   },
   {
    "duration": 150,
    "start_time": "2022-05-13T09:10:14.326Z"
   },
   {
    "duration": 7,
    "start_time": "2022-05-13T09:10:21.640Z"
   },
   {
    "duration": 26,
    "start_time": "2022-05-13T09:10:30.315Z"
   },
   {
    "duration": 125,
    "start_time": "2022-05-13T09:10:59.992Z"
   },
   {
    "duration": 8,
    "start_time": "2022-05-13T09:13:00.693Z"
   },
   {
    "duration": 42,
    "start_time": "2022-05-13T09:13:24.599Z"
   },
   {
    "duration": 40,
    "start_time": "2022-05-13T09:13:49.904Z"
   },
   {
    "duration": 1001,
    "start_time": "2022-05-13T09:22:11.866Z"
   },
   {
    "duration": 727,
    "start_time": "2022-05-13T09:22:28.450Z"
   },
   {
    "duration": 29,
    "start_time": "2022-05-13T09:22:30.730Z"
   },
   {
    "duration": 864,
    "start_time": "2022-05-13T09:22:37.569Z"
   },
   {
    "duration": 44,
    "start_time": "2022-05-13T09:22:44.891Z"
   },
   {
    "duration": 3,
    "start_time": "2022-05-13T09:50:26.378Z"
   },
   {
    "duration": 2,
    "start_time": "2022-05-13T09:50:26.895Z"
   },
   {
    "duration": 7,
    "start_time": "2022-05-13T09:50:27.450Z"
   },
   {
    "duration": 4,
    "start_time": "2022-05-13T09:50:28.091Z"
   },
   {
    "duration": 4,
    "start_time": "2022-05-13T09:50:30.137Z"
   },
   {
    "duration": 4,
    "start_time": "2022-05-13T09:50:30.652Z"
   },
   {
    "duration": 7,
    "start_time": "2022-05-13T09:50:31.060Z"
   },
   {
    "duration": 5,
    "start_time": "2022-05-13T09:50:31.541Z"
   },
   {
    "duration": 5,
    "start_time": "2022-05-13T10:34:51.008Z"
   },
   {
    "duration": 20,
    "start_time": "2022-05-13T10:35:19.576Z"
   },
   {
    "duration": 55,
    "start_time": "2022-05-13T10:36:13.464Z"
   },
   {
    "duration": 46,
    "start_time": "2022-05-13T10:36:23.428Z"
   },
   {
    "duration": 11,
    "start_time": "2022-05-13T10:36:47.398Z"
   },
   {
    "duration": 8,
    "start_time": "2022-05-13T10:37:07.025Z"
   },
   {
    "duration": 14,
    "start_time": "2022-05-13T10:37:21.558Z"
   },
   {
    "duration": 9,
    "start_time": "2022-05-13T10:37:28.619Z"
   },
   {
    "duration": 13,
    "start_time": "2022-05-13T10:38:46.974Z"
   },
   {
    "duration": 6,
    "start_time": "2022-05-13T10:38:49.743Z"
   },
   {
    "duration": 3,
    "start_time": "2022-05-13T10:38:50.789Z"
   },
   {
    "duration": 4,
    "start_time": "2022-05-13T10:40:36.409Z"
   },
   {
    "duration": 122,
    "start_time": "2022-05-13T10:41:58.713Z"
   },
   {
    "duration": 4,
    "start_time": "2022-05-13T10:42:01.707Z"
   },
   {
    "duration": 6,
    "start_time": "2022-05-13T10:42:12.046Z"
   },
   {
    "duration": 3,
    "start_time": "2022-05-13T10:42:12.510Z"
   },
   {
    "duration": 5,
    "start_time": "2022-05-13T10:42:24.485Z"
   },
   {
    "duration": 7,
    "start_time": "2022-05-13T10:42:48.060Z"
   },
   {
    "duration": 138,
    "start_time": "2022-05-13T10:58:02.490Z"
   },
   {
    "duration": 163,
    "start_time": "2022-05-13T10:58:46.779Z"
   },
   {
    "duration": 327,
    "start_time": "2022-05-13T10:59:00.614Z"
   },
   {
    "duration": 13,
    "start_time": "2022-05-13T10:59:42.802Z"
   },
   {
    "duration": 9,
    "start_time": "2022-05-13T11:00:03.211Z"
   },
   {
    "duration": 1224,
    "start_time": "2022-05-13T11:06:04.179Z"
   },
   {
    "duration": 4,
    "start_time": "2022-05-13T11:06:05.405Z"
   },
   {
    "duration": 516,
    "start_time": "2022-05-13T11:06:05.411Z"
   },
   {
    "duration": 25,
    "start_time": "2022-05-13T11:06:05.928Z"
   },
   {
    "duration": 59,
    "start_time": "2022-05-13T11:06:05.956Z"
   },
   {
    "duration": 22,
    "start_time": "2022-05-13T11:06:06.016Z"
   },
   {
    "duration": 118,
    "start_time": "2022-05-13T11:06:06.040Z"
   },
   {
    "duration": 30,
    "start_time": "2022-05-13T11:06:06.160Z"
   },
   {
    "duration": 29,
    "start_time": "2022-05-13T11:06:06.192Z"
   },
   {
    "duration": 27,
    "start_time": "2022-05-13T11:06:06.223Z"
   },
   {
    "duration": 97,
    "start_time": "2022-05-13T11:06:06.251Z"
   },
   {
    "duration": 29,
    "start_time": "2022-05-13T11:06:06.350Z"
   },
   {
    "duration": 50,
    "start_time": "2022-05-13T11:06:06.382Z"
   },
   {
    "duration": 89,
    "start_time": "2022-05-13T11:06:06.435Z"
   },
   {
    "duration": 10,
    "start_time": "2022-05-13T11:06:06.525Z"
   },
   {
    "duration": 10,
    "start_time": "2022-05-13T11:06:06.537Z"
   },
   {
    "duration": 35,
    "start_time": "2022-05-13T11:06:06.548Z"
   },
   {
    "duration": 53,
    "start_time": "2022-05-13T11:06:06.584Z"
   },
   {
    "duration": 8,
    "start_time": "2022-05-13T11:06:06.639Z"
   },
   {
    "duration": 359,
    "start_time": "2022-05-13T11:06:06.648Z"
   },
   {
    "duration": 8,
    "start_time": "2022-05-13T11:06:07.009Z"
   },
   {
    "duration": 13,
    "start_time": "2022-05-13T11:06:07.019Z"
   },
   {
    "duration": 93,
    "start_time": "2022-05-13T11:06:07.034Z"
   },
   {
    "duration": 71,
    "start_time": "2022-05-13T11:06:07.129Z"
   },
   {
    "duration": 38,
    "start_time": "2022-05-13T11:06:07.201Z"
   },
   {
    "duration": 3,
    "start_time": "2022-05-13T11:06:07.241Z"
   },
   {
    "duration": 5,
    "start_time": "2022-05-13T11:06:07.246Z"
   },
   {
    "duration": 18,
    "start_time": "2022-05-13T11:06:07.253Z"
   },
   {
    "duration": 55,
    "start_time": "2022-05-13T11:06:07.273Z"
   },
   {
    "duration": 18,
    "start_time": "2022-05-13T11:06:07.330Z"
   },
   {
    "duration": 21,
    "start_time": "2022-05-13T11:06:07.350Z"
   },
   {
    "duration": 3,
    "start_time": "2022-05-13T11:06:07.373Z"
   },
   {
    "duration": 34,
    "start_time": "2022-05-13T11:06:07.378Z"
   },
   {
    "duration": 18,
    "start_time": "2022-05-13T11:06:07.414Z"
   },
   {
    "duration": 176,
    "start_time": "2022-05-13T11:06:07.434Z"
   },
   {
    "duration": 15,
    "start_time": "2022-05-13T11:06:07.612Z"
   },
   {
    "duration": 95,
    "start_time": "2022-05-13T11:06:07.629Z"
   },
   {
    "duration": 75,
    "start_time": "2022-05-13T11:06:07.726Z"
   },
   {
    "duration": 5,
    "start_time": "2022-05-13T11:06:07.807Z"
   },
   {
    "duration": 9,
    "start_time": "2022-05-13T11:06:07.814Z"
   },
   {
    "duration": 10,
    "start_time": "2022-05-13T11:06:07.828Z"
   },
   {
    "duration": 9,
    "start_time": "2022-05-13T11:06:07.839Z"
   },
   {
    "duration": 55,
    "start_time": "2022-05-13T11:06:07.850Z"
   },
   {
    "duration": 9,
    "start_time": "2022-05-13T11:06:07.907Z"
   },
   {
    "duration": 18,
    "start_time": "2022-05-13T11:06:07.917Z"
   },
   {
    "duration": 5,
    "start_time": "2022-05-13T11:06:07.937Z"
   },
   {
    "duration": 16,
    "start_time": "2022-05-13T11:06:07.943Z"
   },
   {
    "duration": 51,
    "start_time": "2022-05-13T11:06:07.960Z"
   },
   {
    "duration": 8,
    "start_time": "2022-05-13T11:06:08.013Z"
   },
   {
    "duration": 18,
    "start_time": "2022-05-13T11:06:08.023Z"
   },
   {
    "duration": 9,
    "start_time": "2022-05-13T11:06:08.043Z"
   },
   {
    "duration": 5,
    "start_time": "2022-05-13T11:06:08.054Z"
   },
   {
    "duration": 51,
    "start_time": "2022-05-13T11:06:08.060Z"
   },
   {
    "duration": 9,
    "start_time": "2022-05-13T11:06:08.113Z"
   },
   {
    "duration": 56,
    "start_time": "2022-05-13T11:06:08.124Z"
   },
   {
    "duration": 29,
    "start_time": "2022-05-13T11:06:08.181Z"
   },
   {
    "duration": 7,
    "start_time": "2022-05-13T11:06:08.212Z"
   },
   {
    "duration": 15,
    "start_time": "2022-05-13T11:06:08.221Z"
   },
   {
    "duration": 9,
    "start_time": "2022-05-13T11:06:08.238Z"
   },
   {
    "duration": 26,
    "start_time": "2022-05-13T11:06:08.249Z"
   },
   {
    "duration": 26,
    "start_time": "2022-05-13T11:06:08.278Z"
   },
   {
    "duration": 6,
    "start_time": "2022-05-13T11:06:08.306Z"
   },
   {
    "duration": 9,
    "start_time": "2022-05-13T11:06:08.314Z"
   },
   {
    "duration": 718,
    "start_time": "2022-05-13T11:06:08.324Z"
   },
   {
    "duration": 4,
    "start_time": "2022-05-13T11:06:09.045Z"
   },
   {
    "duration": 673,
    "start_time": "2022-05-13T11:06:09.051Z"
   },
   {
    "duration": 759,
    "start_time": "2022-05-13T11:06:09.725Z"
   },
   {
    "duration": 725,
    "start_time": "2022-05-13T11:06:10.486Z"
   },
   {
    "duration": 25,
    "start_time": "2022-05-13T11:06:11.214Z"
   },
   {
    "duration": 713,
    "start_time": "2022-05-13T11:06:11.241Z"
   },
   {
    "duration": 53,
    "start_time": "2022-05-13T11:06:11.956Z"
   },
   {
    "duration": 3,
    "start_time": "2022-05-13T11:06:12.011Z"
   },
   {
    "duration": 20,
    "start_time": "2022-05-13T11:06:12.016Z"
   },
   {
    "duration": 15,
    "start_time": "2022-05-13T11:06:12.038Z"
   },
   {
    "duration": 38,
    "start_time": "2022-05-13T11:06:12.055Z"
   },
   {
    "duration": 29,
    "start_time": "2022-05-13T11:06:12.095Z"
   },
   {
    "duration": 22,
    "start_time": "2022-05-13T11:06:12.126Z"
   },
   {
    "duration": 58,
    "start_time": "2022-05-13T11:06:12.149Z"
   },
   {
    "duration": 15,
    "start_time": "2022-05-13T11:06:12.208Z"
   },
   {
    "duration": 1239,
    "start_time": "2022-05-13T14:58:45.082Z"
   },
   {
    "duration": 3,
    "start_time": "2022-05-13T15:00:08.669Z"
   },
   {
    "duration": 112,
    "start_time": "2022-05-13T15:00:22.474Z"
   },
   {
    "duration": 1283,
    "start_time": "2022-05-13T15:00:29.677Z"
   },
   {
    "duration": 3,
    "start_time": "2022-05-13T15:00:30.962Z"
   },
   {
    "duration": 479,
    "start_time": "2022-05-13T15:00:30.966Z"
   },
   {
    "duration": 29,
    "start_time": "2022-05-13T15:00:31.447Z"
   },
   {
    "duration": 46,
    "start_time": "2022-05-13T15:00:31.478Z"
   },
   {
    "duration": 24,
    "start_time": "2022-05-13T15:00:31.526Z"
   },
   {
    "duration": 133,
    "start_time": "2022-05-13T15:00:31.551Z"
   },
   {
    "duration": 23,
    "start_time": "2022-05-13T15:00:31.686Z"
   },
   {
    "duration": 37,
    "start_time": "2022-05-13T15:00:31.711Z"
   },
   {
    "duration": 32,
    "start_time": "2022-05-13T15:00:31.751Z"
   },
   {
    "duration": 97,
    "start_time": "2022-05-13T15:00:31.785Z"
   },
   {
    "duration": 20,
    "start_time": "2022-05-13T15:00:31.884Z"
   },
   {
    "duration": 28,
    "start_time": "2022-05-13T15:00:31.906Z"
   },
   {
    "duration": 80,
    "start_time": "2022-05-13T15:00:31.936Z"
   },
   {
    "duration": 11,
    "start_time": "2022-05-13T15:00:32.033Z"
   },
   {
    "duration": 13,
    "start_time": "2022-05-13T15:00:32.046Z"
   },
   {
    "duration": 18,
    "start_time": "2022-05-13T15:00:32.061Z"
   },
   {
    "duration": 13,
    "start_time": "2022-05-13T15:00:32.081Z"
   },
   {
    "duration": 7,
    "start_time": "2022-05-13T15:00:32.096Z"
   },
   {
    "duration": 314,
    "start_time": "2022-05-13T15:00:32.105Z"
   },
   {
    "duration": 12,
    "start_time": "2022-05-13T15:00:32.421Z"
   },
   {
    "duration": 11,
    "start_time": "2022-05-13T15:00:32.435Z"
   },
   {
    "duration": 59,
    "start_time": "2022-05-13T15:00:32.448Z"
   },
   {
    "duration": 61,
    "start_time": "2022-05-13T15:00:32.509Z"
   },
   {
    "duration": 36,
    "start_time": "2022-05-13T15:00:32.572Z"
   },
   {
    "duration": 5,
    "start_time": "2022-05-13T15:00:32.610Z"
   },
   {
    "duration": 3,
    "start_time": "2022-05-13T15:00:32.633Z"
   },
   {
    "duration": 14,
    "start_time": "2022-05-13T15:00:32.641Z"
   },
   {
    "duration": 37,
    "start_time": "2022-05-13T15:00:32.657Z"
   },
   {
    "duration": 19,
    "start_time": "2022-05-13T15:00:32.696Z"
   },
   {
    "duration": 24,
    "start_time": "2022-05-13T15:00:32.717Z"
   },
   {
    "duration": 3,
    "start_time": "2022-05-13T15:00:32.743Z"
   },
   {
    "duration": 12,
    "start_time": "2022-05-13T15:00:32.747Z"
   },
   {
    "duration": 22,
    "start_time": "2022-05-13T15:00:32.761Z"
   },
   {
    "duration": 150,
    "start_time": "2022-05-13T15:00:32.785Z"
   },
   {
    "duration": 13,
    "start_time": "2022-05-13T15:00:32.937Z"
   },
   {
    "duration": 103,
    "start_time": "2022-05-13T15:00:32.952Z"
   },
   {
    "duration": 64,
    "start_time": "2022-05-13T15:00:33.057Z"
   },
   {
    "duration": 12,
    "start_time": "2022-05-13T15:00:33.122Z"
   },
   {
    "duration": 11,
    "start_time": "2022-05-13T15:00:33.136Z"
   },
   {
    "duration": 20,
    "start_time": "2022-05-13T15:00:33.149Z"
   },
   {
    "duration": 10,
    "start_time": "2022-05-13T15:00:33.171Z"
   },
   {
    "duration": 24,
    "start_time": "2022-05-13T15:00:33.183Z"
   },
   {
    "duration": 26,
    "start_time": "2022-05-13T15:00:33.208Z"
   },
   {
    "duration": 16,
    "start_time": "2022-05-13T15:00:33.236Z"
   },
   {
    "duration": 5,
    "start_time": "2022-05-13T15:00:33.254Z"
   },
   {
    "duration": 14,
    "start_time": "2022-05-13T15:00:33.261Z"
   },
   {
    "duration": 8,
    "start_time": "2022-05-13T15:00:33.277Z"
   },
   {
    "duration": 9,
    "start_time": "2022-05-13T15:00:33.287Z"
   },
   {
    "duration": 49,
    "start_time": "2022-05-13T15:00:33.297Z"
   },
   {
    "duration": 8,
    "start_time": "2022-05-13T15:00:33.348Z"
   },
   {
    "duration": 10,
    "start_time": "2022-05-13T15:00:33.358Z"
   },
   {
    "duration": 13,
    "start_time": "2022-05-13T15:00:33.369Z"
   },
   {
    "duration": 10,
    "start_time": "2022-05-13T15:00:33.384Z"
   },
   {
    "duration": 43,
    "start_time": "2022-05-13T15:00:33.396Z"
   },
   {
    "duration": 21,
    "start_time": "2022-05-13T15:00:33.441Z"
   },
   {
    "duration": 5,
    "start_time": "2022-05-13T15:00:33.464Z"
   },
   {
    "duration": 17,
    "start_time": "2022-05-13T15:00:33.471Z"
   },
   {
    "duration": 47,
    "start_time": "2022-05-13T15:00:33.490Z"
   },
   {
    "duration": 9,
    "start_time": "2022-05-13T15:00:33.539Z"
   },
   {
    "duration": 7,
    "start_time": "2022-05-13T15:00:33.550Z"
   },
   {
    "duration": 5,
    "start_time": "2022-05-13T15:00:33.558Z"
   },
   {
    "duration": 8,
    "start_time": "2022-05-13T15:00:33.565Z"
   },
   {
    "duration": 765,
    "start_time": "2022-05-13T15:00:33.575Z"
   },
   {
    "duration": 5,
    "start_time": "2022-05-13T15:00:34.342Z"
   },
   {
    "duration": 663,
    "start_time": "2022-05-13T15:00:34.349Z"
   },
   {
    "duration": 941,
    "start_time": "2022-05-13T15:00:35.014Z"
   },
   {
    "duration": 644,
    "start_time": "2022-05-13T15:00:35.956Z"
   },
   {
    "duration": 31,
    "start_time": "2022-05-13T15:00:36.602Z"
   },
   {
    "duration": 905,
    "start_time": "2022-05-13T15:00:36.635Z"
   },
   {
    "duration": 34,
    "start_time": "2022-05-13T15:00:37.541Z"
   },
   {
    "duration": 3,
    "start_time": "2022-05-13T15:00:37.576Z"
   },
   {
    "duration": 9,
    "start_time": "2022-05-13T15:00:37.581Z"
   },
   {
    "duration": 7,
    "start_time": "2022-05-13T15:00:37.633Z"
   },
   {
    "duration": 9,
    "start_time": "2022-05-13T15:00:37.642Z"
   },
   {
    "duration": 7,
    "start_time": "2022-05-13T15:00:37.653Z"
   },
   {
    "duration": 12,
    "start_time": "2022-05-13T15:00:37.661Z"
   },
   {
    "duration": 9,
    "start_time": "2022-05-13T15:00:37.675Z"
   },
   {
    "duration": 8,
    "start_time": "2022-05-13T15:00:37.685Z"
   },
   {
    "duration": 8,
    "start_time": "2022-05-13T15:00:37.733Z"
   },
   {
    "duration": 9,
    "start_time": "2022-05-13T15:00:37.742Z"
   },
   {
    "duration": 4,
    "start_time": "2022-05-13T15:00:37.758Z"
   },
   {
    "duration": 129,
    "start_time": "2022-05-13T15:00:37.765Z"
   },
   {
    "duration": 0,
    "start_time": "2022-05-13T15:00:37.896Z"
   },
   {
    "duration": 0,
    "start_time": "2022-05-13T15:00:37.898Z"
   },
   {
    "duration": 0,
    "start_time": "2022-05-13T15:00:37.899Z"
   },
   {
    "duration": 0,
    "start_time": "2022-05-13T15:00:37.900Z"
   },
   {
    "duration": 1501,
    "start_time": "2022-05-13T15:01:34.999Z"
   },
   {
    "duration": 196,
    "start_time": "2022-05-13T15:01:49.906Z"
   },
   {
    "duration": 292,
    "start_time": "2022-05-13T15:02:25.803Z"
   },
   {
    "duration": 218,
    "start_time": "2022-05-13T15:02:36.234Z"
   },
   {
    "duration": 52,
    "start_time": "2022-05-13T15:02:39.579Z"
   },
   {
    "duration": 1349,
    "start_time": "2022-05-13T15:04:06.598Z"
   },
   {
    "duration": 4,
    "start_time": "2022-05-13T15:04:07.949Z"
   },
   {
    "duration": 447,
    "start_time": "2022-05-13T15:04:07.954Z"
   },
   {
    "duration": 29,
    "start_time": "2022-05-13T15:04:08.403Z"
   },
   {
    "duration": 35,
    "start_time": "2022-05-13T15:04:08.434Z"
   },
   {
    "duration": 22,
    "start_time": "2022-05-13T15:04:08.470Z"
   },
   {
    "duration": 144,
    "start_time": "2022-05-13T15:04:08.494Z"
   },
   {
    "duration": 24,
    "start_time": "2022-05-13T15:04:08.640Z"
   },
   {
    "duration": 19,
    "start_time": "2022-05-13T15:04:08.666Z"
   },
   {
    "duration": 63,
    "start_time": "2022-05-13T15:04:08.686Z"
   },
   {
    "duration": 88,
    "start_time": "2022-05-13T15:04:08.751Z"
   },
   {
    "duration": 21,
    "start_time": "2022-05-13T15:04:08.840Z"
   },
   {
    "duration": 16,
    "start_time": "2022-05-13T15:04:08.862Z"
   },
   {
    "duration": 104,
    "start_time": "2022-05-13T15:04:08.881Z"
   },
   {
    "duration": 12,
    "start_time": "2022-05-13T15:04:08.986Z"
   },
   {
    "duration": 12,
    "start_time": "2022-05-13T15:04:08.999Z"
   },
   {
    "duration": 26,
    "start_time": "2022-05-13T15:04:09.013Z"
   },
   {
    "duration": 12,
    "start_time": "2022-05-13T15:04:09.040Z"
   },
   {
    "duration": 7,
    "start_time": "2022-05-13T15:04:09.054Z"
   },
   {
    "duration": 320,
    "start_time": "2022-05-13T15:04:09.063Z"
   },
   {
    "duration": 6,
    "start_time": "2022-05-13T15:04:09.385Z"
   },
   {
    "duration": 11,
    "start_time": "2022-05-13T15:04:09.393Z"
   },
   {
    "duration": 80,
    "start_time": "2022-05-13T15:04:09.406Z"
   },
   {
    "duration": 54,
    "start_time": "2022-05-13T15:04:09.488Z"
   },
   {
    "duration": 36,
    "start_time": "2022-05-13T15:04:09.544Z"
   },
   {
    "duration": 4,
    "start_time": "2022-05-13T15:04:09.582Z"
   },
   {
    "duration": 9,
    "start_time": "2022-05-13T15:04:09.587Z"
   },
   {
    "duration": 9,
    "start_time": "2022-05-13T15:04:09.597Z"
   },
   {
    "duration": 45,
    "start_time": "2022-05-13T15:04:09.608Z"
   },
   {
    "duration": 18,
    "start_time": "2022-05-13T15:04:09.655Z"
   },
   {
    "duration": 16,
    "start_time": "2022-05-13T15:04:09.675Z"
   },
   {
    "duration": 3,
    "start_time": "2022-05-13T15:04:09.693Z"
   },
   {
    "duration": 9,
    "start_time": "2022-05-13T15:04:09.697Z"
   },
   {
    "duration": 18,
    "start_time": "2022-05-13T15:04:09.733Z"
   },
   {
    "duration": 156,
    "start_time": "2022-05-13T15:04:09.753Z"
   },
   {
    "duration": 12,
    "start_time": "2022-05-13T15:04:09.911Z"
   },
   {
    "duration": 87,
    "start_time": "2022-05-13T15:04:09.933Z"
   },
   {
    "duration": 75,
    "start_time": "2022-05-13T15:04:10.021Z"
   },
   {
    "duration": 3,
    "start_time": "2022-05-13T15:04:10.098Z"
   },
   {
    "duration": 31,
    "start_time": "2022-05-13T15:04:10.102Z"
   },
   {
    "duration": 9,
    "start_time": "2022-05-13T15:04:10.139Z"
   },
   {
    "duration": 9,
    "start_time": "2022-05-13T15:04:10.150Z"
   },
   {
    "duration": 22,
    "start_time": "2022-05-13T15:04:10.162Z"
   },
   {
    "duration": 8,
    "start_time": "2022-05-13T15:04:10.186Z"
   },
   {
    "duration": 43,
    "start_time": "2022-05-13T15:04:10.196Z"
   },
   {
    "duration": 5,
    "start_time": "2022-05-13T15:04:10.241Z"
   },
   {
    "duration": 11,
    "start_time": "2022-05-13T15:04:10.248Z"
   },
   {
    "duration": 10,
    "start_time": "2022-05-13T15:04:10.261Z"
   },
   {
    "duration": 9,
    "start_time": "2022-05-13T15:04:10.273Z"
   },
   {
    "duration": 20,
    "start_time": "2022-05-13T15:04:10.283Z"
   },
   {
    "duration": 35,
    "start_time": "2022-05-13T15:04:10.305Z"
   },
   {
    "duration": 9,
    "start_time": "2022-05-13T15:04:10.342Z"
   },
   {
    "duration": 11,
    "start_time": "2022-05-13T15:04:10.353Z"
   },
   {
    "duration": 7,
    "start_time": "2022-05-13T15:04:10.366Z"
   },
   {
    "duration": 33,
    "start_time": "2022-05-13T15:04:10.374Z"
   },
   {
    "duration": 44,
    "start_time": "2022-05-13T15:04:10.409Z"
   },
   {
    "duration": 4,
    "start_time": "2022-05-13T15:04:10.455Z"
   },
   {
    "duration": 19,
    "start_time": "2022-05-13T15:04:10.460Z"
   },
   {
    "duration": 9,
    "start_time": "2022-05-13T15:04:10.481Z"
   },
   {
    "duration": 42,
    "start_time": "2022-05-13T15:04:10.492Z"
   },
   {
    "duration": 7,
    "start_time": "2022-05-13T15:04:10.536Z"
   },
   {
    "duration": 5,
    "start_time": "2022-05-13T15:04:10.544Z"
   },
   {
    "duration": 7,
    "start_time": "2022-05-13T15:04:10.551Z"
   },
   {
    "duration": 749,
    "start_time": "2022-05-13T15:04:10.559Z"
   },
   {
    "duration": 5,
    "start_time": "2022-05-13T15:04:11.310Z"
   },
   {
    "duration": 688,
    "start_time": "2022-05-13T15:04:11.316Z"
   },
   {
    "duration": 797,
    "start_time": "2022-05-13T15:04:12.006Z"
   },
   {
    "duration": 763,
    "start_time": "2022-05-13T15:04:12.805Z"
   },
   {
    "duration": 29,
    "start_time": "2022-05-13T15:04:13.569Z"
   },
   {
    "duration": 798,
    "start_time": "2022-05-13T15:04:13.599Z"
   },
   {
    "duration": 42,
    "start_time": "2022-05-13T15:04:14.399Z"
   },
   {
    "duration": 3,
    "start_time": "2022-05-13T15:04:14.443Z"
   },
   {
    "duration": 5,
    "start_time": "2022-05-13T15:04:14.448Z"
   },
   {
    "duration": 9,
    "start_time": "2022-05-13T15:04:14.455Z"
   },
   {
    "duration": 5,
    "start_time": "2022-05-13T15:04:14.466Z"
   },
   {
    "duration": 10,
    "start_time": "2022-05-13T15:04:14.472Z"
   },
   {
    "duration": 10,
    "start_time": "2022-05-13T15:04:14.484Z"
   },
   {
    "duration": 19,
    "start_time": "2022-05-13T15:04:14.495Z"
   },
   {
    "duration": 21,
    "start_time": "2022-05-13T15:04:14.533Z"
   },
   {
    "duration": 7,
    "start_time": "2022-05-13T15:04:14.556Z"
   },
   {
    "duration": 6,
    "start_time": "2022-05-13T15:04:14.565Z"
   },
   {
    "duration": 7,
    "start_time": "2022-05-13T15:04:14.573Z"
   },
   {
    "duration": 1480,
    "start_time": "2022-05-13T15:04:14.582Z"
   },
   {
    "duration": 207,
    "start_time": "2022-05-13T15:04:16.064Z"
   },
   {
    "duration": 205,
    "start_time": "2022-05-13T15:04:16.273Z"
   },
   {
    "duration": 193,
    "start_time": "2022-05-13T15:04:16.480Z"
   },
   {
    "duration": 150,
    "start_time": "2022-05-13T15:04:16.676Z"
   },
   {
    "duration": 1619,
    "start_time": "2022-05-14T15:30:11.956Z"
   },
   {
    "duration": 787,
    "start_time": "2022-05-14T15:30:13.578Z"
   },
   {
    "duration": 146,
    "start_time": "2022-05-14T15:30:17.616Z"
   },
   {
    "duration": 419,
    "start_time": "2022-05-14T15:30:25.292Z"
   },
   {
    "duration": 522,
    "start_time": "2022-05-14T15:30:53.673Z"
   },
   {
    "duration": 161,
    "start_time": "2022-05-14T15:31:14.162Z"
   },
   {
    "duration": 312,
    "start_time": "2022-05-14T15:31:43.719Z"
   },
   {
    "duration": 855,
    "start_time": "2022-05-14T15:32:20.088Z"
   },
   {
    "duration": 725,
    "start_time": "2022-05-14T15:32:29.758Z"
   },
   {
    "duration": 3386,
    "start_time": "2022-05-14T15:32:53.823Z"
   }
  ],
  "kernelspec": {
   "display_name": "Python 3 (ipykernel)",
   "language": "python",
   "name": "python3"
  },
  "language_info": {
   "codemirror_mode": {
    "name": "ipython",
    "version": 3
   },
   "file_extension": ".py",
   "mimetype": "text/x-python",
   "name": "python",
   "nbconvert_exporter": "python",
   "pygments_lexer": "ipython3",
   "version": "3.9.7"
  },
  "toc": {
   "base_numbering": 1,
   "nav_menu": {
    "height": "69.63235473632812px",
    "width": "390px"
   },
   "number_sections": true,
   "sideBar": true,
   "skip_h1_title": false,
   "title_cell": "Table of Contents",
   "title_sidebar": "Contents",
   "toc_cell": false,
   "toc_position": {},
   "toc_section_display": true,
   "toc_window_display": true
  }
 },
 "nbformat": 4,
 "nbformat_minor": 5
}
